{
 "cells": [
  {
   "cell_type": "code",
   "execution_count": 1,
   "id": "dad481cd-b37d-48a6-a249-544d3757e463",
   "metadata": {},
   "outputs": [],
   "source": [
    "import matplotlib.pyplot as plt\n",
    "import numpy as np\n",
    "from astropy.table import Table"
   ]
  },
  {
   "cell_type": "code",
   "execution_count": 3,
   "id": "d8de56aa-461c-4fa3-8005-ceaae9e7cccc",
   "metadata": {},
   "outputs": [],
   "source": [
    "inpath = '/sps/lsst/groups/clusters/cluster_comparison_project/after_matching/amico.cosmoDC2.fzb_cosmoDC2/magy_v0/proximity_matching_deltaz_0.05_matchradius_1mpc/'"
   ]
  },
  {
   "cell_type": "code",
   "execution_count": 4,
   "id": "dd664d11-652f-49e0-944f-ac9fad8630b9",
   "metadata": {},
   "outputs": [],
   "source": [
    "c_merged = Table.read(inpath + 'output_catalog_12.fits')"
   ]
  },
  {
   "cell_type": "code",
   "execution_count": 5,
   "id": "3bb4d77b-55f3-4237-95e3-980de6f0c175",
   "metadata": {
    "collapsed": true,
    "jupyter": {
     "outputs_hidden": true
    },
    "tags": []
   },
   "outputs": [
    {
     "data": {
      "text/html": [
       "<div><i>Table length=131133</i>\n",
       "<table id=\"table139796579285936\" class=\"table-striped table-bordered table-condensed\">\n",
       "<thead><tr><th>cat1_id_cl</th><th>cat1_ra_cl</th><th>cat1_dec_cl</th><th>cat1_z_cl</th><th>cat1_mass</th><th>cat1_log10_mass</th><th>cat1_mt_self</th><th>cat1_mt_other</th><th>cat1_mt_multi_self</th><th>cat1_mt_multi_other</th><th>cat1_mt_cross</th><th>cat2_id_cl</th><th>cat2_ra_cl</th><th>cat2_dec_cl</th><th>cat2_z_cl</th><th>cat2_mass</th><th>cat2_mt_self</th><th>cat2_mt_other</th><th>cat2_mt_multi_self</th><th>cat2_mt_multi_other</th><th>cat2_mt_cross</th><th>cat2_snr_cl</th></tr></thead>\n",
       "<thead><tr><th>bytes21</th><th>float64</th><th>float64</th><th>float64</th><th>float64</th><th>float64</th><th>bytes6</th><th>bytes6</th><th>bytes35</th><th>bytes35</th><th>bytes6</th><th>bytes11</th><th>float64</th><th>float64</th><th>float32</th><th>float64</th><th>bytes13</th><th>bytes13</th><th>bytes134</th><th>bytes134</th><th>bytes13</th><th>float64</th></tr></thead>\n",
       "<tr><td>2700020475</td><td>49.466814189348334</td><td>-25.960541211222015</td><td>0.04615640640258789</td><td>15062094204754.93</td><td>13.177885359536557</td><td>47005</td><td>47005</td><td>47005</td><td>47005</td><td>47005</td><td>47005</td><td>49.77761</td><td>-25.982718</td><td>0.14</td><td>5.8253023</td><td>2700020475</td><td>2700020475</td><td>2700020475</td><td>2700020475</td><td>2700020475</td><td>3.5901051</td></tr>\n",
       "<tr><td>17200020453</td><td>50.16585579512233</td><td>-25.259404686564693</td><td>0.08653247356414795</td><td>20441971397588.734</td><td>13.310522776287003</td><td>47239</td><td>47239</td><td>47239</td><td>47239</td><td>47239</td><td>47239</td><td>50.2422</td><td>-25.109713</td><td>0.2</td><td>7.6546604</td><td>17200020453</td><td>17200020453</td><td>17200020453</td><td>17200020453</td><td>17200020453</td><td>3.3490838</td></tr>\n",
       "<tr><td>19800020453</td><td>50.691634217578326</td><td>-26.88681304144144</td><td>0.08739697933197021</td><td>71624983358738.03</td><td>13.855064534072003</td><td>47220</td><td>47220</td><td>47220,47345</td><td>47220,47345</td><td>47220</td><td>47220</td><td>50.746339</td><td>-26.945208</td><td>0.02</td><td>0.0</td><td>19800020453</td><td>19800020453</td><td>53300020442,19800020453,1600020475,67600029442,33300020442</td><td>53300020442,19800020453,1600020475,67600029442,33300020442</td><td>19800020453</td><td>3.3654899</td></tr>\n",
       "<tr><td>33300020442</td><td>50.315518939516316</td><td>-26.69559169836869</td><td>0.108817458152771</td><td>29876928281239.438</td><td>13.475335944579681</td><td>47077</td><td>47077</td><td>47077,47220</td><td>47077,47220</td><td>47077</td><td>47077</td><td>50.315205</td><td>-26.694898</td><td>0.12</td><td>10.466712</td><td>33300020442</td><td>33300020442</td><td>229000020411,33300020442</td><td>229000020411,33300020442</td><td>33300020442</td><td>3.505307</td></tr>\n",
       "<tr><td>39000020442</td><td>51.41402906507129</td><td>-26.182458884534647</td><td>0.10941541194915771</td><td>35199544363267.61</td><td>13.546537041836103</td><td>47266</td><td>47266</td><td>46858,47266</td><td>46858,47266</td><td>47266</td><td>47266</td><td>51.536345</td><td>-26.122469</td><td>0.21</td><td>8.2495775</td><td>39000020442</td><td>39000020442</td><td>39000020442</td><td>39000020442</td><td>39000020442</td><td>3.331116</td></tr>\n",
       "<tr><td>52100020442</td><td>51.30452190097757</td><td>-26.069741290019206</td><td>0.10782098770141602</td><td>21053617593329.58</td><td>13.323326730377568</td><td>46930</td><td>46930</td><td>46930</td><td>46930</td><td>46930</td><td>46930</td><td>51.307712</td><td>-26.068701</td><td>0.12</td><td>12.794567</td><td>52100020442</td><td>52100020442</td><td>52100020442</td><td>52100020442</td><td>52100020442</td><td>3.6725109</td></tr>\n",
       "<tr><td>53300020442</td><td>51.05006597843117</td><td>-26.781092495739784</td><td>0.1138296127319336</td><td>42042164399954.93</td><td>13.623685066127866</td><td>58880</td><td>58880</td><td>47220,58880,46828</td><td>47220,58880,46828</td><td>58880</td><td>58880</td><td>51.051894</td><td>-26.886394</td><td>0.2</td><td>13.400517</td><td>53300020442</td><td>53300020442</td><td>149700020411,53300020442</td><td>149700020411,53300020442</td><td>53300020442</td><td>3.7969914</td></tr>\n",
       "<tr><td>28800020432</td><td>50.48012643219498</td><td>-26.605640030757588</td><td>0.146581768989563</td><td>14838258673577.465</td><td>13.171382937814364</td><td>47637</td><td>47637</td><td>47637</td><td>47637</td><td>47637</td><td>47637</td><td>50.477613</td><td>-26.605164</td><td>0.16</td><td>7.5488233</td><td>28800020432</td><td>28800020432</td><td>28800020432</td><td>28800020432</td><td>28800020432</td><td>3.0708008</td></tr>\n",
       "<tr><td>46400020432</td><td>50.7923526455499</td><td>-25.689394777025516</td><td>0.14877498149871826</td><td>18255665330839.438</td><td>13.261397665510712</td><td>46830</td><td>46830</td><td>46830</td><td>46830</td><td>46830</td><td>46830</td><td>50.778462</td><td>-25.69518</td><td>0.18</td><td>9.0744</td><td>46400020432</td><td>46400020432</td><td>46400020432,27200020392</td><td>46400020432,27200020392</td><td>46400020432</td><td>3.7846974</td></tr>\n",
       "<tr><td>61100020432</td><td>50.61917166149523</td><td>-25.21838558492891</td><td>0.13511693477630615</td><td>42986963867042.26</td><td>13.633336772347672</td><td>46503</td><td>46503</td><td>46503,47533</td><td>47533,46503</td><td>46503</td><td>46503</td><td>50.628679</td><td>-25.215249</td><td>0.14</td><td>22.986462</td><td>61100020432</td><td>61100020432</td><td>33700020401,88700020401,33400020442,61100020432</td><td>33700020401,33400020442,61100020432,88700020401</td><td>61100020432</td><td>4.8381376</td></tr>\n",
       "<tr><td>...</td><td>...</td><td>...</td><td>...</td><td>...</td><td>...</td><td>...</td><td>...</td><td>...</td><td>...</td><td>...</td><td>...</td><td>...</td><td>...</td><td>...</td><td>...</td><td>...</td><td>...</td><td>...</td><td>...</td><td>...</td><td>...</td></tr>\n",
       "<tr><td>1762200193189</td><td>72.85951058382665</td><td>-43.996606888779674</td><td>1.5706748962402344</td><td>43775596399774.65</td><td>13.64123207163422</td><td>46094</td><td>46094</td><td>46094</td><td>46094</td><td>46094</td><td>46094</td><td>72.857376</td><td>-43.992577</td><td>1.59</td><td>15.353901</td><td>1762200193189</td><td>1762200193189</td><td>1762200193189</td><td>1762200193189</td><td>1762200193189</td><td>3.2234343</td></tr>\n",
       "<tr><td>2952200193189</td><td>74.10533796982573</td><td>-45.007339110398014</td><td>1.5747356414794922</td><td>16597714557476.057</td><td>13.220048291449135</td><td>46182</td><td>46182</td><td>46182</td><td>46182</td><td>46182</td><td>46182</td><td>74.1332</td><td>-45.027742</td><td>1.35</td><td>14.512418</td><td>2952200193189</td><td>2952200193189</td><td>2952200193189</td><td>2952200193189</td><td>2952200193189</td><td>3.1524949</td></tr>\n",
       "<tr><td>5186500193189</td><td>73.96962291958444</td><td>-44.66770627186482</td><td>1.588371753692627</td><td>15233876060304.227</td><td>13.182810417940777</td><td>46292</td><td>46292</td><td>46292</td><td>46292</td><td>46292</td><td>46292</td><td>73.967594</td><td>-44.668521</td><td>1.59</td><td>18.216232</td><td>5186500193189</td><td>5186500193189</td><td>5186500193189</td><td>5186500193189</td><td>5186500193189</td><td>3.0820956</td></tr>\n",
       "<tr><td>2486500193184</td><td>72.59445981403981</td><td>-44.83577058414216</td><td>1.6590757369995117</td><td>17711690685656.34</td><td>13.248260019146345</td><td>45869</td><td>45869</td><td>45869</td><td>45869</td><td>45869</td><td>45869</td><td>72.593996</td><td>-44.835803</td><td>1.67</td><td>17.344048</td><td>2486500193184</td><td>2486500193184</td><td>2486500193184,4968100193184,2445000193184</td><td>2486500193184,4968100193184,2445000193184</td><td>2486500193184</td><td>3.4471869</td></tr>\n",
       "<tr><td>3153100193184</td><td>74.73067848939317</td><td>-44.87544797163471</td><td>1.642120122909546</td><td>380883328447098.6</td><td>14.580791963677262</td><td>45402</td><td>45402</td><td>45402</td><td>45402</td><td>45402</td><td>45402</td><td>74.724313</td><td>-44.877972</td><td>1.68</td><td>30.371196</td><td>3153100193184</td><td>3153100193184</td><td>2759000193184,2725100193180,3153100193184,5092000193184</td><td>2759000193184,2725100193180,3153100193184,5092000193184</td><td>3153100193184</td><td>4.180282</td></tr>\n",
       "<tr><td>6173800193184</td><td>72.27165137942131</td><td>-44.87416920512944</td><td>1.6608707904815674</td><td>55532200974422.54</td><td>13.74454488672853</td><td>46326</td><td>46326</td><td>46326</td><td>46326</td><td>46326</td><td>46326</td><td>72.275886</td><td>-44.872822</td><td>1.68</td><td>17.11785</td><td>6173800193184</td><td>6173800193184</td><td>6173800193184,6177600193184</td><td>6173800193184,6177600193184</td><td>6173800193184</td><td>3.0472347</td></tr>\n",
       "<tr><td>396700193176</td><td>72.75821703653267</td><td>-44.74655395214561</td><td>1.7623505592346191</td><td>44285733054377.47</td><td>13.64626383787768</td><td>46365</td><td>46365</td><td>46365</td><td>46365</td><td>46365</td><td>46365</td><td>72.757333</td><td>-44.746988</td><td>1.76</td><td>14.229003</td><td>396700193176</td><td>396700193176</td><td>396700193176</td><td>396700193176</td><td>396700193176</td><td>3.0189217</td></tr>\n",
       "<tr><td>3296500193176</td><td>73.76488426572838</td><td>-44.67165730822501</td><td>1.7695472240447998</td><td>18060458878197.184</td><td>13.256728780625169</td><td>45897</td><td>45897</td><td>45897</td><td>45897</td><td>45897</td><td>45897</td><td>73.777845</td><td>-44.68413</td><td>1.6</td><td>12.761967</td><td>3296500193176</td><td>3296500193176</td><td>4721500193180,3296500193176</td><td>4721500193180,3296500193176</td><td>3296500193176</td><td>3.414577</td></tr>\n",
       "<tr><td>2656800193171</td><td>73.98387810787018</td><td>-44.480330054078095</td><td>1.8538222312927246</td><td>17753333921532.395</td><td>13.249279921772198</td><td>46085</td><td>46085</td><td>46085</td><td>46085</td><td>46085</td><td>46085</td><td>73.987101</td><td>-44.478437</td><td>1.59</td><td>18.195554</td><td>2656800193171</td><td>2656800193171</td><td>2656800193171,4741700193189,5597200193180</td><td>5597200193180,4741700193189,2656800193171</td><td>2656800193171</td><td>3.2300532</td></tr>\n",
       "<tr><td>3525300193159</td><td>73.49968618242426</td><td>-44.64843849623942</td><td>2.0401880741119385</td><td>14916340663887.324</td><td>13.173662293350908</td><td>45515</td><td>45515</td><td>45515</td><td>45515</td><td>45515</td><td>45515</td><td>73.517641</td><td>-44.639451</td><td>1.81</td><td>5.3490819</td><td>3525300193159</td><td>3525300193159</td><td>3525300193159,2083700193189,4172400193189</td><td>3525300193159,2083700193189,4172400193189</td><td>3525300193159</td><td>3.9513858</td></tr>\n",
       "</table></div>"
      ],
      "text/plain": [
       "<Table length=131133>\n",
       "  cat1_id_cl      cat1_ra_cl     ... cat2_mt_cross cat2_snr_cl\n",
       "   bytes21         float64       ...    bytes13      float64  \n",
       "------------- ------------------ ... ------------- -----------\n",
       "   2700020475 49.466814189348334 ...    2700020475   3.5901051\n",
       "  17200020453  50.16585579512233 ...   17200020453   3.3490838\n",
       "  19800020453 50.691634217578326 ...   19800020453   3.3654899\n",
       "  33300020442 50.315518939516316 ...   33300020442    3.505307\n",
       "  39000020442  51.41402906507129 ...   39000020442    3.331116\n",
       "  52100020442  51.30452190097757 ...   52100020442   3.6725109\n",
       "  53300020442  51.05006597843117 ...   53300020442   3.7969914\n",
       "  28800020432  50.48012643219498 ...   28800020432   3.0708008\n",
       "  46400020432   50.7923526455499 ...   46400020432   3.7846974\n",
       "  61100020432  50.61917166149523 ...   61100020432   4.8381376\n",
       "          ...                ... ...           ...         ...\n",
       "1762200193189  72.85951058382665 ... 1762200193189   3.2234343\n",
       "2952200193189  74.10533796982573 ... 2952200193189   3.1524949\n",
       "5186500193189  73.96962291958444 ... 5186500193189   3.0820956\n",
       "2486500193184  72.59445981403981 ... 2486500193184   3.4471869\n",
       "3153100193184  74.73067848939317 ... 3153100193184    4.180282\n",
       "6173800193184  72.27165137942131 ... 6173800193184   3.0472347\n",
       " 396700193176  72.75821703653267 ...  396700193176   3.0189217\n",
       "3296500193176  73.76488426572838 ... 3296500193176    3.414577\n",
       "2656800193171  73.98387810787018 ... 2656800193171   3.2300532\n",
       "3525300193159  73.49968618242426 ... 3525300193159   3.9513858"
      ]
     },
     "execution_count": 5,
     "metadata": {},
     "output_type": "execute_result"
    }
   ],
   "source": [
    "c_merged"
   ]
  },
  {
   "cell_type": "code",
   "execution_count": 13,
   "id": "a0f8f4ce-53ab-42c5-b661-1d25f96cc8a5",
   "metadata": {},
   "outputs": [
    {
     "data": {
      "text/plain": [
       "(10000000000000, 1000000000000000)"
      ]
     },
     "execution_count": 13,
     "metadata": {},
     "output_type": "execute_result"
    },
    {
     "data": {
      "image/png": "[encoded data removed]",
      "text/plain": [
       "<Figure size 640x480 with 1 Axes>"
      ]
     },
     "metadata": {},
     "output_type": "display_data"
    }
   ],
   "source": [
    "plt.hist(c_merged['cat1_mass'], bins = np.logspace(13,15,50))\n",
    "plt.xscale('log')\n",
    "plt.xlabel('mass')\n",
    "plt.ylabel(\"Number of clusters\")\n",
    "plt.xlim([10**13,10**15])"
   ]
  },
  {
   "cell_type": "code",
   "execution_count": 14,
   "id": "84b6ff03-b805-489a-9f72-ee6ba16b32d7",
   "metadata": {},
   "outputs": [],
   "source": [
    "cut = c_merged[c_merged['cat1_log10_mass']>14]"
   ]
  },
  {
   "cell_type": "code",
   "execution_count": 17,
   "id": "1d92c6bf-0afb-4c5e-b2e2-239e9598c46f",
   "metadata": {},
   "outputs": [],
   "source": [
    "p1 = len(cut)/len(c_merged)*100"
   ]
  },
  {
   "cell_type": "code",
   "execution_count": 18,
   "id": "a269e835-7208-4a75-8cfa-91fcf5666f4c",
   "metadata": {},
   "outputs": [
    {
     "data": {
      "text/plain": [
       "4.617449459708845"
      ]
     },
     "execution_count": 18,
     "metadata": {},
     "output_type": "execute_result"
    }
   ],
   "source": [
    "p1"
   ]
  },
  {
   "cell_type": "code",
   "execution_count": null,
   "id": "6b7eb535-bea8-4785-aaa6-b6ddf5c0312d",
   "metadata": {},
   "outputs": [],
   "source": []
  }
 ],
 "metadata": {
  "kernelspec": {
   "display_name": "desc",
   "language": "python",
   "name": "desc"
  },
  "language_info": {
   "codemirror_mode": {
    "name": "ipython",
    "version": 3
   },
   "file_extension": ".py",
   "mimetype": "text/x-python",
   "name": "python",
   "nbconvert_exporter": "python",
   "pygments_lexer": "ipython3",
   "version": "3.10.8"
  }
 },
 "nbformat": 4,
 "nbformat_minor": 5
}
