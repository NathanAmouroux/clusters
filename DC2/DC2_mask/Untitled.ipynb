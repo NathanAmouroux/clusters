{
 "cells": [
  {
   "cell_type": "code",
   "execution_count": 2,
   "id": "be366064-0bdc-4ff7-b546-9edacb1d5384",
   "metadata": {},
   "outputs": [],
   "source": [
    "## Bright star masks\n",
    "from matplotlib import pylab as plt\n",
    "\n",
    "from astropy.io import fits\n",
    "import numpy as np\n",
    "import os, glob\n",
    "from astropy.table import Table"
   ]
  },
  {
   "cell_type": "code",
   "execution_count": 3,
   "id": "73467057-6526-4f70-b777-99429c8b60d7",
   "metadata": {},
   "outputs": [],
   "source": [
    "inpath = \"/sps/lsst/users/boutigny/bright_star_maps/bo_mask_4096.fits\"\n",
    "masks = Table.read(inpath)"
   ]
  },
  {
   "cell_type": "code",
   "execution_count": 4,
   "id": "7103cacb-c759-4721-8ffb-f5d31ae2c0d2",
   "metadata": {
    "tags": []
   },
   "outputs": [],
   "source": [
    "inpath = \"/sps/lsst/users/boutigny/bright_star_maps/bo_msk_frac_4096.fits\"\n",
    "masks_frac = Table.read(inpath)"
   ]
  },
  {
   "cell_type": "code",
   "execution_count": 5,
   "id": "93ce1607-d4ad-4a93-9cb2-86bc15cf02b3",
   "metadata": {},
   "outputs": [],
   "source": [
    "m = np.array(masks['T'])\n",
    "m_frac = np.array(masks_frac['T'])"
   ]
  },
  {
   "cell_type": "code",
   "execution_count": 6,
   "id": "1ab5ead2-defb-42da-960a-9a39f74aa124",
   "metadata": {},
   "outputs": [
    {
     "data": {
      "text/plain": [
       "1024"
      ]
     },
     "execution_count": 6,
     "metadata": {},
     "output_type": "execute_result"
    }
   ],
   "source": [
    "len(m_frac[0])"
   ]
  },
  {
   "cell_type": "code",
   "execution_count": 7,
   "id": "55d0b4dd-2b51-40b7-9cf4-a7cef05f3e1b",
   "metadata": {},
   "outputs": [
    {
     "data": {
      "text/plain": [
       "<matplotlib.image.AxesImage at 0x7f5474eec5b0>"
      ]
     },
     "execution_count": 7,
     "metadata": {},
     "output_type": "execute_result"
    },
    {
     "data": {
      "image/png": "[encoded data removed]",
      "text/plain": [
       "<Figure size 432x288 with 1 Axes>"
      ]
     },
     "metadata": {
      "needs_background": "light"
     },
     "output_type": "display_data"
    }
   ],
   "source": [
    "plt.imshow(m_frac)"
   ]
  },
  {
   "cell_type": "code",
   "execution_count": null,
   "id": "605a6ba9-e56f-4a8b-92fd-8a1870479812",
   "metadata": {},
   "outputs": [],
   "source": []
  }
 ],
 "metadata": {
  "kernelspec": {
   "display_name": "lsst_distrib_v23.0.1",
   "language": "python",
   "name": "lsst_distrib_last"
  },
  "language_info": {
   "codemirror_mode": {
    "name": "ipython",
    "version": 3
   },
   "file_extension": ".py",
   "mimetype": "text/x-python",
   "name": "python",
   "nbconvert_exporter": "python",
   "pygments_lexer": "ipython3",
   "version": "3.8.13"
  }
 },
 "nbformat": 4,
 "nbformat_minor": 5
}
