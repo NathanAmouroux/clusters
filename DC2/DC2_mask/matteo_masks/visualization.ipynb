{
 "cells": [
  {
   "cell_type": "code",
   "execution_count": 73,
   "id": "954e5ac0-7350-475c-bd72-10ad60492e9e",
   "metadata": {},
   "outputs": [],
   "source": [
    "from matplotlib import pylab as plt\n",
    "\n",
    "import lsst.daf.persistence as dp\n",
    "import lsst.afw.display as display\n",
    "import lsst.afw.display.rgb as rgb\n",
    "import lsst.geom as geom\n",
    "from astropy.io import fits\n",
    "import numpy as np\n",
    "import os, glob\n",
    "from astropy.table import Table\n",
    "from astropy.io import fits"
   ]
  },
  {
   "cell_type": "code",
   "execution_count": 74,
   "id": "866fc435-4f4f-4c86-9db6-f3094cbf6f5d",
   "metadata": {},
   "outputs": [],
   "source": [
    "inpath = \"/sps/lsst/groups/clusters/amico_validation_project/catalogs/AMICO/raw_amico_cats/DC2_v0_yband/masks/output/MASK/\"\n",
    "\n",
    "raw = fits.open(inpath + \"3830_mask_binary.fits\")\n",
    "buff = fits.open(inpath + \"3830_mask_binary_buffer.fits\")"
   ]
  },
  {
   "cell_type": "code",
   "execution_count": 75,
   "id": "e52f01b0-68da-4e81-b3c4-7a4c801881f9",
   "metadata": {},
   "outputs": [
    {
     "name": "stdout",
     "output_type": "stream",
     "text": [
      "Filename: /sps/lsst/groups/clusters/amico_validation_project/catalogs/AMICO/raw_amico_cats/DC2_v0_yband/masks/output/MASK/3830_mask_binary.fits\n",
      "No.    Name      Ver    Type      Cards   Dimensions   Format\n",
      "  0  PRIMARY       1 PrimaryHDU      33   (374, 378)   float32   \n"
     ]
    }
   ],
   "source": [
    "raw.info()"
   ]
  },
  {
   "cell_type": "code",
   "execution_count": 76,
   "id": "b9ee6301-9d8f-453a-b12a-d9ab0414ed62",
   "metadata": {
    "tags": []
   },
   "outputs": [
    {
     "data": {
      "text/plain": [
       "SIMPLE  =                    T / file does conform to FITS standard             \n",
       "BITPIX  =                  -32 / number of bits per data pixel                  \n",
       "NAXIS   =                    2 / number of data axes                            \n",
       "NAXIS1  =                  374 / length of data axis 1                          \n",
       "NAXIS2  =                  378 / length of data axis 2                          \n",
       "EXTEND  =                    T / FITS dataset may contain extensions            \n",
       "COMMENT   FITS (Flexible Image Transport System) format is defined in 'Astronomy\n",
       "COMMENT   and Astrophysics', volume 376, page 359; bibcode: 2001A&A...376..359H \n",
       "WCSAXES =                    2 / number of World Coordinate System axes         \n",
       "RADESYS = 'FK5     '           / TSTRING                                        \n",
       "EQUINOX =                2000. / TDOUBLE                                        \n",
       "CUNIT1  = 'deg     '           / TSTRING                                        \n",
       "CTYPE1  = 'RA---ZEA'           / WCS coordinate type                            \n",
       "CRPIX1  =                  188 / WCS reference pixel 1-th bin                   \n",
       "CRVAL1  =     60.3070681827033 / WCS center of the of the first 1-th bin        \n",
       "CDELT1  =                0.005 / WCS step of the 1-th bin                       \n",
       "NAME_1  = 'RA---ZEA'           / name of the 1-th bin                           \n",
       "NUMBER_1=                  374 / number of elements of the 1-th bin             \n",
       "START_1 =     59.3695681827033 / start of the 1-th bin                          \n",
       "CENTER_1=     60.3045681827032 / center of the 1-th bin                         \n",
       "END_1   =     61.2395681827033 / end of the 1-th bin                            \n",
       "STEP_1  =                0.005 / step of the 1-th bin                           \n",
       "CTYPE2  = 'DEC--ZEA'           / WCS coordinate type                            \n",
       "CUNIT2  = 'deg     '           / TSTRING                                        \n",
       "CRPIX2  =                  190 / WCS reference pixel 2-th bin                   \n",
       "CRVAL2  =    -36.4437812721422 / WCS center of the of the first 2-th bin        \n",
       "CDELT2  =                0.005 / WCS step of the 2-th bin                       \n",
       "NAME_2  = 'DEC--ZEA'           / name of the 2-th bin                           \n",
       "NUMBER_2=                  378 / number of elements of the 2-th bin             \n",
       "START_2 =    -37.3912812721422 / start of the 2-th bin                          \n",
       "CENTER_2=    -36.4462812721422 / center of the 2-th bin                         \n",
       "END_2   =    -35.5012812721422 / end of the 2-th bin                            \n",
       "STEP_2  =                0.005 / step of the 2-th bin                           "
      ]
     },
     "execution_count": 76,
     "metadata": {},
     "output_type": "execute_result"
    }
   ],
   "source": [
    "raw[0].header"
   ]
  },
  {
   "cell_type": "code",
   "execution_count": 77,
   "id": "c8c76d0f-6fe1-44c9-a126-8c20b504a6b1",
   "metadata": {},
   "outputs": [],
   "source": [
    "def get_mask(fitsfile):\n",
    "    ra_min, ra_max, step1 = fitsfile[0].header[\"START_1\"], fitsfile[0].header[\"END_1\"], fitsfile[0].header[\"STEP_1\"]\n",
    "    n_bin1 = int((ra_max-ra_min)/step1)\n",
    "    dec_min, dec_max, step2 = fitsfile[0].header[\"START_2\"], fitsfile[0].header[\"END_2\"], fitsfile[0].header[\"STEP_2\"]\n",
    "    n_bin2 = int((dec_max-dec_min)/step2)\n",
    "    extent = [ra_min, ra_max, dec_max, dec_min]\n",
    "    data = fitsfile[0].data\n",
    "    return data, extent"
   ]
  },
  {
   "cell_type": "code",
   "execution_count": 78,
   "id": "352679cb-4a2f-49ef-a945-225583ca6350",
   "metadata": {},
   "outputs": [],
   "source": [
    "mask_raw, extent_raw = get_mask(raw)"
   ]
  },
  {
   "cell_type": "code",
   "execution_count": 79,
   "id": "7ed338ef-ecd7-475e-999d-f58c9abdff0b",
   "metadata": {
    "tags": []
   },
   "outputs": [
    {
     "data": {
      "text/plain": [
       "<matplotlib.image.AxesImage at 0x7f09669f9490>"
      ]
     },
     "execution_count": 79,
     "metadata": {},
     "output_type": "execute_result"
    },
    {
     "data": {
      "image/png": "[encoded data removed]",
      "text/plain": [
       "<Figure size 720x720 with 1 Axes>"
      ]
     },
     "metadata": {
      "needs_background": "light"
     },
     "output_type": "display_data"
    }
   ],
   "source": [
    "plt.figure(figsize=(10,10))\n",
    "plt.imshow(mask_raw, extent = extent_raw)"
   ]
  },
  {
   "cell_type": "code",
   "execution_count": 80,
   "id": "65829312-3df9-45a5-b157-e89b468aa922",
   "metadata": {},
   "outputs": [],
   "source": [
    "mask1, extent1 = get_mask(buff)"
   ]
  },
  {
   "cell_type": "code",
   "execution_count": 81,
   "id": "7918ba18-7ce2-4d68-8ccb-a507aac0c402",
   "metadata": {},
   "outputs": [
    {
     "data": {
      "text/plain": [
       "<matplotlib.image.AxesImage at 0x7f09668d9580>"
      ]
     },
     "execution_count": 81,
     "metadata": {},
     "output_type": "execute_result"
    },
    {
     "data": {
      "image/png": "[encoded data removed]",
      "text/plain": [
       "<Figure size 720x720 with 1 Axes>"
      ]
     },
     "metadata": {
      "needs_background": "light"
     },
     "output_type": "display_data"
    }
   ],
   "source": [
    "plt.figure(figsize=(10,10))\n",
    "plt.imshow(mask1, extent = extent1)"
   ]
  },
  {
   "cell_type": "code",
   "execution_count": 82,
   "id": "7d27b218-b55b-40d6-b471-aa991e8c21b2",
   "metadata": {},
   "outputs": [],
   "source": [
    "buff2 = fits.open(inpath + \"3829_mask_binary_buffer.fits\")\n",
    "mask2, extent2 = get_mask(buff2)"
   ]
  },
  {
   "cell_type": "code",
   "execution_count": 83,
   "id": "f53a1a4a-dd1c-48e5-8588-3af9adf3a99b",
   "metadata": {},
   "outputs": [
    {
     "data": {
      "text/plain": [
       "<matplotlib.image.AxesImage at 0x7f0966c13490>"
      ]
     },
     "execution_count": 83,
     "metadata": {},
     "output_type": "execute_result"
    },
    {
     "data": {
      "image/png": "[encoded data removed]",
      "text/plain": [
       "<Figure size 720x720 with 1 Axes>"
      ]
     },
     "metadata": {
      "needs_background": "light"
     },
     "output_type": "display_data"
    }
   ],
   "source": [
    "plt.figure(figsize=(10,10))\n",
    "plt.imshow(mask1, extent = extent1)\n",
    "plt.imshow(mask2, extent = extent2, cmap = 'viridis')"
   ]
  },
  {
   "cell_type": "code",
   "execution_count": 84,
   "id": "9be9221e-a0e8-4ea8-839b-9c8474adef63",
   "metadata": {},
   "outputs": [
    {
     "data": {
      "text/plain": [
       "array([1., 1., 1., 1., 1., 1., 1., 1., 1., 1., 1., 1., 1., 1., 1., 1., 1.,\n",
       "       1., 1., 1., 1., 1., 1., 1., 1., 1., 1., 1., 1., 1., 1., 1., 1., 1.,\n",
       "       1., 1., 1., 1., 1., 1., 1., 1., 1., 1., 1., 1., 1., 1., 1., 1., 1.,\n",
       "       1., 1., 1., 1., 1., 1., 1., 1., 1., 1., 1., 1.], dtype=float32)"
      ]
     },
     "execution_count": 84,
     "metadata": {},
     "output_type": "execute_result"
    }
   ],
   "source": [
    "mask1[mask1!=0]"
   ]
  },
  {
   "cell_type": "code",
   "execution_count": 85,
   "id": "e0247d90-5870-490c-827a-15260a134281",
   "metadata": {},
   "outputs": [
    {
     "data": {
      "text/plain": [
       "array([[False, False, False, ..., False, False, False],\n",
       "       [False, False, False, ..., False, False, False],\n",
       "       [False, False, False, ..., False, False, False],\n",
       "       ...,\n",
       "       [False, False, False, ..., False, False, False],\n",
       "       [False, False, False, ..., False, False, False],\n",
       "       [False, False, False, ..., False, False, False]])"
      ]
     },
     "execution_count": 85,
     "metadata": {},
     "output_type": "execute_result"
    }
   ],
   "source": [
    "mask1!=0"
   ]
  },
  {
   "cell_type": "code",
   "execution_count": null,
   "id": "25537a88-c282-402a-9d34-4d939a75b4dc",
   "metadata": {},
   "outputs": [],
   "source": []
  }
 ],
 "metadata": {
  "kernelspec": {
   "display_name": "lsst_distrib_v23.0.1",
   "language": "python",
   "name": "lsst_distrib_last"
  },
  "language_info": {
   "codemirror_mode": {
    "name": "ipython",
    "version": 3
   },
   "file_extension": ".py",
   "mimetype": "text/x-python",
   "name": "python",
   "nbconvert_exporter": "python",
   "pygments_lexer": "ipython3",
   "version": "3.8.13"
  }
 },
 "nbformat": 4,
 "nbformat_minor": 5
}
