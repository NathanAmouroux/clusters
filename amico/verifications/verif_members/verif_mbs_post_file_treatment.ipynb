{
 "cells": [
  {
   "cell_type": "code",
   "execution_count": 1,
   "id": "ceada3d5-15ba-4185-879c-428cf2105661",
   "metadata": {},
   "outputs": [],
   "source": [
    "import numpy as np\n",
    "from astropy.table import Table, vstack\n",
    "import healpy as hp\n",
    "import sys\n",
    "import os\n",
    "import time\n",
    "import matplotlib.pyplot as plt\n",
    "from astropy.io import ascii, fits\n",
    "import pandas as pd"
   ]
  },
  {
   "cell_type": "markdown",
   "id": "119a2475-3b9f-4dd7-b89d-1a12c202cf26",
   "metadata": {},
   "source": [
    "The test for validation of the members follows those steps:\n",
    "1) Take 1 random cl_id in the center of the tract (use tractid_map_associations_noBuffer.fits)\n",
    "2) For this cluster, check if there is the same amount of members (in comparison to my generated catalog named tractid_map_associations_w_mag.fits)\n",
    "3) If 2 is ok, verify that GALID is the same of each members\n",
    "4) If 3 is ok, verify that p_mem are the same for each members\n",
    "5) Repeat 20 times for 20 different clusters"
   ]
  },
  {
   "cell_type": "code",
   "execution_count": 2,
   "id": "53a7ceca-3a01-4a0d-842e-2aeac1906957",
   "metadata": {},
   "outputs": [],
   "source": [
    "#CosmoDC2\n",
    "tiles = ['10066', '10067', '10068', '10069', '10070', '10071', '10072', '10073', '10074', '10193', '10194', '10195', '10196', '10197', '10198', '10199', '10200', '10201', '10202', '10321', '10322', \n",
    "         '10323', '10324', '10325', '10326', '10327', '10328', '10329', '10444', '10445', '10446', '10447', '10448', '10449', '10450', '10451', '10452', '8786', '8787', '8788', '8789', '8790', '8791',\n",
    "         '8792', '8793', '8794', '8913', '8914', '8915', '8916', '8917', '8918', '8919', '8920', '8921', '9042', '9043', '9044', '9045', '9046', '9047', '9048', '9049', '9050', '9169', '9170', '9171',\n",
    "         '9172', '9173', '9174', '9175', '9176', '9177', '9178', '9298', '9299', '9300', '9301', '9302', '9303', '9304', '9305', '9306', '9425', '9426', '9427', '9428', '9429', '9430', '9431', '9432', \n",
    "         '9433', '9434', '9554', '9555', '9556', '9557', '9558', '9559', '9560', '9561', '9562', '9681', '9682', '9683', '9684', '9685', '9686', '9687', '9688', '9689', '9690', '9810', '9811', '9812', \n",
    "         '9813', '9814', '9815', '9816', '9817', '9818', '9937', '9938', '9939', '9940', '9941', '9942', '9943', '9944', '9945', '9946']\n",
    "\n",
    "#DC2\n",
    "#tiles = [5074, 5073, 5072, 5071, 5070, 5069, 5068, 5067, 5066, 5065, 4860, 4859, 4858, 4857, 4856, 4855, 4854, 4853, 4852, 4851, 4850, 4648, 4647, 4646, 4645, 4644, 4643, 4642, 4641, 4640, 4639, 4638,\n",
    "#        4637, 4636, 4441, 4440, 4439, 4438, 4437, 4436, 4435, 4434, 4433, 4432, 4431, 4430, 4429, 4236, 4235, 4234, 4233, 4232, 4231, 4230, 4229, 4228, 4227, 4226, 4225, 4224, 4035, 4034, 4033, 4032, 4031, 4030,\n",
    "#        4029, 4028, 4027, 4026, 4025, 4024, 4023, 3837, 3836, 3835, 3834, 3833, 3832, 3831, 3830, 3829, 3828, 3827, 3826, 3825, 3643, 3642, 3641, 3640, 3639, 3638, 3637, 3636, 3635, 3634, 3633, 3632, 3631, 3453, \n",
    "#        3452, 3451, 3450, 3449, 3448, 3447, 3446, 3445, 3444, 3443, 3442, 3441, 3268, 3267, 3266, 3265, 3264, 3263, 3262, 3261, 3260, 3259, 3258, 3257, 3256, 3086, 3085, 3084, 3083, 3082, 3081, 3080, 3079, 3078, \n",
    "#        3077, 3076, 3075, 3074, 2908, 2907, 2906, 2905, 2904, 2903, 2902, 2901, 2900, 2899, 2898, 2897, 2896]"
   ]
  },
  {
   "cell_type": "code",
   "execution_count": 3,
   "id": "3edd50a9-a064-447a-9c87-701783cca666",
   "metadata": {
    "tags": []
   },
   "outputs": [],
   "source": [
    "###Matteo unique cat from 08/11/23\n",
    "#inpath = \"/sps/lsst/groups/clusters/amico_validation_project/catalogs/AMICO/raw_amico_cats/cosmoDC2_photoz_flexzboost_v1_iband/DETECTIONS_DERIVED/\"\n",
    "#gen_inpath = \"/sps/lsst/groups/clusters/amico_validation_project/catalogs/AMICO//amico_cats/amico_map_associations_flxzb_mag/mag_i/\"\n",
    "#gen_mb_inpath = inpath + '9559_map_associations_w_mag.fits'\n",
    "#raw_mb_inpath = inpath + '9559_map_associations_noBuffer.fits'\n",
    "#cl_inpath = inpath + '9559_map_detections_refined_noBuffer.txt'\n",
    "\n",
    "###AMICO CosmoDC2 mag_i\n",
    "#inpath = \"/sps/lsst/groups/clusters/amico_validation_project/catalogs/AMICO/raw_amico_cats/cosmoDC2_photoz_flexzboost_v1_iband/DETECTIONS_DERIVED/\"\n",
    "#gen_inpath = \"/sps/lsst/groups/clusters/amico_validation_project/catalogs/AMICO/amico_cats/amico_map_associations_flxzb_mag/mag_i/\"\n",
    "#gen_mb_inpath = gen_inpath + '9939_map_associations_w_mag.fits'\n",
    "#raw_mb_inpath = inpath + '9939_map_associations_noBuffer.fits'\n",
    "#cl_inpath = inpath + '9939_map_detections_refined_noBuffer.txt'\n",
    "\n",
    "###AMICO CosmoDC2 mag_y\n",
    "#inpath = \"/sps/lsst/groups/clusters/amico_validation_project/catalogs/AMICO/raw_amico_cats/cosmoDC2_photoz_flexzboost_v1_yband/DETECTIONS_DERIVED/\"\n",
    "#gen_inpath = \"/sps/lsst/groups/clusters/amico_validation_project/catalogs/AMICO/amico_cats/amico_map_associations_flxzb_mag/mag_y/\"\n",
    "#gen_mb_inpath = gen_inpath + '9939_map_associations_w_mag.fits'\n",
    "#raw_mb_inpath = inpath + '9939_map_associations_noBuffer.fits'\n",
    "#cl_inpath = inpath + '9939_map_detections_refined_noBuffer.txt'\n",
    "\n",
    "###AMICO DC2 mag_y\n",
    "\n",
    "inpath = \"/sps/lsst/groups/clusters/amico_validation_project/catalogs/AMICO/raw_amico_cats/DC2_v0_yband/output/DETECTIONS_DERIVED/\"\n",
    "gen_inpath = \"/sps/lsst/groups/clusters/amico_validation_project/catalogs/AMICO/amico_cats/DC2/mag_y/\"\n",
    "gen_mb_inpath = gen_inpath + '4853_map_associations_w_mag.fits'\n",
    "raw_mb_inpath = inpath + '4853_map_associations_noBuffer.fits'\n",
    "cl_inpath = inpath + '4853_map_detections_refined_noBuffer.txt'"
   ]
  },
  {
   "cell_type": "code",
   "execution_count": 4,
   "id": "3259514b-9343-477a-966e-d1c93b47736a",
   "metadata": {},
   "outputs": [],
   "source": [
    "gen_mb = Table.read(gen_mb_inpath)\n",
    "raw_mb = Table.read(raw_mb_inpath)\n",
    "cl = pd.read_csv(cl_inpath, sep=\"\\t\", header = 243)\n",
    "cl = Table.from_pandas(cl)"
   ]
  },
  {
   "cell_type": "code",
   "execution_count": 5,
   "id": "cb960caf-6870-4ecf-8f96-059f0f669474",
   "metadata": {
    "tags": []
   },
   "outputs": [
    {
     "name": "stdout",
     "output_type": "stream",
     "text": [
      "Variables avaible for raw clusters catalog are :  ['# ID', 'Xpix', 'Ypix', 'Zpix', 'Xphys', 'Yphys', 'Zphys', 'SN', 'SN_NO_CLUSTER', 'AMP', 'RICH', 'LIKE', 'MSKFRC', 'POISS', 'LAMB', 'LAMBSTAR', 'ZPIX_SIGM', 'ZPIX_SIGP', 'ZPHYS_SIGM', 'ZPHYS_SIGP'] \n",
      "Variables avaible for raw members catalog are :  ['GALID', 'FIELD_PROB', 'ASSOC_ID', 'ASSOC_PROB'] \n",
      "Variables avaible for generated member catalog are :  ['GALID', 'FIELD_PROB', 'ASSOC_ID', 'ASSOC_PROB', 'ra', 'dec', 'redshift', 'mag_g', 'mag_i', 'mag_r', 'mag_z', 'mag_y']\n"
     ]
    }
   ],
   "source": [
    "print(\"Variables avaible for raw clusters catalog are : \", cl.keys()[:20], \"\\nVariables avaible for raw members catalog are : \", raw_mb.keys(), \"\\nVariables avaible for generated member catalog are : \", gen_mb.keys())"
   ]
  },
  {
   "cell_type": "code",
   "execution_count": 6,
   "id": "6d32fe4c-33c9-4d88-a863-bf5c959196fa",
   "metadata": {},
   "outputs": [],
   "source": [
    "x = np.mean(cl['Xphys'])\n",
    "y = np.mean(cl['Yphys'])\n",
    "l_x = np.std(cl['Xphys'])/2\n",
    "l_y = np.std(cl['Yphys'])/2"
   ]
  },
  {
   "cell_type": "code",
   "execution_count": 7,
   "id": "34a534e5-6813-4622-a28f-5b473eaba318",
   "metadata": {},
   "outputs": [],
   "source": [
    "x_range = [x-l_x, x+l_x]\n",
    "y_range = [y-l_y, y+l_y]\n",
    "x_corner, y_corner = np.meshgrid(x_range,y_range)"
   ]
  },
  {
   "cell_type": "code",
   "execution_count": 8,
   "id": "8b5f8492-efa5-47af-af8c-ffd4b7221941",
   "metadata": {
    "tags": []
   },
   "outputs": [
    {
     "data": {
      "text/plain": [
       "Text(0, 0.5, 'dec')"
      ]
     },
     "execution_count": 8,
     "metadata": {},
     "output_type": "execute_result"
    },
    {
     "data": {
      "image/png": "[encoded data removed]",
      "text/plain": [
       "<Figure size 640x480 with 1 Axes>"
      ]
     },
     "metadata": {},
     "output_type": "display_data"
    }
   ],
   "source": [
    "plt.scatter(cl['Xphys'], cl['Yphys'], s = 1)\n",
    "plt.scatter(x_corner, y_corner)\n",
    "plt.xlabel(\"ra\")\n",
    "plt.ylabel(\"dec\")"
   ]
  },
  {
   "cell_type": "code",
   "execution_count": 9,
   "id": "cce2a50d-6461-42be-89e2-17e1e5c8a643",
   "metadata": {},
   "outputs": [],
   "source": [
    "clbox = cl[(cl[\"Xphys\"]>=x_range[0])*(cl[\"Xphys\"]<=x_range[1])*(cl[\"Yphys\"]>=y_range[0])*(cl[\"Yphys\"]<=y_range[1])]"
   ]
  },
  {
   "cell_type": "code",
   "execution_count": 10,
   "id": "800da0b8-700e-46e7-8181-674bc12da71b",
   "metadata": {},
   "outputs": [],
   "source": [
    "index = np.random.randint(0,len(clbox), 20)"
   ]
  },
  {
   "cell_type": "code",
   "execution_count": 11,
   "id": "9b250b07-0ce7-4754-a757-7da93c0bcd98",
   "metadata": {},
   "outputs": [],
   "source": [
    "cl_test = clbox[index]"
   ]
  },
  {
   "cell_type": "code",
   "execution_count": 12,
   "id": "e0dbbbdb-d444-4f2a-8fcc-56d8092f5d7e",
   "metadata": {},
   "outputs": [
    {
     "name": "stdout",
     "output_type": "stream",
     "text": [
      "cluster 764 has the same amount of members (n=753)\n",
      "\tmembers of cluster 764 are the same\n",
      "cluster 454 has the same amount of members (n=871)\n",
      "\tmembers of cluster 454 are the same\n",
      "cluster 127 has the same amount of members (n=946)\n",
      "\tmembers of cluster 127 are the same\n",
      "cluster 771 has the same amount of members (n=453)\n",
      "\tmembers of cluster 771 are the same\n",
      "cluster 7 has the same amount of members (n=859)\n",
      "\tmembers of cluster 7 are the same\n",
      "cluster 182 has the same amount of members (n=744)\n",
      "\tmembers of cluster 182 are the same\n",
      "cluster 170 has the same amount of members (n=695)\n",
      "\tmembers of cluster 170 are the same\n",
      "cluster 454 has the same amount of members (n=871)\n",
      "\tmembers of cluster 454 are the same\n",
      "cluster 390 has the same amount of members (n=515)\n",
      "\tmembers of cluster 390 are the same\n",
      "cluster 633 has the same amount of members (n=524)\n",
      "\tmembers of cluster 633 are the same\n",
      "cluster 542 has the same amount of members (n=556)\n",
      "\tmembers of cluster 542 are the same\n",
      "cluster 168 has the same amount of members (n=1244)\n",
      "\tmembers of cluster 168 are the same\n",
      "cluster 159 has the same amount of members (n=631)\n",
      "\tmembers of cluster 159 are the same\n",
      "cluster 186 has the same amount of members (n=555)\n",
      "\tmembers of cluster 186 are the same\n",
      "cluster 793 has the same amount of members (n=570)\n",
      "\tmembers of cluster 793 are the same\n",
      "cluster 417 has the same amount of members (n=750)\n",
      "\tmembers of cluster 417 are the same\n",
      "cluster 682 has the same amount of members (n=723)\n",
      "\tmembers of cluster 682 are the same\n",
      "cluster 682 has the same amount of members (n=723)\n",
      "\tmembers of cluster 682 are the same\n",
      "cluster 450 has the same amount of members (n=499)\n",
      "\tmembers of cluster 450 are the same\n",
      "cluster 223 has the same amount of members (n=651)\n",
      "\tmembers of cluster 223 are the same\n"
     ]
    }
   ],
   "source": [
    "### CosmoDC2 mag_i results \n",
    "for id in cl_test[\"# ID\"]:\n",
    "    raw_cdt = raw_mb[raw_mb[\"ASSOC_ID\"]==id]\n",
    "    gen_cdt = gen_mb[gen_mb[\"ASSOC_ID\"]==id]\n",
    "    if len(raw_cdt) == len(gen_cdt):\n",
    "        n = 0\n",
    "        m = 0\n",
    "        print(f\"cluster {id} has the same amount of members (n={len(raw_cdt)})\")\n",
    "        for galid in raw_cdt[\"GALID\"]:\n",
    "            raw_mb_cdt = raw_cdt[raw_cdt[\"GALID\"]==galid]\n",
    "            gen_mb_cdt = gen_cdt[gen_cdt[\"GALID\"]==galid]\n",
    "            if raw_mb_cdt[\"GALID\"] != gen_mb_cdt[\"GALID\"] :\n",
    "                print(f\"For cluster {id} and member {galid}, ids don't match\")\n",
    "                n += 1\n",
    "            if raw_mb_cdt[\"ASSOC_PROB\"] != gen_mb_cdt[\"ASSOC_PROB\"] :\n",
    "                print(f\"For cluster {id} and member {galid}, pmem don't match (pmem_raw = {raw_mb_cdt['ASSOC_PROB']}, pmem_gen = {gen_mb_cdt['ASSOC_PROB']})\")\n",
    "                m += 1\n",
    "        if n == 0 and m == 0 :\n",
    "            print(f\"\\tmembers of cluster {id} are the same\")\n",
    "        "
   ]
  },
  {
   "cell_type": "code",
   "execution_count": 13,
   "id": "32cc4328-3616-489f-83ba-c108ab73f8a8",
   "metadata": {},
   "outputs": [
    {
     "name": "stdout",
     "output_type": "stream",
     "text": [
      "cluster 764 has the same amount of members (n=753)\n",
      "\tmembers of cluster 764 are the same\n",
      "cluster 454 has the same amount of members (n=871)\n",
      "\tmembers of cluster 454 are the same\n",
      "cluster 127 has the same amount of members (n=946)\n",
      "\tmembers of cluster 127 are the same\n",
      "cluster 771 has the same amount of members (n=453)\n",
      "\tmembers of cluster 771 are the same\n",
      "cluster 7 has the same amount of members (n=859)\n",
      "\tmembers of cluster 7 are the same\n",
      "cluster 182 has the same amount of members (n=744)\n",
      "\tmembers of cluster 182 are the same\n",
      "cluster 170 has the same amount of members (n=695)\n",
      "\tmembers of cluster 170 are the same\n",
      "cluster 454 has the same amount of members (n=871)\n",
      "\tmembers of cluster 454 are the same\n",
      "cluster 390 has the same amount of members (n=515)\n",
      "\tmembers of cluster 390 are the same\n",
      "cluster 633 has the same amount of members (n=524)\n",
      "\tmembers of cluster 633 are the same\n",
      "cluster 542 has the same amount of members (n=556)\n",
      "\tmembers of cluster 542 are the same\n",
      "cluster 168 has the same amount of members (n=1244)\n",
      "\tmembers of cluster 168 are the same\n",
      "cluster 159 has the same amount of members (n=631)\n",
      "\tmembers of cluster 159 are the same\n",
      "cluster 186 has the same amount of members (n=555)\n",
      "\tmembers of cluster 186 are the same\n",
      "cluster 793 has the same amount of members (n=570)\n",
      "\tmembers of cluster 793 are the same\n",
      "cluster 417 has the same amount of members (n=750)\n",
      "\tmembers of cluster 417 are the same\n",
      "cluster 682 has the same amount of members (n=723)\n",
      "\tmembers of cluster 682 are the same\n",
      "cluster 682 has the same amount of members (n=723)\n",
      "\tmembers of cluster 682 are the same\n",
      "cluster 450 has the same amount of members (n=499)\n",
      "\tmembers of cluster 450 are the same\n",
      "cluster 223 has the same amount of members (n=651)\n",
      "\tmembers of cluster 223 are the same\n",
      "Number of clusters which have members 20\n"
     ]
    }
   ],
   "source": [
    "### CosmoDC2 mag_y results \n",
    "l = 0\n",
    "for id in cl_test[\"# ID\"]:\n",
    "    raw_cdt = raw_mb[raw_mb[\"ASSOC_ID\"]==id]\n",
    "    gen_cdt = gen_mb[gen_mb[\"ASSOC_ID\"]==id]\n",
    "    if len(raw_cdt) == len(gen_cdt) and len(raw_cdt) !=0:\n",
    "        l += 1\n",
    "        n = 0\n",
    "        m = 0\n",
    "        print(f\"cluster {id} has the same amount of members (n={len(raw_cdt)})\")\n",
    "        for galid in raw_cdt[\"GALID\"]:\n",
    "            raw_mb_cdt = raw_cdt[raw_cdt[\"GALID\"]==galid]\n",
    "            gen_mb_cdt = gen_cdt[gen_cdt[\"GALID\"]==galid]\n",
    "            if raw_mb_cdt[\"GALID\"] != gen_mb_cdt[\"GALID\"] :\n",
    "                print(f\"For cluster {id} and member {galid}, ids don't match\")\n",
    "                n += 1\n",
    "            if raw_mb_cdt[\"ASSOC_PROB\"] != gen_mb_cdt[\"ASSOC_PROB\"] :\n",
    "                print(f\"For cluster {id} and member {galid}, pmem don't match (pmem_raw = {raw_mb_cdt['ASSOC_PROB']}, pmem_gen = {gen_mb_cdt['ASSOC_PROB']})\")\n",
    "                m += 1\n",
    "        if n == 0 and m == 0 :\n",
    "            print(f\"\\tmembers of cluster {id} are the same\")\n",
    "print(f\"Number of clusters which have members {l}\")"
   ]
  },
  {
   "cell_type": "code",
   "execution_count": 14,
   "id": "cdf0f649-8293-49c5-a0c5-5234dd51fefc",
   "metadata": {},
   "outputs": [
    {
     "name": "stdout",
     "output_type": "stream",
     "text": [
      "cluster 764 has the same amount of members (n=753)\n",
      "\tmembers of cluster 764 are the same\n",
      "cluster 454 has the same amount of members (n=871)\n",
      "\tmembers of cluster 454 are the same\n",
      "cluster 127 has the same amount of members (n=946)\n",
      "\tmembers of cluster 127 are the same\n",
      "cluster 771 has the same amount of members (n=453)\n",
      "\tmembers of cluster 771 are the same\n",
      "cluster 7 has the same amount of members (n=859)\n",
      "\tmembers of cluster 7 are the same\n",
      "cluster 182 has the same amount of members (n=744)\n",
      "\tmembers of cluster 182 are the same\n",
      "cluster 170 has the same amount of members (n=695)\n",
      "\tmembers of cluster 170 are the same\n",
      "cluster 454 has the same amount of members (n=871)\n",
      "\tmembers of cluster 454 are the same\n",
      "cluster 390 has the same amount of members (n=515)\n",
      "\tmembers of cluster 390 are the same\n",
      "cluster 633 has the same amount of members (n=524)\n",
      "\tmembers of cluster 633 are the same\n",
      "cluster 542 has the same amount of members (n=556)\n",
      "\tmembers of cluster 542 are the same\n",
      "cluster 168 has the same amount of members (n=1244)\n",
      "\tmembers of cluster 168 are the same\n",
      "cluster 159 has the same amount of members (n=631)\n",
      "\tmembers of cluster 159 are the same\n",
      "cluster 186 has the same amount of members (n=555)\n",
      "\tmembers of cluster 186 are the same\n",
      "cluster 793 has the same amount of members (n=570)\n",
      "\tmembers of cluster 793 are the same\n",
      "cluster 417 has the same amount of members (n=750)\n",
      "\tmembers of cluster 417 are the same\n",
      "cluster 682 has the same amount of members (n=723)\n",
      "\tmembers of cluster 682 are the same\n",
      "cluster 682 has the same amount of members (n=723)\n",
      "\tmembers of cluster 682 are the same\n",
      "cluster 450 has the same amount of members (n=499)\n",
      "\tmembers of cluster 450 are the same\n",
      "cluster 223 has the same amount of members (n=651)\n",
      "\tmembers of cluster 223 are the same\n",
      "Number of clusters which have members 20\n"
     ]
    }
   ],
   "source": [
    "### DC2 mag_y results \n",
    "l = 0\n",
    "for id in cl_test[\"# ID\"]:\n",
    "    raw_cdt = raw_mb[raw_mb[\"ASSOC_ID\"]==id]\n",
    "    gen_cdt = gen_mb[gen_mb[\"ASSOC_ID\"]==id]\n",
    "    if len(raw_cdt) == len(gen_cdt) and len(raw_cdt) !=0:\n",
    "        l += 1\n",
    "        n = 0\n",
    "        m = 0\n",
    "        print(f\"cluster {id} has the same amount of members (n={len(raw_cdt)})\")\n",
    "        for galid in raw_cdt[\"GALID\"]:\n",
    "            raw_mb_cdt = raw_cdt[raw_cdt[\"GALID\"]==galid]\n",
    "            gen_mb_cdt = gen_cdt[gen_cdt[\"GALID\"]==galid]\n",
    "            if raw_mb_cdt[\"GALID\"] != gen_mb_cdt[\"GALID\"] :\n",
    "                print(f\"For cluster {id} and member {galid}, ids don't match\")\n",
    "                n += 1\n",
    "            if raw_mb_cdt[\"ASSOC_PROB\"] != gen_mb_cdt[\"ASSOC_PROB\"] :\n",
    "                print(f\"For cluster {id} and member {galid}, pmem don't match (pmem_raw = {raw_mb_cdt['ASSOC_PROB']}, pmem_gen = {gen_mb_cdt['ASSOC_PROB']})\")\n",
    "                m += 1\n",
    "        if n == 0 and m == 0 :\n",
    "            print(f\"\\tmembers of cluster {id} are the same\")\n",
    "print(f\"Number of clusters which have members {l}\")"
   ]
  },
  {
   "cell_type": "code",
   "execution_count": 15,
   "id": "bcd47166-920b-4fe2-9ae9-ee66e3fea154",
   "metadata": {},
   "outputs": [],
   "source": [
    "lines = ['Readme', 'How to write text files in Python']\n",
    "with open('oscour.txt', 'w') as f:\n",
    "    f.writelines(lines)"
   ]
  },
  {
   "cell_type": "code",
   "execution_count": 16,
   "id": "fac1a913-cd9c-4d1c-8467-9fda31acad6c",
   "metadata": {},
   "outputs": [],
   "source": [
    "nums = list(range(0, len(clbox)))"
   ]
  },
  {
   "cell_type": "code",
   "execution_count": 17,
   "id": "7df50b4c-afa2-44f7-9e5e-864fd6278827",
   "metadata": {},
   "outputs": [],
   "source": [
    "import random"
   ]
  },
  {
   "cell_type": "code",
   "execution_count": 18,
   "id": "09620e1c-a7e0-451c-884f-fb48c0040724",
   "metadata": {
    "tags": []
   },
   "outputs": [
    {
     "ename": "TypeError",
     "evalue": "'NoneType' object is not subscriptable",
     "output_type": "error",
     "traceback": [
      "\u001b[0;31m---------------------------------------------------------------------------\u001b[0m",
      "\u001b[0;31mTypeError\u001b[0m                                 Traceback (most recent call last)",
      "Cell \u001b[0;32mIn[18], line 3\u001b[0m\n\u001b[1;32m      1\u001b[0m nums \u001b[38;5;241m=\u001b[39m \u001b[38;5;28mlist\u001b[39m(\u001b[38;5;28mrange\u001b[39m(\u001b[38;5;241m0\u001b[39m, \u001b[38;5;28mlen\u001b[39m(clbox)))\n\u001b[1;32m      2\u001b[0m index \u001b[38;5;241m=\u001b[39m random\u001b[38;5;241m.\u001b[39mshuffle(nums)\n\u001b[0;32m----> 3\u001b[0m cl_test \u001b[38;5;241m=\u001b[39m clbox[\u001b[43mindex\u001b[49m\u001b[43m[\u001b[49m\u001b[43m:\u001b[49m\u001b[38;5;241;43m20\u001b[39;49m\u001b[43m]\u001b[49m]\n",
      "\u001b[0;31mTypeError\u001b[0m: 'NoneType' object is not subscriptable"
     ]
    }
   ],
   "source": [
    "nums = list(range(0, len(clbox)))\n",
    "index = random.shuffle(nums)\n",
    "cl_test = clbox[index[:20]]"
   ]
  },
  {
   "cell_type": "code",
   "execution_count": null,
   "id": "baab12dc-2169-4068-9dba-eafff29da75b",
   "metadata": {},
   "outputs": [],
   "source": [
    "print(index)"
   ]
  }
 ],
 "metadata": {
  "kernelspec": {
   "display_name": "Python 3 (ipykernel)",
   "language": "python",
   "name": "python3"
  },
  "language_info": {
   "codemirror_mode": {
    "name": "ipython",
    "version": 3
   },
   "file_extension": ".py",
   "mimetype": "text/x-python",
   "name": "python",
   "nbconvert_exporter": "python",
   "pygments_lexer": "ipython3",
   "version": "3.8.5"
  }
 },
 "nbformat": 4,
 "nbformat_minor": 5
}
