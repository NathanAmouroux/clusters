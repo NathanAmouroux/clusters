{
 "cells": [
  {
   "cell_type": "code",
   "execution_count": 2,
   "id": "473bf355-aada-4313-b10a-148f429b862e",
   "metadata": {},
   "outputs": [],
   "source": [
    "from astropy.table import Table\n",
    "import numpy as np\n",
    "import matplotlib.pyplot as plt\n",
    "from collections import Counter"
   ]
  },
  {
   "cell_type": "code",
   "execution_count": 3,
   "id": "91f370d8-4396-41ab-bc2d-7f4d017ec8bb",
   "metadata": {},
   "outputs": [],
   "source": [
    "inpath = \"/sps/lsst/groups/clusters/cluster_comparison_project/before_matching/\""
   ]
  },
  {
   "cell_type": "code",
   "execution_count": 4,
   "id": "072837e7-84d3-4f7a-90d6-1436fba5d029",
   "metadata": {},
   "outputs": [],
   "source": [
    "c1 = Table.read(inpath + \"halos/cosmoDC2/v0/Catalog.fits\")\n",
    "c2 = Table.read(inpath + \"halos/cosmoDC2/DC2.masked/Catalog.fits\")"
   ]
  },
  {
   "cell_type": "markdown",
   "id": "4c222024-0254-4f62-8d8f-fe610dd32c26",
   "metadata": {},
   "source": [
    "## Number of halos"
   ]
  },
  {
   "cell_type": "code",
   "execution_count": 6,
   "id": "7c50d710-f019-4d34-b1e6-2861723ce8f5",
   "metadata": {},
   "outputs": [
    {
     "name": "stdout",
     "output_type": "stream",
     "text": [
      "Il y a N = 454475 halos dans CosmoDC2.\n",
      "Il y a N = 314603 halos dans DC2.\n",
      "Il y a 1.4x moins de halos dans DC2.\n"
     ]
    }
   ],
   "source": [
    "print(f\"Il y a N = {len(c1)} halos dans CosmoDC2.\\nIl y a N = {len(c2)} halos dans DC2.\\nIl y a {round(len(c1)/len(c2),1)}x moins de halos dans DC2.\")\n",
    "#print(f\"La surface de DC2 est {round(439.78986/302.65,1)}x moins grande que celle de CosmoDC2.\")\n",
    "#print(f\"\\nd = {round(len(c1)/439.78986,1)} amas/deg² pour AMICO sur CosmoDC2.\\nd = {round(len(c2)/302.65,1)} amas/deg² pour AMICO sur DC2.\")"
   ]
  }
 ],
 "metadata": {
  "kernelspec": {
   "display_name": "Python 3 (ipykernel)",
   "language": "python",
   "name": "python3"
  },
  "language_info": {
   "codemirror_mode": {
    "name": "ipython",
    "version": 3
   },
   "file_extension": ".py",
   "mimetype": "text/x-python",
   "name": "python",
   "nbconvert_exporter": "python",
   "pygments_lexer": "ipython3",
   "version": "3.8.5"
  }
 },
 "nbformat": 4,
 "nbformat_minor": 5
}
