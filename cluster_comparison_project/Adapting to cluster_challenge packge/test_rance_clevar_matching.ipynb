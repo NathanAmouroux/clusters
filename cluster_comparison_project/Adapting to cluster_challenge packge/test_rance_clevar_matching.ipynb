{
 "cells": [
  {
   "cell_type": "code",
   "execution_count": 1,
   "id": "ace5296c-7153-498e-9958-783c53601a0c",
   "metadata": {},
   "outputs": [],
   "source": [
    "import numpy as np\n",
    "from astropy import units as u\n",
    "from astropy.io import fits\n",
    "import sys\n",
    "import os\n",
    "import json\n",
    "import shutil\n",
    "\n",
    "###clevar\n",
    "import clevar\n",
    "from clevar.catalog import ClCatalog\n",
    "from clevar.match import ProximityMatch\n",
    "from clevar.match import MembershipMatch\n",
    "from clevar.cosmology import AstroPyCosmology\n",
    "from IPython.display import display"
   ]
  },
  {
   "cell_type": "code",
   "execution_count": 2,
   "id": "61b88c51-8460-4b82-a722-c045331adb33",
   "metadata": {},
   "outputs": [],
   "source": [
    "from astropy.table import Table"
   ]
  },
  {
   "cell_type": "code",
   "execution_count": 3,
   "id": "6a716a6a-9699-4758-bbd3-2a470e7ab356",
   "metadata": {},
   "outputs": [],
   "source": [
    "inpath = \"/sps/lsst/groups/clusters/cluster_comparison_project/after_matching/amico.cosmoDC2.fzb_cosmoDC2/magy_v0/proximity_matching_deltaz_0.05_matchradius_1mpc/\""
   ]
  },
  {
   "cell_type": "code",
   "execution_count": 4,
   "id": "adaccc4e-f845-49e5-9800-227c5750758e",
   "metadata": {},
   "outputs": [],
   "source": [
    "outpath  = inpath"
   ]
  },
  {
   "cell_type": "code",
   "execution_count": 13,
   "id": "eb87dd90-47f5-4124-8a29-b912b0f616b0",
   "metadata": {},
   "outputs": [],
   "source": [
    "cam = Table.read(inpath + \"amico.cosmoDC2.fzb.magy.fits\")\n",
    "#cam_mb = Table.read(inpath + \"Catalog_members.fits\")"
   ]
  },
  {
   "cell_type": "code",
   "execution_count": 14,
   "id": "60f74fb7-05d8-4f57-b70c-c8ab1dd804da",
   "metadata": {
    "tags": []
   },
   "outputs": [
    {
     "data": {
      "text/html": [
       "<div><i>Table length=165149</i>\n",
       "<table id=\"table139924990975472\" class=\"table-striped table-bordered table-condensed\">\n",
       "<thead><tr><th>id_cl</th><th>ra_cl</th><th>dec_cl</th><th>z_cl</th><th>mass</th><th>mt_self</th><th>mt_other</th><th>mt_multi_self</th><th>mt_multi_other</th><th>mt_cross</th><th>snr_cl</th></tr></thead>\n",
       "<thead><tr><th>bytes11</th><th>float64</th><th>float64</th><th>float32</th><th>float64</th><th>bytes13</th><th>bytes13</th><th>bytes134</th><th>bytes134</th><th>bytes13</th><th>float64</th></tr></thead>\n",
       "<tr><td>1</td><td>50.603551</td><td>-39.582656</td><td>1.1</td><td>142.18232</td><td>190400151235</td><td>190400151235</td><td>2401800151213,3279900151235,190400151235</td><td>190400151235,3279900151235,2401800151213</td><td>190400151235</td><td>8.9331618</td></tr>\n",
       "<tr><td>2</td><td>50.113525</td><td>-40.03647</td><td>0.44</td><td>88.436957</td><td>649700151338</td><td>649700151338</td><td>649700151338,125900151315</td><td>649700151338,125900151315</td><td>649700151338</td><td>7.9690485</td></tr>\n",
       "<tr><td>3</td><td>50.642569</td><td>-41.397661</td><td>0.2</td><td>71.745564</td><td>130200151411</td><td>130200151411</td><td>130200151411,220600151392</td><td>130200151411,220600151392</td><td>130200151411</td><td>7.9585033</td></tr>\n",
       "<tr><td>4</td><td>50.421896</td><td>-39.587457</td><td>0.39</td><td>54.827034</td><td>388500151355</td><td>388500151355</td><td>388500151355,690600151338,359100151331,370000151373</td><td>359100151331,690600151338,370000151373,388500151355</td><td>388500151355</td><td>7.6627581</td></tr>\n",
       "<tr><td>5</td><td>51.069455</td><td>-40.426866</td><td>1.09</td><td>102.87221</td><td>461100151235</td><td>461100151235</td><td>461100151235,2623900151241</td><td>461100151235,2623900151241</td><td>461100151235</td><td>7.3301361</td></tr>\n",
       "<tr><td>6</td><td>50.085692</td><td>-40.246344</td><td>0.34</td><td>38.004278</td><td>397900151373</td><td>397900151373</td><td>397900151373,849400151338</td><td>397900151373,849400151338</td><td>397900151373</td><td>7.1808861</td></tr>\n",
       "<tr><td>7</td><td>51.048368</td><td>-41.281951</td><td>0.79</td><td>97.209474</td><td>703400151279</td><td>703400151279</td><td>703400151279,1903300151279,537900164279</td><td>703400151279,1903300151279,537900164279</td><td>703400151279</td><td>7.1425742</td></tr>\n",
       "<tr><td>8</td><td>50.577077</td><td>-40.162645</td><td>0.59</td><td>77.867676</td><td>1038800151307</td><td>1038800151307</td><td>954400151315,1038800151307,306600151331</td><td>954400151315,1038800151307,306600151331</td><td>1038800151307</td><td>7.0146382</td></tr>\n",
       "<tr><td>9</td><td>49.910711</td><td>-40.070373</td><td>0.89</td><td>112.85888</td><td>2552600151259</td><td>2552600151259</td><td>148200151259,2552600151259</td><td>148200151259,2552600151259</td><td>2552600151259</td><td>6.7818193</td></tr>\n",
       "<tr><td>10</td><td>51.576131</td><td>-40.01887</td><td>0.6</td><td>63.297607</td><td>689000151307</td><td>689000151307</td><td>689000151307,1388400151307</td><td>689000151307,1388400151307</td><td>689000151307</td><td>6.736255</td></tr>\n",
       "<tr><td>...</td><td>...</td><td>...</td><td>...</td><td>...</td><td>...</td><td>...</td><td>...</td><td>...</td><td>...</td><td>...</td></tr>\n",
       "<tr><td>165141</td><td>74.039614</td><td>-38.265504</td><td>1.16</td><td>23.286709</td><td>2069700146224</td><td>2069700146224</td><td>2069700146224,3944400146224</td><td>2069700146224,3944400146224</td><td>2069700146224</td><td>3.004514</td></tr>\n",
       "<tr><td>165142</td><td>74.118144</td><td>-39.035805</td><td>0.74</td><td>13.640009</td><td>1041700146286</td><td>1041700146286</td><td>2115500146272,1041700146286</td><td>2115500146272,1041700146286</td><td>1041700146286</td><td>3.0038189</td></tr>\n",
       "<tr><td>165143</td><td>75.522573</td><td>-39.11718</td><td>1.44</td><td>17.499821</td><td>1164800146203</td><td>1164800146203</td><td>1164800146203</td><td>1164800146203</td><td>1164800146203</td><td>3.0029274</td></tr>\n",
       "<tr><td>165144</td><td>75.639315</td><td>-38.7561</td><td>0.93</td><td>19.282202</td><td>8900146253</td><td>8900146253</td><td>8900146253</td><td>8900146253</td><td>8900146253</td><td>3.002867</td></tr>\n",
       "<tr><td>165145</td><td>73.909092</td><td>-37.884891</td><td>0.55</td><td>9.0095054</td><td>308300146323</td><td>308300146323</td><td>308300146323</td><td>308300146323</td><td>308300146323</td><td>3.0028206</td></tr>\n",
       "<tr><td>165146</td><td>74.750955</td><td>-37.691235</td><td>0.87</td><td>17.124517</td><td>1554300146293</td><td>1554300146293</td><td>3424400146247,1554300146293</td><td>3424400146247,1554300146293</td><td>1554300146293</td><td>3.0020752</td></tr>\n",
       "<tr><td>165147</td><td>74.384868</td><td>-37.506401</td><td>0.31</td><td>9.2994628</td><td>2700146392</td><td>2700146392</td><td>2700146392</td><td>2700146392</td><td>2700146392</td><td>3.0015272</td></tr>\n",
       "<tr><td>165148</td><td>75.512553</td><td>-38.86225</td><td>0.59</td><td>9.8502328</td><td>479700146315</td><td>479700146315</td><td>479700146315,340900146323</td><td>479700146315,340900146323</td><td>479700146315</td><td>3.001017</td></tr>\n",
       "<tr><td>165149</td><td>73.380973</td><td>-38.841003</td><td>1.22</td><td>16.870993</td><td>--</td><td>--</td><td>3286400146213</td><td>3286400146213</td><td>--</td><td>3.0009622</td></tr>\n",
       "<tr><td>165150</td><td>74.318713</td><td>-38.66631</td><td>1.3</td><td>18.798892</td><td>6250200146213</td><td>6250200146213</td><td>6250200146213</td><td>6250200146213</td><td>6250200146213</td><td>3.0005498</td></tr>\n",
       "</table></div>"
      ],
      "text/plain": [
       "<Table length=165149>\n",
       " id_cl    ra_cl     dec_cl   ...    mt_cross     snr_cl \n",
       "bytes11  float64   float64   ...    bytes13     float64 \n",
       "------- --------- ---------- ... ------------- ---------\n",
       "      1 50.603551 -39.582656 ...  190400151235 8.9331618\n",
       "      2 50.113525  -40.03647 ...  649700151338 7.9690485\n",
       "      3 50.642569 -41.397661 ...  130200151411 7.9585033\n",
       "      4 50.421896 -39.587457 ...  388500151355 7.6627581\n",
       "      5 51.069455 -40.426866 ...  461100151235 7.3301361\n",
       "      6 50.085692 -40.246344 ...  397900151373 7.1808861\n",
       "      7 51.048368 -41.281951 ...  703400151279 7.1425742\n",
       "      8 50.577077 -40.162645 ... 1038800151307 7.0146382\n",
       "      9 49.910711 -40.070373 ... 2552600151259 6.7818193\n",
       "     10 51.576131  -40.01887 ...  689000151307  6.736255\n",
       "    ...       ...        ... ...           ...       ...\n",
       " 165141 74.039614 -38.265504 ... 2069700146224  3.004514\n",
       " 165142 74.118144 -39.035805 ... 1041700146286 3.0038189\n",
       " 165143 75.522573  -39.11718 ... 1164800146203 3.0029274\n",
       " 165144 75.639315   -38.7561 ...    8900146253  3.002867\n",
       " 165145 73.909092 -37.884891 ...  308300146323 3.0028206\n",
       " 165146 74.750955 -37.691235 ... 1554300146293 3.0020752\n",
       " 165147 74.384868 -37.506401 ...    2700146392 3.0015272\n",
       " 165148 75.512553  -38.86225 ...  479700146315  3.001017\n",
       " 165149 73.380973 -38.841003 ...            -- 3.0009622\n",
       " 165150 74.318713  -38.66631 ... 6250200146213 3.0005498"
      ]
     },
     "execution_count": 14,
     "metadata": {},
     "output_type": "execute_result"
    }
   ],
   "source": [
    "cam"
   ]
  },
  {
   "cell_type": "code",
   "execution_count": 8,
   "id": "91b8b2b2-99a3-4a3a-82a1-342569b77a57",
   "metadata": {},
   "outputs": [],
   "source": [
    "cam_in = Table.read(\"/sps/lsst/groups/clusters/cluster_comparison_project/before_matching/amico/cosmoDC2.fzb/magy/Catalog.fits\")"
   ]
  },
  {
   "cell_type": "code",
   "execution_count": 9,
   "id": "dd77a89e-bb13-47f6-b5c3-84b382032449",
   "metadata": {
    "collapsed": true,
    "jupyter": {
     "outputs_hidden": true
    },
    "tags": []
   },
   "outputs": [
    {
     "data": {
      "text/html": [
       "<div><i>Table length=165149</i>\n",
       "<table id=\"table139924990975376\" class=\"table-striped table-bordered table-condensed\">\n",
       "<thead><tr><th>id_cl</th><th>ra_cl</th><th>dec_cl</th><th>z_cl</th><th>mass</th><th>snr_cl</th></tr></thead>\n",
       "<thead><tr><th>int32</th><th>float64</th><th>float64</th><th>float32</th><th>float64</th><th>float64</th></tr></thead>\n",
       "<tr><td>1</td><td>50.603551</td><td>-39.582656</td><td>1.1</td><td>142.18232</td><td>8.9331618</td></tr>\n",
       "<tr><td>2</td><td>50.113525</td><td>-40.03647</td><td>0.44</td><td>88.436957</td><td>7.9690485</td></tr>\n",
       "<tr><td>3</td><td>50.642569</td><td>-41.397661</td><td>0.2</td><td>71.745564</td><td>7.9585033</td></tr>\n",
       "<tr><td>4</td><td>50.421896</td><td>-39.587457</td><td>0.39</td><td>54.827034</td><td>7.6627581</td></tr>\n",
       "<tr><td>5</td><td>51.069455</td><td>-40.426866</td><td>1.09</td><td>102.87221</td><td>7.3301361</td></tr>\n",
       "<tr><td>6</td><td>50.085692</td><td>-40.246344</td><td>0.34</td><td>38.004278</td><td>7.1808861</td></tr>\n",
       "<tr><td>7</td><td>51.048368</td><td>-41.281951</td><td>0.79</td><td>97.209474</td><td>7.1425742</td></tr>\n",
       "<tr><td>8</td><td>50.577077</td><td>-40.162645</td><td>0.59</td><td>77.867676</td><td>7.0146382</td></tr>\n",
       "<tr><td>9</td><td>49.910711</td><td>-40.070373</td><td>0.89</td><td>112.85888</td><td>6.7818193</td></tr>\n",
       "<tr><td>10</td><td>51.576131</td><td>-40.01887</td><td>0.6</td><td>63.297607</td><td>6.736255</td></tr>\n",
       "<tr><td>...</td><td>...</td><td>...</td><td>...</td><td>...</td><td>...</td></tr>\n",
       "<tr><td>165141</td><td>74.039614</td><td>-38.265504</td><td>1.16</td><td>23.286709</td><td>3.004514</td></tr>\n",
       "<tr><td>165142</td><td>74.118144</td><td>-39.035805</td><td>0.74</td><td>13.640009</td><td>3.0038189</td></tr>\n",
       "<tr><td>165143</td><td>75.522573</td><td>-39.11718</td><td>1.44</td><td>17.499821</td><td>3.0029274</td></tr>\n",
       "<tr><td>165144</td><td>75.639315</td><td>-38.7561</td><td>0.93</td><td>19.282202</td><td>3.002867</td></tr>\n",
       "<tr><td>165145</td><td>73.909092</td><td>-37.884891</td><td>0.55</td><td>9.0095054</td><td>3.0028206</td></tr>\n",
       "<tr><td>165146</td><td>74.750955</td><td>-37.691235</td><td>0.87</td><td>17.124517</td><td>3.0020752</td></tr>\n",
       "<tr><td>165147</td><td>74.384868</td><td>-37.506401</td><td>0.31</td><td>9.2994628</td><td>3.0015272</td></tr>\n",
       "<tr><td>165148</td><td>75.512553</td><td>-38.86225</td><td>0.59</td><td>9.8502328</td><td>3.001017</td></tr>\n",
       "<tr><td>165149</td><td>73.380973</td><td>-38.841003</td><td>1.22</td><td>16.870993</td><td>3.0009622</td></tr>\n",
       "<tr><td>165150</td><td>74.318713</td><td>-38.66631</td><td>1.3</td><td>18.798892</td><td>3.0005498</td></tr>\n",
       "</table></div>"
      ],
      "text/plain": [
       "<Table length=165149>\n",
       "id_cl    ra_cl     dec_cl     z_cl     mass     snr_cl \n",
       "int32   float64   float64   float32  float64   float64 \n",
       "------ --------- ---------- ------- --------- ---------\n",
       "     1 50.603551 -39.582656     1.1 142.18232 8.9331618\n",
       "     2 50.113525  -40.03647    0.44 88.436957 7.9690485\n",
       "     3 50.642569 -41.397661     0.2 71.745564 7.9585033\n",
       "     4 50.421896 -39.587457    0.39 54.827034 7.6627581\n",
       "     5 51.069455 -40.426866    1.09 102.87221 7.3301361\n",
       "     6 50.085692 -40.246344    0.34 38.004278 7.1808861\n",
       "     7 51.048368 -41.281951    0.79 97.209474 7.1425742\n",
       "     8 50.577077 -40.162645    0.59 77.867676 7.0146382\n",
       "     9 49.910711 -40.070373    0.89 112.85888 6.7818193\n",
       "    10 51.576131  -40.01887     0.6 63.297607  6.736255\n",
       "   ...       ...        ...     ...       ...       ...\n",
       "165141 74.039614 -38.265504    1.16 23.286709  3.004514\n",
       "165142 74.118144 -39.035805    0.74 13.640009 3.0038189\n",
       "165143 75.522573  -39.11718    1.44 17.499821 3.0029274\n",
       "165144 75.639315   -38.7561    0.93 19.282202  3.002867\n",
       "165145 73.909092 -37.884891    0.55 9.0095054 3.0028206\n",
       "165146 74.750955 -37.691235    0.87 17.124517 3.0020752\n",
       "165147 74.384868 -37.506401    0.31 9.2994628 3.0015272\n",
       "165148 75.512553  -38.86225    0.59 9.8502328  3.001017\n",
       "165149 73.380973 -38.841003    1.22 16.870993 3.0009622\n",
       "165150 74.318713  -38.66631     1.3 18.798892 3.0005498"
      ]
     },
     "execution_count": 9,
     "metadata": {},
     "output_type": "execute_result"
    }
   ],
   "source": [
    "cam_in"
   ]
  },
  {
   "cell_type": "code",
   "execution_count": 10,
   "id": "bc98ce57-7e5c-4266-9a84-435391e4e983",
   "metadata": {},
   "outputs": [],
   "source": [
    "cam[\"snr_cl\"] = cam_in[\"snr_cl\"]"
   ]
  },
  {
   "cell_type": "code",
   "execution_count": 11,
   "id": "c336f06c-62d9-4d46-971e-fa1d0deacf36",
   "metadata": {
    "tags": []
   },
   "outputs": [
    {
     "data": {
      "text/html": [
       "<div><i>Table length=165149</i>\n",
       "<table id=\"table139926552187808\" class=\"table-striped table-bordered table-condensed\">\n",
       "<thead><tr><th>id_cl</th><th>ra_cl</th><th>dec_cl</th><th>z_cl</th><th>mass</th><th>mt_self</th><th>mt_other</th><th>mt_multi_self</th><th>mt_multi_other</th><th>mt_cross</th><th>snr_cl</th></tr></thead>\n",
       "<thead><tr><th>bytes11</th><th>float64</th><th>float64</th><th>float32</th><th>float64</th><th>bytes13</th><th>bytes13</th><th>bytes134</th><th>bytes134</th><th>bytes13</th><th>float64</th></tr></thead>\n",
       "<tr><td>1</td><td>50.603551</td><td>-39.582656</td><td>1.1</td><td>142.18232</td><td>190400151235</td><td>190400151235</td><td>2401800151213,3279900151235,190400151235</td><td>190400151235,3279900151235,2401800151213</td><td>190400151235</td><td>8.9331618</td></tr>\n",
       "<tr><td>2</td><td>50.113525</td><td>-40.03647</td><td>0.44</td><td>88.436957</td><td>649700151338</td><td>649700151338</td><td>649700151338,125900151315</td><td>649700151338,125900151315</td><td>649700151338</td><td>7.9690485</td></tr>\n",
       "<tr><td>3</td><td>50.642569</td><td>-41.397661</td><td>0.2</td><td>71.745564</td><td>130200151411</td><td>130200151411</td><td>130200151411,220600151392</td><td>130200151411,220600151392</td><td>130200151411</td><td>7.9585033</td></tr>\n",
       "<tr><td>4</td><td>50.421896</td><td>-39.587457</td><td>0.39</td><td>54.827034</td><td>388500151355</td><td>388500151355</td><td>388500151355,690600151338,359100151331,370000151373</td><td>359100151331,690600151338,370000151373,388500151355</td><td>388500151355</td><td>7.6627581</td></tr>\n",
       "<tr><td>5</td><td>51.069455</td><td>-40.426866</td><td>1.09</td><td>102.87221</td><td>461100151235</td><td>461100151235</td><td>461100151235,2623900151241</td><td>461100151235,2623900151241</td><td>461100151235</td><td>7.3301361</td></tr>\n",
       "<tr><td>6</td><td>50.085692</td><td>-40.246344</td><td>0.34</td><td>38.004278</td><td>397900151373</td><td>397900151373</td><td>397900151373,849400151338</td><td>397900151373,849400151338</td><td>397900151373</td><td>7.1808861</td></tr>\n",
       "<tr><td>7</td><td>51.048368</td><td>-41.281951</td><td>0.79</td><td>97.209474</td><td>703400151279</td><td>703400151279</td><td>703400151279,1903300151279,537900164279</td><td>703400151279,1903300151279,537900164279</td><td>703400151279</td><td>7.1425742</td></tr>\n",
       "<tr><td>8</td><td>50.577077</td><td>-40.162645</td><td>0.59</td><td>77.867676</td><td>1038800151307</td><td>1038800151307</td><td>954400151315,1038800151307,306600151331</td><td>954400151315,1038800151307,306600151331</td><td>1038800151307</td><td>7.0146382</td></tr>\n",
       "<tr><td>9</td><td>49.910711</td><td>-40.070373</td><td>0.89</td><td>112.85888</td><td>2552600151259</td><td>2552600151259</td><td>148200151259,2552600151259</td><td>148200151259,2552600151259</td><td>2552600151259</td><td>6.7818193</td></tr>\n",
       "<tr><td>10</td><td>51.576131</td><td>-40.01887</td><td>0.6</td><td>63.297607</td><td>689000151307</td><td>689000151307</td><td>689000151307,1388400151307</td><td>689000151307,1388400151307</td><td>689000151307</td><td>6.736255</td></tr>\n",
       "<tr><td>...</td><td>...</td><td>...</td><td>...</td><td>...</td><td>...</td><td>...</td><td>...</td><td>...</td><td>...</td><td>...</td></tr>\n",
       "<tr><td>165141</td><td>74.039614</td><td>-38.265504</td><td>1.16</td><td>23.286709</td><td>2069700146224</td><td>2069700146224</td><td>2069700146224,3944400146224</td><td>2069700146224,3944400146224</td><td>2069700146224</td><td>3.004514</td></tr>\n",
       "<tr><td>165142</td><td>74.118144</td><td>-39.035805</td><td>0.74</td><td>13.640009</td><td>1041700146286</td><td>1041700146286</td><td>2115500146272,1041700146286</td><td>2115500146272,1041700146286</td><td>1041700146286</td><td>3.0038189</td></tr>\n",
       "<tr><td>165143</td><td>75.522573</td><td>-39.11718</td><td>1.44</td><td>17.499821</td><td>1164800146203</td><td>1164800146203</td><td>1164800146203</td><td>1164800146203</td><td>1164800146203</td><td>3.0029274</td></tr>\n",
       "<tr><td>165144</td><td>75.639315</td><td>-38.7561</td><td>0.93</td><td>19.282202</td><td>8900146253</td><td>8900146253</td><td>8900146253</td><td>8900146253</td><td>8900146253</td><td>3.002867</td></tr>\n",
       "<tr><td>165145</td><td>73.909092</td><td>-37.884891</td><td>0.55</td><td>9.0095054</td><td>308300146323</td><td>308300146323</td><td>308300146323</td><td>308300146323</td><td>308300146323</td><td>3.0028206</td></tr>\n",
       "<tr><td>165146</td><td>74.750955</td><td>-37.691235</td><td>0.87</td><td>17.124517</td><td>1554300146293</td><td>1554300146293</td><td>3424400146247,1554300146293</td><td>3424400146247,1554300146293</td><td>1554300146293</td><td>3.0020752</td></tr>\n",
       "<tr><td>165147</td><td>74.384868</td><td>-37.506401</td><td>0.31</td><td>9.2994628</td><td>2700146392</td><td>2700146392</td><td>2700146392</td><td>2700146392</td><td>2700146392</td><td>3.0015272</td></tr>\n",
       "<tr><td>165148</td><td>75.512553</td><td>-38.86225</td><td>0.59</td><td>9.8502328</td><td>479700146315</td><td>479700146315</td><td>479700146315,340900146323</td><td>479700146315,340900146323</td><td>479700146315</td><td>3.001017</td></tr>\n",
       "<tr><td>165149</td><td>73.380973</td><td>-38.841003</td><td>1.22</td><td>16.870993</td><td>--</td><td>--</td><td>3286400146213</td><td>3286400146213</td><td>--</td><td>3.0009622</td></tr>\n",
       "<tr><td>165150</td><td>74.318713</td><td>-38.66631</td><td>1.3</td><td>18.798892</td><td>6250200146213</td><td>6250200146213</td><td>6250200146213</td><td>6250200146213</td><td>6250200146213</td><td>3.0005498</td></tr>\n",
       "</table></div>"
      ],
      "text/plain": [
       "<Table length=165149>\n",
       " id_cl    ra_cl     dec_cl   ...    mt_cross     snr_cl \n",
       "bytes11  float64   float64   ...    bytes13     float64 \n",
       "------- --------- ---------- ... ------------- ---------\n",
       "      1 50.603551 -39.582656 ...  190400151235 8.9331618\n",
       "      2 50.113525  -40.03647 ...  649700151338 7.9690485\n",
       "      3 50.642569 -41.397661 ...  130200151411 7.9585033\n",
       "      4 50.421896 -39.587457 ...  388500151355 7.6627581\n",
       "      5 51.069455 -40.426866 ...  461100151235 7.3301361\n",
       "      6 50.085692 -40.246344 ...  397900151373 7.1808861\n",
       "      7 51.048368 -41.281951 ...  703400151279 7.1425742\n",
       "      8 50.577077 -40.162645 ... 1038800151307 7.0146382\n",
       "      9 49.910711 -40.070373 ... 2552600151259 6.7818193\n",
       "     10 51.576131  -40.01887 ...  689000151307  6.736255\n",
       "    ...       ...        ... ...           ...       ...\n",
       " 165141 74.039614 -38.265504 ... 2069700146224  3.004514\n",
       " 165142 74.118144 -39.035805 ... 1041700146286 3.0038189\n",
       " 165143 75.522573  -39.11718 ... 1164800146203 3.0029274\n",
       " 165144 75.639315   -38.7561 ...    8900146253  3.002867\n",
       " 165145 73.909092 -37.884891 ...  308300146323 3.0028206\n",
       " 165146 74.750955 -37.691235 ... 1554300146293 3.0020752\n",
       " 165147 74.384868 -37.506401 ...    2700146392 3.0015272\n",
       " 165148 75.512553  -38.86225 ...  479700146315  3.001017\n",
       " 165149 73.380973 -38.841003 ...            -- 3.0009622\n",
       " 165150 74.318713  -38.66631 ... 6250200146213 3.0005498"
      ]
     },
     "execution_count": 11,
     "metadata": {},
     "output_type": "execute_result"
    }
   ],
   "source": [
    "cam"
   ]
  },
  {
   "cell_type": "code",
   "execution_count": 12,
   "id": "d17061bb-eb40-4630-be78-82fd9b0d51eb",
   "metadata": {},
   "outputs": [
    {
     "name": "stderr",
     "output_type": "stream",
     "text": [
      "WARNING: VerifyWarning: Keyword name 'ClEvaR_ver' is greater than 8 characters or contains characters not allowed by the FITS standard; a HIERARCH card will be created. [astropy.io.fits.card]\n",
      "WARNING: VerifyWarning: Keyword name 'LABEL_id_cl' is greater than 8 characters or contains characters not allowed by the FITS standard; a HIERARCH card will be created. [astropy.io.fits.card]\n",
      "WARNING: VerifyWarning: Keyword name 'LABEL_ra_cl' is greater than 8 characters or contains characters not allowed by the FITS standard; a HIERARCH card will be created. [astropy.io.fits.card]\n",
      "WARNING: VerifyWarning: Keyword name 'LABEL_dec_cl' is greater than 8 characters or contains characters not allowed by the FITS standard; a HIERARCH card will be created. [astropy.io.fits.card]\n",
      "WARNING: VerifyWarning: Keyword name 'LABEL_z_cl' is greater than 8 characters or contains characters not allowed by the FITS standard; a HIERARCH card will be created. [astropy.io.fits.card]\n",
      "WARNING: VerifyWarning: Keyword name 'LABEL_mass' is greater than 8 characters or contains characters not allowed by the FITS standard; a HIERARCH card will be created. [astropy.io.fits.card]\n",
      "WARNING: VerifyWarning: Keyword name 'LABEL_skycoord' is greater than 8 characters or contains characters not allowed by the FITS standard; a HIERARCH card will be created. [astropy.io.fits.card]\n",
      "WARNING: VerifyWarning: Keyword name 'LABEL_dec' is greater than 8 characters or contains characters not allowed by the FITS standard; a HIERARCH card will be created. [astropy.io.fits.card]\n",
      "WARNING: VerifyWarning: Keyword name 'MT.0.func' is greater than 8 characters or contains characters not allowed by the FITS standard; a HIERARCH card will be created. [astropy.io.fits.card]\n",
      "WARNING: VerifyWarning: Keyword name 'MT.0.cat' is greater than 8 characters or contains characters not allowed by the FITS standard; a HIERARCH card will be created. [astropy.io.fits.card]\n",
      "WARNING: VerifyWarning: Keyword name 'MT.0.delta_z' is greater than 8 characters or contains characters not allowed by the FITS standard; a HIERARCH card will be created. [astropy.io.fits.card]\n",
      "WARNING: VerifyWarning: Keyword name 'MT.0.match_radius' is greater than 8 characters or contains characters not allowed by the FITS standard; a HIERARCH card will be created. [astropy.io.fits.card]\n",
      "WARNING: VerifyWarning: Keyword name 'MT.0.n_delta_z' is greater than 8 characters or contains characters not allowed by the FITS standard; a HIERARCH card will be created. [astropy.io.fits.card]\n",
      "WARNING: VerifyWarning: Keyword name 'MT.0.n_match_radius' is greater than 8 characters or contains characters not allowed by the FITS standard; a HIERARCH card will be created. [astropy.io.fits.card]\n",
      "WARNING: VerifyWarning: Keyword name 'MT.0.cosmo' is greater than 8 characters or contains characters not allowed by the FITS standard; a HIERARCH card will be created. [astropy.io.fits.card]\n",
      "WARNING: VerifyWarning: Keyword name 'MT.1.func' is greater than 8 characters or contains characters not allowed by the FITS standard; a HIERARCH card will be created. [astropy.io.fits.card]\n",
      "WARNING: VerifyWarning: Keyword name 'MT.1.cat' is greater than 8 characters or contains characters not allowed by the FITS standard; a HIERARCH card will be created. [astropy.io.fits.card]\n",
      "WARNING: VerifyWarning: Keyword name 'MT.1.delta_z' is greater than 8 characters or contains characters not allowed by the FITS standard; a HIERARCH card will be created. [astropy.io.fits.card]\n",
      "WARNING: VerifyWarning: Keyword name 'MT.1.match_radius' is greater than 8 characters or contains characters not allowed by the FITS standard; a HIERARCH card will be created. [astropy.io.fits.card]\n",
      "WARNING: VerifyWarning: Keyword name 'MT.1.n_delta_z' is greater than 8 characters or contains characters not allowed by the FITS standard; a HIERARCH card will be created. [astropy.io.fits.card]\n",
      "WARNING: VerifyWarning: Keyword name 'MT.1.n_match_radius' is greater than 8 characters or contains characters not allowed by the FITS standard; a HIERARCH card will be created. [astropy.io.fits.card]\n",
      "WARNING: VerifyWarning: Keyword name 'MT.1.cosmo' is greater than 8 characters or contains characters not allowed by the FITS standard; a HIERARCH card will be created. [astropy.io.fits.card]\n",
      "WARNING: VerifyWarning: Keyword name 'MT.2.func' is greater than 8 characters or contains characters not allowed by the FITS standard; a HIERARCH card will be created. [astropy.io.fits.card]\n",
      "WARNING: VerifyWarning: Keyword name 'MT.2.cats' is greater than 8 characters or contains characters not allowed by the FITS standard; a HIERARCH card will be created. [astropy.io.fits.card]\n",
      "WARNING: VerifyWarning: Keyword name 'MT.2.radius_selection' is greater than 8 characters or contains characters not allowed by the FITS standard; a HIERARCH card will be created. [astropy.io.fits.card]\n",
      "WARNING: VerifyWarning: Keyword name 'MT.3.func' is greater than 8 characters or contains characters not allowed by the FITS standard; a HIERARCH card will be created. [astropy.io.fits.card]\n",
      "WARNING: VerifyWarning: Keyword name 'MT.3.cats' is greater than 8 characters or contains characters not allowed by the FITS standard; a HIERARCH card will be created. [astropy.io.fits.card]\n",
      "WARNING: VerifyWarning: Keyword name 'MT.3.radius_selection' is greater than 8 characters or contains characters not allowed by the FITS standard; a HIERARCH card will be created. [astropy.io.fits.card]\n",
      "WARNING: VerifyWarning: Keyword name 'MT.4.func' is greater than 8 characters or contains characters not allowed by the FITS standard; a HIERARCH card will be created. [astropy.io.fits.card]\n",
      "WARNING: VerifyWarning: Keyword name 'MT.4.cats' is greater than 8 characters or contains characters not allowed by the FITS standard; a HIERARCH card will be created. [astropy.io.fits.card]\n",
      "WARNING: VerifyWarning: Keyword name 'MT.4.preference' is greater than 8 characters or contains characters not allowed by the FITS standard; a HIERARCH card will be created. [astropy.io.fits.card]\n",
      "WARNING: VerifyWarning: Keyword name 'MT.5.func' is greater than 8 characters or contains characters not allowed by the FITS standard; a HIERARCH card will be created. [astropy.io.fits.card]\n",
      "WARNING: VerifyWarning: Keyword name 'MT.5.cats' is greater than 8 characters or contains characters not allowed by the FITS standard; a HIERARCH card will be created. [astropy.io.fits.card]\n",
      "WARNING: VerifyWarning: Keyword name 'MT.5.preference' is greater than 8 characters or contains characters not allowed by the FITS standard; a HIERARCH card will be created. [astropy.io.fits.card]\n"
     ]
    }
   ],
   "source": [
    "cam.write(outpath + \"amico.cosmoDC2.fzb.magy.fits\", overwrite = True)"
   ]
  },
  {
   "cell_type": "code",
   "execution_count": 10,
   "id": "1fb09271-7b48-43f1-8153-fc2c004d1797",
   "metadata": {},
   "outputs": [],
   "source": [
    "cam_mb = Table.read('/sps/lsst/groups/clusters/amico_validation_project/catalogs/AMICO/amico_cats/amico_map_associations_flxzb_mag/mag_y/10066_map_associations.fits')"
   ]
  },
  {
   "cell_type": "code",
   "execution_count": 11,
   "id": "4d32428d-5fd0-4471-90e4-303a6b897b51",
   "metadata": {},
   "outputs": [
    {
     "data": {
      "text/html": [
       "<div><i>Table length=638230</i>\n",
       "<table id=\"table140525134553696\" class=\"table-striped table-bordered table-condensed\">\n",
       "<thead><tr><th>mb_id</th><th>cl_id</th><th>prob</th><th>uid</th><th>ra</th><th>dec</th><th>z</th><th>lambstar</th><th>SN</th><th>mag_g</th><th>mag_i</th><th>mag_r</th><th>mag_z</th><th>mag_y</th></tr></thead>\n",
       "<thead><tr><th>int64</th><th>int64</th><th>float32</th><th>float64</th><th>float64</th><th>float64</th><th>float64</th><th>float64</th><th>float64</th><th>float64</th><th>float64</th><th>float64</th><th>float64</th><th>float64</th></tr></thead>\n",
       "<tr><td>9439468892</td><td>4</td><td>0.054087784</td><td>1.0</td><td>50.603551</td><td>-39.582656</td><td>1.100000023841858</td><td>142.18232</td><td>8.9331618</td><td>27.9020427325248</td><td>25.646705971050192</td><td>26.676718101787497</td><td>25.020624504375387</td><td>24.812643394756247</td></tr>\n",
       "<tr><td>9439469826</td><td>4</td><td>0.12080993</td><td>1.0</td><td>50.603551</td><td>-39.582656</td><td>1.100000023841858</td><td>142.18232</td><td>8.9331618</td><td>25.71902718264004</td><td>25.172880789817775</td><td>25.69124283510586</td><td>25.000994345725978</td><td>25.0277697058334</td></tr>\n",
       "<tr><td>9439471605</td><td>4</td><td>0.42216426</td><td>1.0</td><td>50.603551</td><td>-39.582656</td><td>1.100000023841858</td><td>142.18232</td><td>8.9331618</td><td>27.873769859611077</td><td>25.726715187369866</td><td>26.719431022941155</td><td>25.083599190055413</td><td>24.852909187614006</td></tr>\n",
       "<tr><td>9439595076</td><td>4</td><td>0.014429001</td><td>1.0</td><td>50.603551</td><td>-39.582656</td><td>1.100000023841858</td><td>142.18232</td><td>8.9331618</td><td>28.944131400057262</td><td>26.207330252596325</td><td>27.214572455355114</td><td>25.17371704764027</td><td>24.75144913382191</td></tr>\n",
       "<tr><td>9439675887</td><td>4</td><td>0.3115481</td><td>1.0</td><td>50.603551</td><td>-39.582656</td><td>1.100000023841858</td><td>142.18232</td><td>8.9331618</td><td>22.081721626435673</td><td>21.394927345429814</td><td>21.919078193818486</td><td>20.831973396455204</td><td>20.540126167451298</td></tr>\n",
       "<tr><td>9439677791</td><td>4</td><td>0.027650895</td><td>1.0</td><td>50.603551</td><td>-39.582656</td><td>1.100000023841858</td><td>142.18232</td><td>8.9331618</td><td>27.461877805679134</td><td>25.893571836440852</td><td>26.74530981251507</td><td>25.304595930068782</td><td>25.18187902638226</td></tr>\n",
       "<tr><td>9439697519</td><td>4</td><td>0.11420723</td><td>1.0</td><td>50.603551</td><td>-39.582656</td><td>1.100000023841858</td><td>142.18232</td><td>8.9331618</td><td>27.33937785769965</td><td>25.69241855289008</td><td>26.586549259677188</td><td>25.090339161410586</td><td>24.962264515414493</td></tr>\n",
       "<tr><td>9439698844</td><td>4</td><td>0.367117</td><td>1.0</td><td>50.603551</td><td>-39.582656</td><td>1.100000023841858</td><td>142.18232</td><td>8.9331618</td><td>27.58149686910603</td><td>25.44547048665974</td><td>26.401046429652904</td><td>24.72321477987263</td><td>24.441425000209545</td></tr>\n",
       "<tr><td>9439706244</td><td>4</td><td>0.4494093</td><td>1.0</td><td>50.603551</td><td>-39.582656</td><td>1.100000023841858</td><td>142.18232</td><td>8.9331618</td><td>26.94370175889156</td><td>25.17840100815914</td><td>26.072571769267537</td><td>24.49973203232906</td><td>24.32494641831539</td></tr>\n",
       "<tr><td>9439763931</td><td>4</td><td>0.47326612</td><td>1.0</td><td>50.603551</td><td>-39.582656</td><td>1.100000023841858</td><td>142.18232</td><td>8.9331618</td><td>24.640567181272743</td><td>24.174918530149696</td><td>24.455197689695595</td><td>23.653363583250282</td><td>23.593003628416298</td></tr>\n",
       "<tr><td>...</td><td>...</td><td>...</td><td>...</td><td>...</td><td>...</td><td>...</td><td>...</td><td>...</td><td>...</td><td>...</td><td>...</td><td>...</td><td>...</td></tr>\n",
       "<tr><td>10253710858</td><td>3487</td><td>0.023549298</td><td>1317.0</td><td>51.728415</td><td>-40.557578</td><td>0.8700000047683716</td><td>13.63807</td><td>3.0004377</td><td>27.367643172819147</td><td>25.921760375577936</td><td>26.623391921598444</td><td>25.047221953947076</td><td>24.593850905973444</td></tr>\n",
       "<tr><td>10253710895</td><td>3487</td><td>0.00795097</td><td>1317.0</td><td>51.728415</td><td>-40.557578</td><td>0.8700000047683716</td><td>13.63807</td><td>3.0004377</td><td>28.622111148219478</td><td>25.80445939956225</td><td>26.967861956935298</td><td>25.02222520766772</td><td>24.40768892226733</td></tr>\n",
       "<tr><td>10253993436</td><td>3487</td><td>0.0056815734</td><td>1317.0</td><td>51.728415</td><td>-40.557578</td><td>0.8700000047683716</td><td>13.63807</td><td>3.0004377</td><td>27.864856502063084</td><td>26.107070704943943</td><td>26.97481133604746</td><td>25.347423335559178</td><td>24.733754893786717</td></tr>\n",
       "<tr><td>10254019074</td><td>3487</td><td>0.02444124</td><td>1317.0</td><td>51.728415</td><td>-40.557578</td><td>0.8700000047683716</td><td>13.63807</td><td>3.0004377</td><td>28.365820396078313</td><td>25.97210739864179</td><td>27.084803092611516</td><td>25.245604026449406</td><td>24.591557014120305</td></tr>\n",
       "<tr><td>10254394834</td><td>3487</td><td>0.06572339</td><td>1317.0</td><td>51.728415</td><td>-40.557578</td><td>0.8700000047683716</td><td>13.63807</td><td>3.0004377</td><td>26.29429864618931</td><td>25.822531220652202</td><td>26.101360795237163</td><td>25.431047913767436</td><td>24.85942125055943</td></tr>\n",
       "<tr><td>10254766632</td><td>3487</td><td>0.022858765</td><td>1317.0</td><td>51.728415</td><td>-40.557578</td><td>0.8700000047683716</td><td>13.63807</td><td>3.0004377</td><td>26.247756774884877</td><td>25.786369140607533</td><td>26.100601013166127</td><td>25.536601837140736</td><td>24.814311798078236</td></tr>\n",
       "<tr><td>10255174215</td><td>3487</td><td>0.012690724</td><td>1317.0</td><td>51.728415</td><td>-40.557578</td><td>0.8700000047683716</td><td>13.63807</td><td>3.0004377</td><td>27.10732369856147</td><td>25.677769712965766</td><td>26.556761793654243</td><td>25.177828840773383</td><td>24.370980314772407</td></tr>\n",
       "<tr><td>10255622894</td><td>3487</td><td>0.03275348</td><td>1317.0</td><td>51.728415</td><td>-40.557578</td><td>0.8700000047683716</td><td>13.63807</td><td>3.0004377</td><td>27.060739634083653</td><td>25.84282886748209</td><td>26.71359073881998</td><td>25.248289225148106</td><td>24.634655115651036</td></tr>\n",
       "<tr><td>10255975325</td><td>3487</td><td>0.016791493</td><td>1317.0</td><td>51.728415</td><td>-40.557578</td><td>0.8700000047683716</td><td>13.63807</td><td>3.0004377</td><td>26.020537207498958</td><td>25.501602957621028</td><td>25.912503073587825</td><td>25.214207480326106</td><td>24.709009955301692</td></tr>\n",
       "<tr><td>10257394893</td><td>3487</td><td>0.008707535</td><td>1317.0</td><td>51.728415</td><td>-40.557578</td><td>0.8700000047683716</td><td>13.63807</td><td>3.0004377</td><td>28.577028552013527</td><td>25.85629300208677</td><td>26.94512013526548</td><td>24.728521624523292</td><td>24.2367880734979</td></tr>\n",
       "</table></div>"
      ],
      "text/plain": [
       "<Table length=638230>\n",
       "   mb_id    cl_id     prob     ...       mag_z              mag_y       \n",
       "   int64    int64   float32    ...      float64            float64      \n",
       "----------- ----- ------------ ... ------------------ ------------------\n",
       " 9439468892     4  0.054087784 ... 25.020624504375387 24.812643394756247\n",
       " 9439469826     4   0.12080993 ... 25.000994345725978   25.0277697058334\n",
       " 9439471605     4   0.42216426 ... 25.083599190055413 24.852909187614006\n",
       " 9439595076     4  0.014429001 ...  25.17371704764027  24.75144913382191\n",
       " 9439675887     4    0.3115481 ... 20.831973396455204 20.540126167451298\n",
       " 9439677791     4  0.027650895 ... 25.304595930068782  25.18187902638226\n",
       " 9439697519     4   0.11420723 ... 25.090339161410586 24.962264515414493\n",
       " 9439698844     4     0.367117 ...  24.72321477987263 24.441425000209545\n",
       " 9439706244     4    0.4494093 ...  24.49973203232906  24.32494641831539\n",
       " 9439763931     4   0.47326612 ... 23.653363583250282 23.593003628416298\n",
       "        ...   ...          ... ...                ...                ...\n",
       "10253710858  3487  0.023549298 ... 25.047221953947076 24.593850905973444\n",
       "10253710895  3487   0.00795097 ...  25.02222520766772  24.40768892226733\n",
       "10253993436  3487 0.0056815734 ... 25.347423335559178 24.733754893786717\n",
       "10254019074  3487   0.02444124 ... 25.245604026449406 24.591557014120305\n",
       "10254394834  3487   0.06572339 ... 25.431047913767436  24.85942125055943\n",
       "10254766632  3487  0.022858765 ... 25.536601837140736 24.814311798078236\n",
       "10255174215  3487  0.012690724 ... 25.177828840773383 24.370980314772407\n",
       "10255622894  3487   0.03275348 ... 25.248289225148106 24.634655115651036\n",
       "10255975325  3487  0.016791493 ... 25.214207480326106 24.709009955301692\n",
       "10257394893  3487  0.008707535 ... 24.728521624523292   24.2367880734979"
      ]
     },
     "execution_count": 11,
     "metadata": {},
     "output_type": "execute_result"
    }
   ],
   "source": [
    "cam_mb"
   ]
  },
  {
   "cell_type": "code",
   "execution_count": 7,
   "id": "c09b0cd7-b7c1-43c0-a44e-7355b4135be4",
   "metadata": {
    "tags": []
   },
   "outputs": [
    {
     "data": {
      "text/html": [
       "<div><i>Table length=165149</i>\n",
       "<table id=\"table140525146713888\" class=\"table-striped table-bordered table-condensed\">\n",
       "<thead><tr><th>id_cl</th><th>ra_cl</th><th>dec_cl</th><th>z_cl</th><th>mass</th></tr></thead>\n",
       "<thead><tr><th>int32</th><th>float64</th><th>float64</th><th>float32</th><th>float64</th></tr></thead>\n",
       "<tr><td>1</td><td>50.603551</td><td>-39.582656</td><td>1.1</td><td>142.18232</td></tr>\n",
       "<tr><td>2</td><td>50.113525</td><td>-40.03647</td><td>0.44</td><td>88.436957</td></tr>\n",
       "<tr><td>3</td><td>50.642569</td><td>-41.397661</td><td>0.2</td><td>71.745564</td></tr>\n",
       "<tr><td>4</td><td>50.421896</td><td>-39.587457</td><td>0.39</td><td>54.827034</td></tr>\n",
       "<tr><td>5</td><td>51.069455</td><td>-40.426866</td><td>1.09</td><td>102.87221</td></tr>\n",
       "<tr><td>6</td><td>50.085692</td><td>-40.246344</td><td>0.34</td><td>38.004278</td></tr>\n",
       "<tr><td>7</td><td>51.048368</td><td>-41.281951</td><td>0.79</td><td>97.209474</td></tr>\n",
       "<tr><td>8</td><td>50.577077</td><td>-40.162645</td><td>0.59</td><td>77.867676</td></tr>\n",
       "<tr><td>9</td><td>49.910711</td><td>-40.070373</td><td>0.89</td><td>112.85888</td></tr>\n",
       "<tr><td>10</td><td>51.576131</td><td>-40.01887</td><td>0.6</td><td>63.297607</td></tr>\n",
       "<tr><td>...</td><td>...</td><td>...</td><td>...</td><td>...</td></tr>\n",
       "<tr><td>165141</td><td>74.039614</td><td>-38.265504</td><td>1.16</td><td>23.286709</td></tr>\n",
       "<tr><td>165142</td><td>74.118144</td><td>-39.035805</td><td>0.74</td><td>13.640009</td></tr>\n",
       "<tr><td>165143</td><td>75.522573</td><td>-39.11718</td><td>1.44</td><td>17.499821</td></tr>\n",
       "<tr><td>165144</td><td>75.639315</td><td>-38.7561</td><td>0.93</td><td>19.282202</td></tr>\n",
       "<tr><td>165145</td><td>73.909092</td><td>-37.884891</td><td>0.55</td><td>9.0095054</td></tr>\n",
       "<tr><td>165146</td><td>74.750955</td><td>-37.691235</td><td>0.87</td><td>17.124517</td></tr>\n",
       "<tr><td>165147</td><td>74.384868</td><td>-37.506401</td><td>0.31</td><td>9.2994628</td></tr>\n",
       "<tr><td>165148</td><td>75.512553</td><td>-38.86225</td><td>0.59</td><td>9.8502328</td></tr>\n",
       "<tr><td>165149</td><td>73.380973</td><td>-38.841003</td><td>1.22</td><td>16.870993</td></tr>\n",
       "<tr><td>165150</td><td>74.318713</td><td>-38.66631</td><td>1.3</td><td>18.798892</td></tr>\n",
       "</table></div>"
      ],
      "text/plain": [
       "<Table length=165149>\n",
       "id_cl    ra_cl     dec_cl     z_cl     mass  \n",
       "int32   float64   float64   float32  float64 \n",
       "------ --------- ---------- ------- ---------\n",
       "     1 50.603551 -39.582656     1.1 142.18232\n",
       "     2 50.113525  -40.03647    0.44 88.436957\n",
       "     3 50.642569 -41.397661     0.2 71.745564\n",
       "     4 50.421896 -39.587457    0.39 54.827034\n",
       "     5 51.069455 -40.426866    1.09 102.87221\n",
       "     6 50.085692 -40.246344    0.34 38.004278\n",
       "     7 51.048368 -41.281951    0.79 97.209474\n",
       "     8 50.577077 -40.162645    0.59 77.867676\n",
       "     9 49.910711 -40.070373    0.89 112.85888\n",
       "    10 51.576131  -40.01887     0.6 63.297607\n",
       "   ...       ...        ...     ...       ...\n",
       "165141 74.039614 -38.265504    1.16 23.286709\n",
       "165142 74.118144 -39.035805    0.74 13.640009\n",
       "165143 75.522573  -39.11718    1.44 17.499821\n",
       "165144 75.639315   -38.7561    0.93 19.282202\n",
       "165145 73.909092 -37.884891    0.55 9.0095054\n",
       "165146 74.750955 -37.691235    0.87 17.124517\n",
       "165147 74.384868 -37.506401    0.31 9.2994628\n",
       "165148 75.512553  -38.86225    0.59 9.8502328\n",
       "165149 73.380973 -38.841003    1.22 16.870993\n",
       "165150 74.318713  -38.66631     1.3 18.798892"
      ]
     },
     "execution_count": 7,
     "metadata": {},
     "output_type": "execute_result"
    }
   ],
   "source": [
    "cam"
   ]
  },
  {
   "cell_type": "code",
   "execution_count": 6,
   "id": "ac50170f-7a67-4e85-a23e-49f4452fd26a",
   "metadata": {},
   "outputs": [
    {
     "ename": "KeyError",
     "evalue": "'Column sn does not exist'",
     "output_type": "error",
     "traceback": [
      "\u001b[0;31m---------------------------------------------------------------------------\u001b[0m",
      "\u001b[0;31mKeyError\u001b[0m                                  Traceback (most recent call last)",
      "Cell \u001b[0;32mIn [6], line 5\u001b[0m\n\u001b[1;32m      3\u001b[0m cam\u001b[38;5;241m.\u001b[39mrename_column(\u001b[38;5;124m'\u001b[39m\u001b[38;5;124mdec\u001b[39m\u001b[38;5;124m'\u001b[39m, \u001b[38;5;124m'\u001b[39m\u001b[38;5;124mdec_cl\u001b[39m\u001b[38;5;124m'\u001b[39m)\n\u001b[1;32m      4\u001b[0m cam\u001b[38;5;241m.\u001b[39mrename_column(\u001b[38;5;124m'\u001b[39m\u001b[38;5;124mz\u001b[39m\u001b[38;5;124m'\u001b[39m, \u001b[38;5;124m'\u001b[39m\u001b[38;5;124mz_cl\u001b[39m\u001b[38;5;124m'\u001b[39m)\n\u001b[0;32m----> 5\u001b[0m \u001b[43mcam\u001b[49m\u001b[38;5;241;43m.\u001b[39;49m\u001b[43mrename_column\u001b[49m\u001b[43m(\u001b[49m\u001b[38;5;124;43m'\u001b[39;49m\u001b[38;5;124;43msn\u001b[39;49m\u001b[38;5;124;43m'\u001b[39;49m\u001b[43m,\u001b[49m\u001b[43m \u001b[49m\u001b[38;5;124;43m'\u001b[39;49m\u001b[38;5;124;43msnr_cl\u001b[39;49m\u001b[38;5;124;43m'\u001b[39;49m\u001b[43m)\u001b[49m\n",
      "File \u001b[0;32m/sps/lsst/users/namourou/conda_clone_210223/descv1.1/lib/python3.10/site-packages/astropy/table/table.py:2823\u001b[0m, in \u001b[0;36mTable.rename_column\u001b[0;34m(self, name, new_name)\u001b[0m\n\u001b[1;32m   2784\u001b[0m \u001b[38;5;124;03m'''\u001b[39;00m\n\u001b[1;32m   2785\u001b[0m \u001b[38;5;124;03mRename a column.\u001b[39;00m\n\u001b[1;32m   2786\u001b[0m \n\u001b[0;32m   (...)\u001b[0m\n\u001b[1;32m   2819\u001b[0m \u001b[38;5;124;03m      2   4   6\u001b[39;00m\n\u001b[1;32m   2820\u001b[0m \u001b[38;5;124;03m'''\u001b[39;00m\n\u001b[1;32m   2822\u001b[0m \u001b[38;5;28;01mif\u001b[39;00m name \u001b[38;5;129;01mnot\u001b[39;00m \u001b[38;5;129;01min\u001b[39;00m \u001b[38;5;28mself\u001b[39m\u001b[38;5;241m.\u001b[39mkeys():\n\u001b[0;32m-> 2823\u001b[0m     \u001b[38;5;28;01mraise\u001b[39;00m \u001b[38;5;167;01mKeyError\u001b[39;00m(\u001b[38;5;124mf\u001b[39m\u001b[38;5;124m\"\u001b[39m\u001b[38;5;124mColumn \u001b[39m\u001b[38;5;132;01m{\u001b[39;00mname\u001b[38;5;132;01m}\u001b[39;00m\u001b[38;5;124m does not exist\u001b[39m\u001b[38;5;124m\"\u001b[39m)\n\u001b[1;32m   2825\u001b[0m \u001b[38;5;28mself\u001b[39m\u001b[38;5;241m.\u001b[39mcolumns[name]\u001b[38;5;241m.\u001b[39minfo\u001b[38;5;241m.\u001b[39mname \u001b[38;5;241m=\u001b[39m new_name\n",
      "\u001b[0;31mKeyError\u001b[0m: 'Column sn does not exist'"
     ]
    }
   ],
   "source": [
    "cam.rename_column('id', 'id_cl')\n",
    "cam.rename_column('ra', 'ra_cl')\n",
    "cam.rename_column('dec', 'dec_cl')\n",
    "cam.rename_column('z', 'z_cl')\n",
    "cam.rename_column('sn', 'snr_cl')"
   ]
  },
  {
   "cell_type": "code",
   "execution_count": 9,
   "id": "b486f35a-4c66-405e-9df4-13c91aea88ef",
   "metadata": {
    "collapsed": true,
    "jupyter": {
     "outputs_hidden": true
    },
    "tags": []
   },
   "outputs": [
    {
     "data": {
      "text/html": [
       "<div><i>Table length=135916</i>\n",
       "<table id=\"table140696876104096\" class=\"table-striped table-bordered table-condensed\">\n",
       "<thead><tr><th>id_cl</th><th>ra_cl</th><th>dec_cl</th><th>z_cl</th><th>mass</th><th>snr_cl</th></tr></thead>\n",
       "<thead><tr><th>int32</th><th>float64</th><th>float64</th><th>float32</th><th>float64</th><th>float64</th></tr></thead>\n",
       "<tr><td>1</td><td>50.113525</td><td>-40.03647</td><td>0.44</td><td>75.694496</td><td>8.411978</td></tr>\n",
       "<tr><td>2</td><td>50.642569</td><td>-41.402661</td><td>0.2</td><td>62.659902</td><td>8.2879317</td></tr>\n",
       "<tr><td>3</td><td>50.421896</td><td>-39.587457</td><td>0.39</td><td>48.460455</td><td>7.985019</td></tr>\n",
       "<tr><td>4</td><td>50.603551</td><td>-39.582656</td><td>1.1</td><td>118.29114</td><td>7.8894553</td></tr>\n",
       "<tr><td>5</td><td>50.577077</td><td>-40.162645</td><td>0.59</td><td>72.90131</td><td>7.5111213</td></tr>\n",
       "<tr><td>6</td><td>51.048368</td><td>-41.281951</td><td>0.79</td><td>79.642977</td><td>7.3805106</td></tr>\n",
       "<tr><td>7</td><td>50.085692</td><td>-40.246344</td><td>0.33</td><td>32.591521</td><td>7.1875265</td></tr>\n",
       "<tr><td>8</td><td>50.590563</td><td>-39.602651</td><td>0.39</td><td>37.742523</td><td>7.0361362</td></tr>\n",
       "<tr><td>9</td><td>51.576131</td><td>-40.01887</td><td>0.61</td><td>55.388537</td><td>6.904526</td></tr>\n",
       "<tr><td>10</td><td>51.329314</td><td>-40.145608</td><td>0.32</td><td>35.888131</td><td>6.8571554</td></tr>\n",
       "<tr><td>...</td><td>...</td><td>...</td><td>...</td><td>...</td><td>...</td></tr>\n",
       "<tr><td>135907</td><td>75.05046</td><td>-38.040244</td><td>0.45</td><td>6.6033458</td><td>3.0076316</td></tr>\n",
       "<tr><td>135908</td><td>73.814582</td><td>-39.139395</td><td>0.91</td><td>11.437012</td><td>3.006988</td></tr>\n",
       "<tr><td>135909</td><td>73.80212</td><td>-38.4543</td><td>1.03</td><td>8.6402904</td><td>3.0037233</td></tr>\n",
       "<tr><td>135910</td><td>74.422157</td><td>-37.911437</td><td>0.86</td><td>14.152616</td><td>3.0032</td></tr>\n",
       "<tr><td>135911</td><td>75.312381</td><td>-38.188751</td><td>1.04</td><td>18.107258</td><td>3.0024462</td></tr>\n",
       "<tr><td>135912</td><td>74.275797</td><td>-38.096228</td><td>1.07</td><td>14.805209</td><td>3.0017868</td></tr>\n",
       "<tr><td>135913</td><td>74.478506</td><td>-39.246469</td><td>1.61</td><td>7.00055</td><td>3.0017405</td></tr>\n",
       "<tr><td>135914</td><td>73.463895</td><td>-38.441748</td><td>0.95</td><td>12.725113</td><td>3.0007275</td></tr>\n",
       "<tr><td>135915</td><td>74.653667</td><td>-39.681394</td><td>1.14</td><td>14.320474</td><td>3.0004716</td></tr>\n",
       "<tr><td>135916</td><td>73.590208</td><td>-38.54782</td><td>1.15</td><td>17.084618</td><td>3.0003829</td></tr>\n",
       "</table></div>"
      ],
      "text/plain": [
       "<Table length=135916>\n",
       "id_cl    ra_cl     dec_cl     z_cl     mass     snr_cl \n",
       "int32   float64   float64   float32  float64   float64 \n",
       "------ --------- ---------- ------- --------- ---------\n",
       "     1 50.113525  -40.03647    0.44 75.694496  8.411978\n",
       "     2 50.642569 -41.402661     0.2 62.659902 8.2879317\n",
       "     3 50.421896 -39.587457    0.39 48.460455  7.985019\n",
       "     4 50.603551 -39.582656     1.1 118.29114 7.8894553\n",
       "     5 50.577077 -40.162645    0.59  72.90131 7.5111213\n",
       "     6 51.048368 -41.281951    0.79 79.642977 7.3805106\n",
       "     7 50.085692 -40.246344    0.33 32.591521 7.1875265\n",
       "     8 50.590563 -39.602651    0.39 37.742523 7.0361362\n",
       "     9 51.576131  -40.01887    0.61 55.388537  6.904526\n",
       "    10 51.329314 -40.145608    0.32 35.888131 6.8571554\n",
       "   ...       ...        ...     ...       ...       ...\n",
       "135907  75.05046 -38.040244    0.45 6.6033458 3.0076316\n",
       "135908 73.814582 -39.139395    0.91 11.437012  3.006988\n",
       "135909  73.80212   -38.4543    1.03 8.6402904 3.0037233\n",
       "135910 74.422157 -37.911437    0.86 14.152616    3.0032\n",
       "135911 75.312381 -38.188751    1.04 18.107258 3.0024462\n",
       "135912 74.275797 -38.096228    1.07 14.805209 3.0017868\n",
       "135913 74.478506 -39.246469    1.61   7.00055 3.0017405\n",
       "135914 73.463895 -38.441748    0.95 12.725113 3.0007275\n",
       "135915 74.653667 -39.681394    1.14 14.320474 3.0004716\n",
       "135916 73.590208  -38.54782    1.15 17.084618 3.0003829"
      ]
     },
     "execution_count": 9,
     "metadata": {},
     "output_type": "execute_result"
    }
   ],
   "source": [
    "cam"
   ]
  },
  {
   "cell_type": "code",
   "execution_count": null,
   "id": "e489b065-ed40-480e-87d1-efdbce86e67f",
   "metadata": {},
   "outputs": [],
   "source": [
    "cam.write(outpath + \"magy/Catalog.fits\")"
   ]
  },
  {
   "cell_type": "code",
   "execution_count": 11,
   "id": "177d1bae-b0d0-4e48-9029-42e6bd7601bb",
   "metadata": {
    "tags": []
   },
   "outputs": [
    {
     "data": {
      "text/html": [
       "<div><i>Table length=48913706</i>\n",
       "<table id=\"table140696874808176\" class=\"table-striped table-bordered table-condensed\">\n",
       "<thead><tr><th>id</th><th>id_cluster</th><th>ra</th><th>dec</th><th>z</th><th>pmem</th><th>lambstar</th><th>mag_g</th><th>mag_i</th><th>mag_r</th><th>mag_z</th><th>mag_y</th></tr></thead>\n",
       "<thead><tr><th>int64</th><th>int64</th><th>float64</th><th>float64</th><th>float64</th><th>float32</th><th>float64</th><th>float64</th><th>float64</th><th>float64</th><th>float64</th><th>float64</th></tr></thead>\n",
       "<tr><td>9437510655</td><td>1</td><td>50.113525</td><td>-40.03647</td><td>0.4399999976158142</td><td>0.08503411</td><td>75.694496</td><td>25.613599993390547</td><td>24.431257464093672</td><td>24.79915449778508</td><td>24.217455126447188</td><td>24.099657274884688</td></tr>\n",
       "<tr><td>9437518527</td><td>1</td><td>50.113525</td><td>-40.03647</td><td>0.4399999976158142</td><td>0.383052</td><td>75.694496</td><td>25.66774281946691</td><td>24.312455267587026</td><td>24.722664923348745</td><td>24.07782468287023</td><td>23.92252454248937</td></tr>\n",
       "<tr><td>9437520066</td><td>1</td><td>50.113525</td><td>-40.03647</td><td>0.4399999976158142</td><td>0.0845746</td><td>75.694496</td><td>26.196764557069983</td><td>24.945953933901038</td><td>25.33321627826139</td><td>24.719030945009436</td><td>24.58740100116178</td></tr>\n",
       "<tr><td>9437525515</td><td>1</td><td>50.113525</td><td>-40.03647</td><td>0.4399999976158142</td><td>0.048780423</td><td>75.694496</td><td>25.215890776063116</td><td>24.182144056702764</td><td>24.497100721741827</td><td>24.002323042298467</td><td>23.898752104188116</td></tr>\n",
       "<tr><td>9437538932</td><td>1</td><td>50.113525</td><td>-40.03647</td><td>0.4399999976158142</td><td>0.2377326</td><td>75.694496</td><td>24.55827213290129</td><td>23.10973239901457</td><td>23.55191112521086</td><td>22.80600048067961</td><td>22.538017997769455</td></tr>\n",
       "<tr><td>9437546477</td><td>1</td><td>50.113525</td><td>-40.03647</td><td>0.4399999976158142</td><td>0.11205486</td><td>75.694496</td><td>25.88690793419144</td><td>24.390240072252965</td><td>24.827799200060582</td><td>24.143799184801793</td><td>23.959812520983434</td></tr>\n",
       "<tr><td>9437547708</td><td>1</td><td>50.113525</td><td>-40.03647</td><td>0.4399999976158142</td><td>0.1653368</td><td>75.694496</td><td>26.03412381877295</td><td>24.87912885417334</td><td>25.201016824144045</td><td>24.70000974406592</td><td>24.587483804124513</td></tr>\n",
       "<tr><td>9437549285</td><td>1</td><td>50.113525</td><td>-40.03647</td><td>0.4399999976158142</td><td>0.14656283</td><td>75.694496</td><td>25.60490256821246</td><td>24.027437510839412</td><td>24.49084884201617</td><td>23.732315364232967</td><td>23.540010753026912</td></tr>\n",
       "<tr><td>9437551595</td><td>1</td><td>50.113525</td><td>-40.03647</td><td>0.4399999976158142</td><td>0.153697</td><td>75.694496</td><td>26.404983157788447</td><td>24.902032489453486</td><td>25.331271762524775</td><td>24.664094562207392</td><td>24.49681627241247</td></tr>\n",
       "<tr><td>9437575830</td><td>1</td><td>50.113525</td><td>-40.03647</td><td>0.4399999976158142</td><td>0.3388556</td><td>75.694496</td><td>25.962926710713873</td><td>24.397052610982428</td><td>24.852428282369146</td><td>24.152955855000982</td><td>23.969283903707037</td></tr>\n",
       "<tr><td>...</td><td>...</td><td>...</td><td>...</td><td>...</td><td>...</td><td>...</td><td>...</td><td>...</td><td>...</td><td>...</td><td>...</td></tr>\n",
       "<tr><td>9128618955</td><td>135916</td><td>73.590208</td><td>-38.54782</td><td>1.149999976158142</td><td>0.16205995</td><td>17.084618</td><td>24.86324416891174</td><td>24.46753989950256</td><td>24.597615354214476</td><td>23.840886228237913</td><td>23.771884076748655</td></tr>\n",
       "<tr><td>9128676490</td><td>135916</td><td>73.590208</td><td>-38.54782</td><td>1.149999976158142</td><td>0.027597953</td><td>17.084618</td><td>22.671602363381275</td><td>22.560884589943775</td><td>22.67973720530022</td><td>22.052847022805103</td><td>21.778577918801197</td></tr>\n",
       "<tr><td>9128680016</td><td>135916</td><td>73.590208</td><td>-38.54782</td><td>1.149999976158142</td><td>0.20621441</td><td>17.084618</td><td>24.871535445820157</td><td>24.529845382343595</td><td>24.6998664394725</td><td>23.983939315449064</td><td>23.700398589741056</td></tr>\n",
       "<tr><td>9128692224</td><td>135916</td><td>73.590208</td><td>-38.54782</td><td>1.149999976158142</td><td>0.06902544</td><td>17.084618</td><td>24.70182072929176</td><td>24.310995457685316</td><td>24.552360890424573</td><td>23.744060872114026</td><td>23.362841008222425</td></tr>\n",
       "<tr><td>9128692227</td><td>135916</td><td>73.590208</td><td>-38.54782</td><td>1.149999976158142</td><td>0.027011976</td><td>17.084618</td><td>25.264386523649808</td><td>24.793265689299222</td><td>25.000300753996488</td><td>24.216622699186917</td><td>23.92288338033926</td></tr>\n",
       "<tr><td>9128706903</td><td>135916</td><td>73.590208</td><td>-38.54782</td><td>1.149999976158142</td><td>0.026941588</td><td>17.084618</td><td>25.088666259648942</td><td>23.771115600469255</td><td>24.48733264148488</td><td>22.9267056578423</td><td>22.432561218145036</td></tr>\n",
       "<tr><td>9128708898</td><td>135916</td><td>73.590208</td><td>-38.54782</td><td>1.149999976158142</td><td>0.024419002</td><td>17.084618</td><td>24.478955536770865</td><td>24.303731232571646</td><td>24.2954800423861</td><td>23.893199234890982</td><td>23.85020187466149</td></tr>\n",
       "<tr><td>9128713516</td><td>135916</td><td>73.590208</td><td>-38.54782</td><td>1.149999976158142</td><td>0.10238926</td><td>17.084618</td><td>23.68392093200541</td><td>23.587866854856973</td><td>23.653399539183145</td><td>23.116078448484902</td><td>22.89637095947123</td></tr>\n",
       "<tr><td>9128718632</td><td>135916</td><td>73.590208</td><td>-38.54782</td><td>1.149999976158142</td><td>0.02000068</td><td>17.084618</td><td>24.849106948076223</td><td>24.22548214644048</td><td>24.558854262529348</td><td>23.516215483842824</td><td>23.149550597368215</td></tr>\n",
       "<tr><td>9130213909</td><td>135916</td><td>73.590208</td><td>-38.54782</td><td>1.149999976158142</td><td>0.016256765</td><td>17.084618</td><td>24.629921029040467</td><td>24.7565155724975</td><td>24.76434333128656</td><td>24.80394751829828</td><td>24.459728310534608</td></tr>\n",
       "</table></div>"
      ],
      "text/plain": [
       "<Table length=48913706>\n",
       "    id     id_cluster     ra    ...       mag_z              mag_y       \n",
       "  int64      int64     float64  ...      float64            float64      \n",
       "---------- ---------- --------- ... ------------------ ------------------\n",
       "9437510655          1 50.113525 ... 24.217455126447188 24.099657274884688\n",
       "9437518527          1 50.113525 ...  24.07782468287023  23.92252454248937\n",
       "9437520066          1 50.113525 ... 24.719030945009436  24.58740100116178\n",
       "9437525515          1 50.113525 ... 24.002323042298467 23.898752104188116\n",
       "9437538932          1 50.113525 ...  22.80600048067961 22.538017997769455\n",
       "9437546477          1 50.113525 ... 24.143799184801793 23.959812520983434\n",
       "9437547708          1 50.113525 ...  24.70000974406592 24.587483804124513\n",
       "9437549285          1 50.113525 ... 23.732315364232967 23.540010753026912\n",
       "9437551595          1 50.113525 ... 24.664094562207392  24.49681627241247\n",
       "9437575830          1 50.113525 ... 24.152955855000982 23.969283903707037\n",
       "       ...        ...       ... ...                ...                ...\n",
       "9128618955     135916 73.590208 ... 23.840886228237913 23.771884076748655\n",
       "9128676490     135916 73.590208 ... 22.052847022805103 21.778577918801197\n",
       "9128680016     135916 73.590208 ... 23.983939315449064 23.700398589741056\n",
       "9128692224     135916 73.590208 ... 23.744060872114026 23.362841008222425\n",
       "9128692227     135916 73.590208 ... 24.216622699186917  23.92288338033926\n",
       "9128706903     135916 73.590208 ...   22.9267056578423 22.432561218145036\n",
       "9128708898     135916 73.590208 ... 23.893199234890982  23.85020187466149\n",
       "9128713516     135916 73.590208 ... 23.116078448484902  22.89637095947123\n",
       "9128718632     135916 73.590208 ... 23.516215483842824 23.149550597368215\n",
       "9130213909     135916 73.590208 ...  24.80394751829828 24.459728310534608"
      ]
     },
     "execution_count": 11,
     "metadata": {},
     "output_type": "execute_result"
    }
   ],
   "source": [
    "cam_mb"
   ]
  },
  {
   "cell_type": "code",
   "execution_count": 6,
   "id": "e182f7d4-976d-4694-af0c-d45b510b62ee",
   "metadata": {},
   "outputs": [],
   "source": [
    "cam_mb.rename_column('id', 'id_mb')\n",
    "cam_mb.rename_column('id_cluster', 'clid_mb')\n",
    "cam_mb.rename_column('ra', 'ra_mb')\n",
    "cam_mb.rename_column('dec', 'dec_mb')\n",
    "cam_mb.rename_column('z', 'z_mb')"
   ]
  },
  {
   "cell_type": "code",
   "execution_count": null,
   "id": "f723c51f-e313-4d26-b162-f54ec73be810",
   "metadata": {},
   "outputs": [],
   "source": [
    "cam_mb.write(outpath + \"magi/Catalog_members.fits\")"
   ]
  },
  {
   "cell_type": "code",
   "execution_count": 155,
   "id": "df31253e-dc14-4e2d-9224-dc0e2124f812",
   "metadata": {},
   "outputs": [],
   "source": [
    "dc2_m[\"log10_mass\"] = np.log10(dc2_m[\"mass\"])"
   ]
  },
  {
   "cell_type": "code",
   "execution_count": 156,
   "id": "ec4ead82-d377-4c2d-af65-cf2b9ef75154",
   "metadata": {
    "tags": []
   },
   "outputs": [],
   "source": [
    "dc2_m.write(\"/sps/lsst/groups/clusters/cluster_comparison_project/after_matching/amico.DC2.fzb.magy_cosmoDC2/sn8_DC2.masked/proximity_matching_deltaz_0.05_matchradius_1mpc/cosmoDC2.DC2.masked.fits\", overwrite = True)"
   ]
  },
  {
   "cell_type": "code",
   "execution_count": 162,
   "id": "db09670d-cfcd-4528-b79b-f5518e66aef5",
   "metadata": {},
   "outputs": [],
   "source": [
    "dc2.rename_column('m200c', 'mass')"
   ]
  },
  {
   "cell_type": "code",
   "execution_count": 161,
   "id": "ef348475-f7d6-492a-bd85-b83d0fa81021",
   "metadata": {},
   "outputs": [],
   "source": [
    "dc2.rename_column('log10_m200c', 'log10_mass')"
   ]
  },
  {
   "cell_type": "code",
   "execution_count": 163,
   "id": "76b29a76-f343-46d0-aab6-3b8552f5a8e9",
   "metadata": {},
   "outputs": [
    {
     "data": {
      "text/html": [
       "<div><i>Table length=314603</i>\n",
       "<table id=\"table139639919636976\" class=\"table-striped table-bordered table-condensed\">\n",
       "<thead><tr><th>id_cl</th><th>ra_cl</th><th>dec_cl</th><th>z_cl</th><th>mass_not_m200c</th><th>log10_mass_not_m200c</th><th>mass</th><th>log10_mass</th></tr></thead>\n",
       "<thead><tr><th>int64</th><th>float64</th><th>float64</th><th>float64</th><th>float64</th><th>float64</th><th>float64</th><th>float64</th></tr></thead>\n",
       "<tr><td>47800022421</td><td>56.31640050745837</td><td>-27.123248927448433</td><td>0.15471410751342773</td><td>1.445e+13</td><td>13.159881489329816</td><td>11746195611763.38</td><td>13.069897228960714</td></tr>\n",
       "<tr><td>335300022392</td><td>56.20631909244256</td><td>-27.07335275044336</td><td>0.25766968727111816</td><td>3.541e+13</td><td>13.549080543870968</td><td>35157899650523.945</td><td>13.546022922219889</td></tr>\n",
       "<tr><td>129600022373</td><td>56.25214648991651</td><td>-27.26463039851732</td><td>0.31463730335235596</td><td>1.653e+13</td><td>13.218331871925377</td><td>17144291443380.283</td><td>13.234119540860185</td></tr>\n",
       "<tr><td>19800022365</td><td>56.02662020655569</td><td>-26.970276092239082</td><td>0.3517007827758789</td><td>1.598e+13</td><td>13.203663019288253</td><td>11126741955425.354</td><td>13.046368016273819</td></tr>\n",
       "<tr><td>198600022347</td><td>56.485565204023494</td><td>-26.96578317279822</td><td>0.4311535358428955</td><td>1.139e+13</td><td>13.05662052349583</td><td>11353180465757.746</td><td>13.055117541285824</td></tr>\n",
       "<tr><td>1300022338</td><td>56.10786310319474</td><td>-27.056488906952147</td><td>0.45837175846099854</td><td>1.160e+13</td><td>13.064389632660982</td><td>11267290276416.902</td><td>13.051819483082706</td></tr>\n",
       "<tr><td>234300022338</td><td>56.15652858767426</td><td>-27.01537283979463</td><td>0.45865511894226074</td><td>1.334e+13</td><td>13.125048215651177</td><td>13555104407436.621</td><td>13.132102867058443</td></tr>\n",
       "<tr><td>292100022338</td><td>56.30086035857077</td><td>-27.00696558628441</td><td>0.4396505355834961</td><td>1.452e+13</td><td>13.161987984082694</td><td>14322914583797.184</td><td>13.156031401970667</td></tr>\n",
       "<tr><td>315700022338</td><td>56.107646602854466</td><td>-27.038192391741962</td><td>0.4593818187713623</td><td>1.166e+13</td><td>13.06681954080713</td><td>10030985204461.973</td><td>13.001343589834864</td></tr>\n",
       "<tr><td>456500022338</td><td>56.38284926613268</td><td>-27.02170392822795</td><td>0.4404236078262329</td><td>1.063e+13</td><td>13.026421433224701</td><td>11220440343797.184</td><td>13.050009901049256</td></tr>\n",
       "<tr><td>...</td><td>...</td><td>...</td><td>...</td><td>...</td><td>...</td><td>...</td><td>...</td></tr>\n",
       "<tr><td>5056300193124</td><td>73.09179369411189</td><td>-44.27208173237025</td><td>2.863961935043335</td><td>1.143e+13</td><td>13.05790857623283</td><td>12506197589092.959</td><td>13.09712528594507</td></tr>\n",
       "<tr><td>5252500193124</td><td>73.83054507969902</td><td>-44.62198612093924</td><td>2.8855791091918945</td><td>2.027e+13</td><td>13.306833697600034</td><td>22185812360292.957</td><td>13.346075335560272</td></tr>\n",
       "<tr><td>5473000193124</td><td>72.71532000109539</td><td>-44.27933358401509</td><td>2.869947671890259</td><td>1.844e+13</td><td>13.265814874753836</td><td>22053071499898.594</td><td>13.343469085529895</td></tr>\n",
       "<tr><td>5655500193124</td><td>72.78324476354646</td><td>-44.03425572691153</td><td>2.9165775775909424</td><td>1.260e+13</td><td>13.100289832020808</td><td>14187571482681.691</td><td>13.151908062692687</td></tr>\n",
       "<tr><td>1250600193121</td><td>72.16015005667711</td><td>-44.629217032676905</td><td>3.0051183700561523</td><td>1.081e+13</td><td>13.033804467110725</td><td>11785236606918.31</td><td>13.07133830608372</td></tr>\n",
       "<tr><td>1638900193121</td><td>72.42018629628721</td><td>-43.97819730849899</td><td>2.99839186668396</td><td>9.805e+12</td><td>12.99143527117133</td><td>10569753891335.21</td><td>13.02406487520909</td></tr>\n",
       "<tr><td>1805500193121</td><td>73.16946169058204</td><td>-43.91803272264049</td><td>2.944169282913208</td><td>1.273e+13</td><td>13.10492988776493</td><td>13726884786118.31</td><td>13.137571988532843</td></tr>\n",
       "<tr><td>4540300193121</td><td>73.89058920742978</td><td>-44.51663276785286</td><td>3.0145468711853027</td><td>1.217e+13</td><td>13.085413060332602</td><td>11387016241036.621</td><td>13.056409940074486</td></tr>\n",
       "<tr><td>5541600193121</td><td>72.49711523026612</td><td>-44.13615290948399</td><td>2.9509148597717285</td><td>1.103e+13</td><td>13.04239903910645</td><td>12339621691853.521</td><td>13.091301845300224</td></tr>\n",
       "<tr><td>5788500193121</td><td>72.49206267522683</td><td>-44.091433148096066</td><td>2.947542190551758</td><td>1.001e+13</td><td>13.00044956846466</td><td>10697288793419.719</td><td>13.029273720558367</td></tr>\n",
       "</table></div>"
      ],
      "text/plain": [
       "<Table length=314603>\n",
       "    id_cl           ra_cl        ...        mass            log10_mass    \n",
       "    int64          float64       ...      float64            float64      \n",
       "------------- ------------------ ... ------------------ ------------------\n",
       "  47800022421  56.31640050745837 ...  11746195611763.38 13.069897228960714\n",
       " 335300022392  56.20631909244256 ... 35157899650523.945 13.546022922219889\n",
       " 129600022373  56.25214648991651 ... 17144291443380.283 13.234119540860185\n",
       "  19800022365  56.02662020655569 ... 11126741955425.354 13.046368016273819\n",
       " 198600022347 56.485565204023494 ... 11353180465757.746 13.055117541285824\n",
       "   1300022338  56.10786310319474 ... 11267290276416.902 13.051819483082706\n",
       " 234300022338  56.15652858767426 ... 13555104407436.621 13.132102867058443\n",
       " 292100022338  56.30086035857077 ... 14322914583797.184 13.156031401970667\n",
       " 315700022338 56.107646602854466 ... 10030985204461.973 13.001343589834864\n",
       " 456500022338  56.38284926613268 ... 11220440343797.184 13.050009901049256\n",
       "          ...                ... ...                ...                ...\n",
       "5056300193124  73.09179369411189 ... 12506197589092.959  13.09712528594507\n",
       "5252500193124  73.83054507969902 ... 22185812360292.957 13.346075335560272\n",
       "5473000193124  72.71532000109539 ... 22053071499898.594 13.343469085529895\n",
       "5655500193124  72.78324476354646 ... 14187571482681.691 13.151908062692687\n",
       "1250600193121  72.16015005667711 ...  11785236606918.31  13.07133830608372\n",
       "1638900193121  72.42018629628721 ...  10569753891335.21  13.02406487520909\n",
       "1805500193121  73.16946169058204 ...  13726884786118.31 13.137571988532843\n",
       "4540300193121  73.89058920742978 ... 11387016241036.621 13.056409940074486\n",
       "5541600193121  72.49711523026612 ... 12339621691853.521 13.091301845300224\n",
       "5788500193121  72.49206267522683 ... 10697288793419.719 13.029273720558367"
      ]
     },
     "execution_count": 165,
     "metadata": {},
     "output_type": "execute_result"
    }
   ],
   "source": [
    "dc2"
   ]
  },
  {
   "cell_type": "code",
   "execution_count": 108,
   "id": "1cf49c8d-a5d9-44e8-81e7-532bf787da0c",
   "metadata": {},
   "outputs": [
    {
     "data": {
      "text/html": [
       "<div><i>Table length=314603</i>\n",
       "<table id=\"table139639919636976\" class=\"table-striped table-bordered table-condensed\">\n",
       "<thead><tr><th>id_cl</th><th>ra_cl</th><th>dec_cl</th><th>z_cl</th><th>mass</th><th>log10_mass</th><th>m200c</th><th>log_m200c</th></tr></thead>\n",
       "<thead><tr><th>int64</th><th>float64</th><th>float64</th><th>float64</th><th>float64</th><th>float64</th><th>float64</th><th>float64</th></tr></thead>\n",
       "<tr><td>47800022421</td><td>56.31640050745837</td><td>-27.123248927448433</td><td>0.15471410751342773</td><td>1.445e+13</td><td>13.159881489329816</td><td>11746195611763.38</td><td>13.069897228960714</td></tr>\n",
       "<tr><td>335300022392</td><td>56.20631909244256</td><td>-27.07335275044336</td><td>0.25766968727111816</td><td>3.541e+13</td><td>13.549080543870968</td><td>35157899650523.945</td><td>13.546022922219889</td></tr>\n",
       "<tr><td>129600022373</td><td>56.25214648991651</td><td>-27.26463039851732</td><td>0.31463730335235596</td><td>1.653e+13</td><td>13.218331871925377</td><td>17144291443380.283</td><td>13.234119540860185</td></tr>\n",
       "<tr><td>19800022365</td><td>56.02662020655569</td><td>-26.970276092239082</td><td>0.3517007827758789</td><td>1.598e+13</td><td>13.203663019288253</td><td>11126741955425.354</td><td>13.046368016273819</td></tr>\n",
       "<tr><td>198600022347</td><td>56.485565204023494</td><td>-26.96578317279822</td><td>0.4311535358428955</td><td>1.139e+13</td><td>13.05662052349583</td><td>11353180465757.746</td><td>13.055117541285824</td></tr>\n",
       "<tr><td>1300022338</td><td>56.10786310319474</td><td>-27.056488906952147</td><td>0.45837175846099854</td><td>1.160e+13</td><td>13.064389632660982</td><td>11267290276416.902</td><td>13.051819483082706</td></tr>\n",
       "<tr><td>234300022338</td><td>56.15652858767426</td><td>-27.01537283979463</td><td>0.45865511894226074</td><td>1.334e+13</td><td>13.125048215651177</td><td>13555104407436.621</td><td>13.132102867058443</td></tr>\n",
       "<tr><td>292100022338</td><td>56.30086035857077</td><td>-27.00696558628441</td><td>0.4396505355834961</td><td>1.452e+13</td><td>13.161987984082694</td><td>14322914583797.184</td><td>13.156031401970667</td></tr>\n",
       "<tr><td>315700022338</td><td>56.107646602854466</td><td>-27.038192391741962</td><td>0.4593818187713623</td><td>1.166e+13</td><td>13.06681954080713</td><td>10030985204461.973</td><td>13.001343589834864</td></tr>\n",
       "<tr><td>456500022338</td><td>56.38284926613268</td><td>-27.02170392822795</td><td>0.4404236078262329</td><td>1.063e+13</td><td>13.026421433224701</td><td>11220440343797.184</td><td>13.050009901049256</td></tr>\n",
       "<tr><td>...</td><td>...</td><td>...</td><td>...</td><td>...</td><td>...</td><td>...</td><td>...</td></tr>\n",
       "<tr><td>5056300193124</td><td>73.09179369411189</td><td>-44.27208173237025</td><td>2.863961935043335</td><td>1.143e+13</td><td>13.05790857623283</td><td>12506197589092.959</td><td>13.09712528594507</td></tr>\n",
       "<tr><td>5252500193124</td><td>73.83054507969902</td><td>-44.62198612093924</td><td>2.8855791091918945</td><td>2.027e+13</td><td>13.306833697600034</td><td>22185812360292.957</td><td>13.346075335560272</td></tr>\n",
       "<tr><td>5473000193124</td><td>72.71532000109539</td><td>-44.27933358401509</td><td>2.869947671890259</td><td>1.844e+13</td><td>13.265814874753836</td><td>22053071499898.594</td><td>13.343469085529895</td></tr>\n",
       "<tr><td>5655500193124</td><td>72.78324476354646</td><td>-44.03425572691153</td><td>2.9165775775909424</td><td>1.260e+13</td><td>13.100289832020808</td><td>14187571482681.691</td><td>13.151908062692687</td></tr>\n",
       "<tr><td>1250600193121</td><td>72.16015005667711</td><td>-44.629217032676905</td><td>3.0051183700561523</td><td>1.081e+13</td><td>13.033804467110725</td><td>11785236606918.31</td><td>13.07133830608372</td></tr>\n",
       "<tr><td>1638900193121</td><td>72.42018629628721</td><td>-43.97819730849899</td><td>2.99839186668396</td><td>9.805e+12</td><td>12.99143527117133</td><td>10569753891335.21</td><td>13.02406487520909</td></tr>\n",
       "<tr><td>1805500193121</td><td>73.16946169058204</td><td>-43.91803272264049</td><td>2.944169282913208</td><td>1.273e+13</td><td>13.10492988776493</td><td>13726884786118.31</td><td>13.137571988532843</td></tr>\n",
       "<tr><td>4540300193121</td><td>73.89058920742978</td><td>-44.51663276785286</td><td>3.0145468711853027</td><td>1.217e+13</td><td>13.085413060332602</td><td>11387016241036.621</td><td>13.056409940074486</td></tr>\n",
       "<tr><td>5541600193121</td><td>72.49711523026612</td><td>-44.13615290948399</td><td>2.9509148597717285</td><td>1.103e+13</td><td>13.04239903910645</td><td>12339621691853.521</td><td>13.091301845300224</td></tr>\n",
       "<tr><td>5788500193121</td><td>72.49206267522683</td><td>-44.091433148096066</td><td>2.947542190551758</td><td>1.001e+13</td><td>13.00044956846466</td><td>10697288793419.719</td><td>13.029273720558367</td></tr>\n",
       "</table></div>"
      ],
      "text/plain": [
       "<Table length=314603>\n",
       "    id_cl           ra_cl        ...       m200c            log_m200c     \n",
       "    int64          float64       ...      float64            float64      \n",
       "------------- ------------------ ... ------------------ ------------------\n",
       "  47800022421  56.31640050745837 ...  11746195611763.38 13.069897228960714\n",
       " 335300022392  56.20631909244256 ... 35157899650523.945 13.546022922219889\n",
       " 129600022373  56.25214648991651 ... 17144291443380.283 13.234119540860185\n",
       "  19800022365  56.02662020655569 ... 11126741955425.354 13.046368016273819\n",
       " 198600022347 56.485565204023494 ... 11353180465757.746 13.055117541285824\n",
       "   1300022338  56.10786310319474 ... 11267290276416.902 13.051819483082706\n",
       " 234300022338  56.15652858767426 ... 13555104407436.621 13.132102867058443\n",
       " 292100022338  56.30086035857077 ... 14322914583797.184 13.156031401970667\n",
       " 315700022338 56.107646602854466 ... 10030985204461.973 13.001343589834864\n",
       " 456500022338  56.38284926613268 ... 11220440343797.184 13.050009901049256\n",
       "          ...                ... ...                ...                ...\n",
       "5056300193124  73.09179369411189 ... 12506197589092.959  13.09712528594507\n",
       "5252500193124  73.83054507969902 ... 22185812360292.957 13.346075335560272\n",
       "5473000193124  72.71532000109539 ... 22053071499898.594 13.343469085529895\n",
       "5655500193124  72.78324476354646 ... 14187571482681.691 13.151908062692687\n",
       "1250600193121  72.16015005667711 ...  11785236606918.31  13.07133830608372\n",
       "1638900193121  72.42018629628721 ...  10569753891335.21  13.02406487520909\n",
       "1805500193121  73.16946169058204 ...  13726884786118.31 13.137571988532843\n",
       "4540300193121  73.89058920742978 ... 11387016241036.621 13.056409940074486\n",
       "5541600193121  72.49711523026612 ... 12339621691853.521 13.091301845300224\n",
       "5788500193121  72.49206267522683 ... 10697288793419.719 13.029273720558367"
      ]
     },
     "execution_count": 108,
     "metadata": {},
     "output_type": "execute_result"
    }
   ],
   "source": [
    "dc2"
   ]
  },
  {
   "cell_type": "code",
   "execution_count": 48,
   "id": "e2a0fcd1-bb0a-4fd4-8cb2-2bb5e50c2853",
   "metadata": {},
   "outputs": [],
   "source": [
    "dc2.write(\"/sps/lsst/groups/clusters/cluster_comparison_project/before_matching/halos/cosmoDC2/DC2.masked/Catalog.fits\", overwrite = True)"
   ]
  },
  {
   "cell_type": "code",
   "execution_count": 12,
   "id": "795db81b-b8a5-4cd7-885c-83a93374fb57",
   "metadata": {},
   "outputs": [],
   "source": [
    "c1 = Table.read(\"/sps/lsst/groups/clusters/cluster_comparison_project/before_matching/amico/DC2.fzb.magy/v0/Catalog_members.fits\")"
   ]
  },
  {
   "cell_type": "code",
   "execution_count": 13,
   "id": "9e7caa1d-0d97-4548-91e1-c87d64c08e02",
   "metadata": {},
   "outputs": [
    {
     "data": {
      "text/html": [
       "<i>Row index=0</i>\n",
       "<table id=\"table140698768356784\">\n",
       "<thead><tr><th>id</th><th>id_cluster</th><th>ra</th><th>dec</th><th>z</th><th>pmem</th><th>f_prob</th><th>lambstar</th><th>mag_g</th><th>mag_i</th><th>mag_r</th><th>mag_z</th><th>mag_y</th><th>sn</th></tr></thead>\n",
       "<thead><tr><th>int64</th><th>int64</th><th>float64</th><th>float64</th><th>float64</th><th>float32</th><th>float32</th><th>float64</th><th>float64</th><th>float64</th><th>float64</th><th>float64</th><th>float64</th><th>float64</th></tr></thead>\n",
       "<tr><td>22316246343095028</td><td>69431</td><td>0.0</td><td>0.0</td><td>0.0</td><td>0.03189724</td><td>0.66914684</td><td>92.941821</td><td>0.0</td><td>0.0</td><td>0.0</td><td>0.0</td><td>0.0</td><td>7.4897663</td></tr>\n",
       "</table>"
      ],
      "text/plain": [
       "<Row index=0>\n",
       "        id        id_cluster    ra     dec      z       pmem      f_prob    lambstar  mag_g   mag_i   mag_r   mag_z   mag_y      sn   \n",
       "      int64         int64    float64 float64 float64  float32    float32    float64  float64 float64 float64 float64 float64  float64 \n",
       "----------------- ---------- ------- ------- ------- ---------- ---------- --------- ------- ------- ------- ------- ------- ---------\n",
       "22316246343095028      69431     0.0     0.0     0.0 0.03189724 0.66914684 92.941821     0.0     0.0     0.0     0.0     0.0 7.4897663"
      ]
     },
     "execution_count": 13,
     "metadata": {},
     "output_type": "execute_result"
    }
   ],
   "source": [
    "c1[0]"
   ]
  },
  {
   "cell_type": "code",
   "execution_count": 51,
   "id": "99e8c910-3ac1-4c6a-8bca-5f7f6f945494",
   "metadata": {
    "tags": []
   },
   "outputs": [
    {
     "data": {
      "text/html": [
       "<i>Row index=0</i>\n",
       "<table id=\"table139639909539872\">\n",
       "<thead><tr><th>id_cl</th><th>ra_cl</th><th>dec_cl</th><th>z_cl</th><th>mass</th><th>mass_err</th><th>snr_cl</th></tr></thead>\n",
       "<thead><tr><th>int64</th><th>float64</th><th>float64</th><th>float32</th><th>float32</th><th>float32</th><th>float32</th></tr></thead>\n",
       "<tr><td>210100</td><td>62.182570783017844</td><td>-32.056338086453394</td><td>0.9754306</td><td>4.41894</td><td>1.8435398</td><td>3.0000017</td></tr>\n",
       "</table>"
      ],
      "text/plain": [
       "<Row index=0>\n",
       "id_cl        ra_cl               dec_cl          z_cl     mass   mass_err   snr_cl \n",
       "int64       float64             float64        float32  float32  float32   float32 \n",
       "------ ------------------ ------------------- --------- ------- --------- ---------\n",
       "210100 62.182570783017844 -32.056338086453394 0.9754306 4.41894 1.8435398 3.0000017"
      ]
     },
     "execution_count": 51,
     "metadata": {},
     "output_type": "execute_result"
    }
   ],
   "source": [
    "cw[0]"
   ]
  },
  {
   "cell_type": "code",
   "execution_count": 62,
   "id": "4d4f90f6-22b4-4fa8-9e13-79d66d66dde7",
   "metadata": {},
   "outputs": [],
   "source": [
    "c1.rename_column(\"z\", \"z_cl\")"
   ]
  },
  {
   "cell_type": "code",
   "execution_count": null,
   "id": "5ef4c2df-87dc-429b-b73b-f693ed53472b",
   "metadata": {},
   "outputs": [],
   "source": []
  },
  {
   "cell_type": "code",
   "execution_count": 64,
   "id": "24203cad-9b9c-47ed-ba6d-54057d72ebb3",
   "metadata": {},
   "outputs": [],
   "source": [
    "c1.write(\"/sps/lsst/groups/clusters/cluster_comparison_project/before_matching/amico/DC2.fzb.magy/v0/Catalog.fits\", overwrite = True)"
   ]
  },
  {
   "cell_type": "code",
   "execution_count": 68,
   "id": "837466d3-cac9-4c09-b9a1-575e9e4f5ffd",
   "metadata": {},
   "outputs": [],
   "source": [
    "c1 = Table.read(\"/sps/lsst/groups/clusters/cluster_comparison_project/before_matching/amico/DC2.fzb.magy/v0/Catalog.fits\")"
   ]
  },
  {
   "cell_type": "code",
   "execution_count": 69,
   "id": "a44099b5-34b9-469e-8e8a-c0ed73260100",
   "metadata": {},
   "outputs": [
    {
     "data": {
      "text/html": [
       "<div><i>Table length=74502</i>\n",
       "<table id=\"table139639855750912\" class=\"table-striped table-bordered table-condensed\">\n",
       "<thead><tr><th>id_cl</th><th>ra_cl</th><th>dec_cl</th><th>z_cl</th><th>mass</th><th>sn</th></tr></thead>\n",
       "<thead><tr><th>int32</th><th>float64</th><th>float64</th><th>float32</th><th>float64</th><th>float64</th></tr></thead>\n",
       "<tr><td>1</td><td>49.683452</td><td>-43.655292</td><td>0.26</td><td>22.472449</td><td>5.1690214</td></tr>\n",
       "<tr><td>2</td><td>49.641694</td><td>-44.540292</td><td>1.65</td><td>99.356595</td><td>4.5488049</td></tr>\n",
       "<tr><td>3</td><td>49.816505</td><td>-44.33019</td><td>0.9</td><td>47.409805</td><td>4.2867624</td></tr>\n",
       "<tr><td>4</td><td>49.697499</td><td>-44.030288</td><td>0.33</td><td>23.374818</td><td>4.1128689</td></tr>\n",
       "<tr><td>5</td><td>49.739429</td><td>-44.185267</td><td>0.35</td><td>15.409</td><td>3.999463</td></tr>\n",
       "<tr><td>6</td><td>49.787948</td><td>-44.050224</td><td>0.15</td><td>23.09391</td><td>3.9704237</td></tr>\n",
       "<tr><td>7</td><td>49.606663</td><td>-44.495281</td><td>1.98</td><td>50.165067</td><td>3.9153011</td></tr>\n",
       "<tr><td>8</td><td>49.613987</td><td>-44.105284</td><td>0.27</td><td>23.122551</td><td>3.8580094</td></tr>\n",
       "<tr><td>9</td><td>49.683589</td><td>-44.025292</td><td>1.64</td><td>18.8175</td><td>3.6981405</td></tr>\n",
       "<tr><td>10</td><td>49.767749</td><td>-44.425245</td><td>0.99</td><td>28.543561</td><td>3.6185385</td></tr>\n",
       "<tr><td>...</td><td>...</td><td>...</td><td>...</td><td>...</td><td>...</td></tr>\n",
       "<tr><td>74493</td><td>71.198378</td><td>-28.136959</td><td>0.5</td><td>8.652656</td><td>3.0151341</td></tr>\n",
       "<tr><td>74494</td><td>70.9566</td><td>-27.22175</td><td>0.11</td><td>6.1963769</td><td>3.0130109</td></tr>\n",
       "<tr><td>74495</td><td>71.412904</td><td>-27.666794</td><td>1.36</td><td>16.832181</td><td>3.0121762</td></tr>\n",
       "<tr><td>74496</td><td>71.599534</td><td>-27.756382</td><td>0.91</td><td>22.915251</td><td>3.011763</td></tr>\n",
       "<tr><td>74497</td><td>71.254885</td><td>-27.771948</td><td>0.31</td><td>7.0550753</td><td>3.0087412</td></tr>\n",
       "<tr><td>74498</td><td>71.050854</td><td>-28.216882</td><td>1.22</td><td>22.172314</td><td>3.0084952</td></tr>\n",
       "<tr><td>74499</td><td>71.192731</td><td>-27.651959</td><td>2.09</td><td>4.9534575</td><td>3.0040342</td></tr>\n",
       "<tr><td>74500</td><td>70.775563</td><td>-27.51132</td><td>1.02</td><td>19.876112</td><td>3.0017439</td></tr>\n",
       "<tr><td>74501</td><td>70.588166</td><td>-27.755629</td><td>0.69</td><td>12.851159</td><td>3.0017316</td></tr>\n",
       "<tr><td>74502</td><td>71.266325</td><td>-27.991943</td><td>0.55</td><td>10.040775</td><td>3.0000117</td></tr>\n",
       "</table></div>"
      ],
      "text/plain": [
       "<Table length=74502>\n",
       "id_cl   ra_cl     dec_cl     z_cl     mass       sn   \n",
       "int32  float64   float64   float32  float64   float64 \n",
       "----- --------- ---------- ------- --------- ---------\n",
       "    1 49.683452 -43.655292    0.26 22.472449 5.1690214\n",
       "    2 49.641694 -44.540292    1.65 99.356595 4.5488049\n",
       "    3 49.816505  -44.33019     0.9 47.409805 4.2867624\n",
       "    4 49.697499 -44.030288    0.33 23.374818 4.1128689\n",
       "    5 49.739429 -44.185267    0.35    15.409  3.999463\n",
       "    6 49.787948 -44.050224    0.15  23.09391 3.9704237\n",
       "    7 49.606663 -44.495281    1.98 50.165067 3.9153011\n",
       "    8 49.613987 -44.105284    0.27 23.122551 3.8580094\n",
       "    9 49.683589 -44.025292    1.64   18.8175 3.6981405\n",
       "   10 49.767749 -44.425245    0.99 28.543561 3.6185385\n",
       "  ...       ...        ...     ...       ...       ...\n",
       "74493 71.198378 -28.136959     0.5  8.652656 3.0151341\n",
       "74494   70.9566  -27.22175    0.11 6.1963769 3.0130109\n",
       "74495 71.412904 -27.666794    1.36 16.832181 3.0121762\n",
       "74496 71.599534 -27.756382    0.91 22.915251  3.011763\n",
       "74497 71.254885 -27.771948    0.31 7.0550753 3.0087412\n",
       "74498 71.050854 -28.216882    1.22 22.172314 3.0084952\n",
       "74499 71.192731 -27.651959    2.09 4.9534575 3.0040342\n",
       "74500 70.775563  -27.51132    1.02 19.876112 3.0017439\n",
       "74501 70.588166 -27.755629    0.69 12.851159 3.0017316\n",
       "74502 71.266325 -27.991943    0.55 10.040775 3.0000117"
      ]
     },
     "execution_count": 69,
     "metadata": {},
     "output_type": "execute_result"
    }
   ],
   "source": [
    "c1"
   ]
  },
  {
   "cell_type": "code",
   "execution_count": null,
   "id": "7751bc69-097d-4fa5-898e-be2031a4ccc9",
   "metadata": {},
   "outputs": [],
   "source": []
  },
  {
   "cell_type": "code",
   "execution_count": null,
   "id": "9188bd67-14fc-4810-a1a6-4a8cdd5ca31f",
   "metadata": {},
   "outputs": [],
   "source": []
  },
  {
   "cell_type": "code",
   "execution_count": null,
   "id": "52c35327-91f0-4566-95bd-eb06b920b519",
   "metadata": {},
   "outputs": [],
   "source": []
  },
  {
   "cell_type": "code",
   "execution_count": null,
   "id": "c7e1c3c0-f7f1-4de3-b3a7-28f5aa7bd794",
   "metadata": {},
   "outputs": [],
   "source": []
  }
 ],
 "metadata": {
  "kernelspec": {
   "display_name": "Anaconda3",
   "language": "python",
   "name": "anaconda3"
  },
  "language_info": {
   "codemirror_mode": {
    "name": "ipython",
    "version": 3
   },
   "file_extension": ".py",
   "mimetype": "text/x-python",
   "name": "python",
   "nbconvert_exporter": "python",
   "pygments_lexer": "ipython3",
   "version": "3.8.5"
  }
 },
 "nbformat": 4,
 "nbformat_minor": 5
}
