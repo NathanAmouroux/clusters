{
 "cells": [
  {
   "cell_type": "code",
   "execution_count": 1,
   "id": "70203c21-b987-47a4-855d-f88a560f0ead",
   "metadata": {},
   "outputs": [],
   "source": [
    "import numpy as np\n",
    "import sys\n",
    "import os\n",
    "from astropy.table import Table\n",
    "from astropy.io import fits\n",
    "from astropy.io import ascii\n",
    "import GCRCatalogs\n",
    "\n",
    "from clevar.catalog import ClCatalog\n",
    "from clevar.match_metrics.recovery import ClCatalogFuncs as r_cf\n",
    "from clevar.match_metrics import recovery\n",
    "from clevar.match import output_matched_catalog\n",
    "\n",
    "import matplotlib.pyplot as plt\n",
    "import matplotlib as mpl"
   ]
  },
  {
   "cell_type": "code",
   "execution_count": 7,
   "id": "7d0a5281-6677-4221-afe1-e91ad39d4d98",
   "metadata": {},
   "outputs": [
    {
     "name": "stdout",
     "output_type": "stream",
     "text": [
      "OUTPATH = /sps/lsst/groups/clusters/cluster_comparison_project/after_matching/amico.cosmoDC2.fzb_cosmoDC2/magy_v0/proximity_matching/deltaz_0.05_matchradius_1mpc_pref_angular_proximity/\n"
     ]
    }
   ],
   "source": [
    "cats = [\"cosmoDC2_v0\".split('_'), \"amico_cosmoDC2.fzb_magy\".split('_')]\n",
    "matching_method = \"proximity\"\n",
    "\n",
    "outpath = '/sps/lsst/groups/clusters/cluster_comparison_project/after_matching/'\n",
    "(first, last) = np.argsort([c[0] for c in cats])\n",
    "outpath += f\"{'.'.join(cats[first][:-1])}_{'.'.join(cats[last][:-1])}/\"\n",
    "outpath += f\"{cats[first][-1]}_{cats[last][-1]}/\"\n",
    "outpath += f'proximity_matching/deltaz_{0.05}_matchradius_{1}mpc_pref_angular_proximity/'\n",
    "print(f'OUTPATH = {outpath}')"
   ]
  },
  {
   "cell_type": "code",
   "execution_count": 5,
   "id": "b2354331-f6ff-416e-bfcd-0ec7452674f2",
   "metadata": {},
   "outputs": [
    {
     "name": "stdout",
     "output_type": "stream",
     "text": [
      "OUTPATH = /sps/lsst/groups/clusters/cluster_comparison_project/after_matching/amico.cosmoDC2.fzb_cosmoDC2/magy_v0/proximity_matching/deltaz_0.05_matchradius_1mpc_pref_angular_proximity/\n"
     ]
    }
   ],
   "source": [
    "cats = [\"cosmoDC2_v0\".split('_'), \"amico_cosmoDC2.fzb_magy\".split('_')]\n",
    "matching_method = \"proximity\"\n",
    "\n",
    "outpath = '/sps/lsst/groups/clusters/cluster_comparison_project/after_matching/'\n",
    "(first, last) = np.argsort([c[0] for c in cats])\n",
    "outpath += f\"{'.'.join(cats[first][:-1])}_{'.'.join(cats[last][:-1])}/\"\n",
    "outpath += f\"{cats[first][-1]}_{cats[last][-1]}/\"\n",
    "outpath += f'proximity_matching/deltaz_{0.05}_matchradius_{1}mpc_pref_angular_proximity/'\n",
    "print(f'OUTPATH = {outpath}')"
   ]
  },
  {
   "cell_type": "code",
   "execution_count": 8,
   "id": "f139f1f0-d13a-499d-b5ca-3b67662a5018",
   "metadata": {},
   "outputs": [
    {
     "data": {
      "text/plain": [
       "[['cosmoDC2', 'v0'], ['amico', 'cosmoDC2.fzb', 'magy']]"
      ]
     },
     "execution_count": 8,
     "metadata": {},
     "output_type": "execute_result"
    }
   ],
   "source": [
    "cats"
   ]
  },
  {
   "cell_type": "code",
   "execution_count": 10,
   "id": "53e1964f-0eb1-4a36-bc24-ceb1220a753f",
   "metadata": {},
   "outputs": [
    {
     "data": {
      "text/plain": [
       "(1, 0)"
      ]
     },
     "execution_count": 10,
     "metadata": {},
     "output_type": "execute_result"
    }
   ],
   "source": [
    "first, last"
   ]
  },
  {
   "cell_type": "code",
   "execution_count": 15,
   "id": "219a6204-6e70-4d1c-81ce-d9a770ed7c69",
   "metadata": {},
   "outputs": [
    {
     "name": "stdout",
     "output_type": "stream",
     "text": [
      "['cosmoDC2', 'amico']\n"
     ]
    }
   ],
   "source": [
    "print([c[0] for c in cats])"
   ]
  },
  {
   "cell_type": "code",
   "execution_count": 11,
   "id": "c0570d1f-45f1-4eff-84e9-e9a11c2272ed",
   "metadata": {},
   "outputs": [],
   "source": [
    "cats2 = [\"cosmoDC2_v0\".split('_'), \"wazp_cosmoDC2_v0\".split('_')]\n",
    "outpath2 = '/sps/lsst/groups/clusters/cluster_comparison_project/after_matching/'\n",
    "(first2, last2) = np.argsort([c[0] for c in cats2])"
   ]
  },
  {
   "cell_type": "code",
   "execution_count": 12,
   "id": "4a307e65-b29d-47ca-b5a3-5543bdcdd417",
   "metadata": {},
   "outputs": [
    {
     "data": {
      "text/plain": [
       "[['cosmoDC2', 'v0'], ['wazp', 'cosmoDC2', 'v0']]"
      ]
     },
     "execution_count": 12,
     "metadata": {},
     "output_type": "execute_result"
    }
   ],
   "source": [
    "cats2"
   ]
  },
  {
   "cell_type": "code",
   "execution_count": 13,
   "id": "4cc5938c-c77d-474e-8dc4-5be74056cbfd",
   "metadata": {},
   "outputs": [
    {
     "data": {
      "text/plain": [
       "(0, 1)"
      ]
     },
     "execution_count": 13,
     "metadata": {},
     "output_type": "execute_result"
    }
   ],
   "source": [
    "first2, last2"
   ]
  },
  {
   "cell_type": "code",
   "execution_count": null,
   "id": "e50870b4-8335-4779-9500-41a15d9d77f5",
   "metadata": {},
   "outputs": [],
   "source": []
  },
  {
   "cell_type": "code",
   "execution_count": 4,
   "id": "4c9a7de8-bb89-4ceb-942d-5cbcdab71adf",
   "metadata": {},
   "outputs": [
    {
     "data": {
      "text/plain": [
       "'/sps/lsst/groups/clusters/cluster_comparison_project/after_matching/amico.DC2.fzb.magy_cosmoDC2/v0_DC2.masked/'"
      ]
     },
     "execution_count": 4,
     "metadata": {},
     "output_type": "execute_result"
    }
   ],
   "source": [
    "outpath"
   ]
  },
  {
   "cell_type": "code",
   "execution_count": 5,
   "id": "b79ff6a8-07aa-49ce-a035-778243a1c2c0",
   "metadata": {},
   "outputs": [],
   "source": [
    "if matching_method == 'proximity' :\n",
    "\tinpath += 'proximity_matching_deltaz_0.05_matchradius_1mpc/'\n",
    "else :\n",
    "\tinpath += 'member_matching_fshare_0.0/'"
   ]
  },
  {
   "cell_type": "code",
   "execution_count": 6,
   "id": "7e66e323-8283-499d-a19d-f5a4d914fc02",
   "metadata": {},
   "outputs": [
    {
     "data": {
      "text/plain": [
       "'/sps/lsst/groups/clusters/cluster_comparison_project/after_matching/amico.DC2.fzb.magy_cosmoDC2/v0_DC2.masked/proximity_matching_deltaz_0.05_matchradius_1mpc/'"
      ]
     },
     "execution_count": 6,
     "metadata": {},
     "output_type": "execute_result"
    }
   ],
   "source": [
    "inpath"
   ]
  },
  {
   "cell_type": "code",
   "execution_count": 7,
   "id": "cf2f279d-8e08-4511-aea5-136daa47d6d5",
   "metadata": {},
   "outputs": [],
   "source": [
    "(first, last) = np.argsort([c[0] for c in cats])"
   ]
  },
  {
   "cell_type": "code",
   "execution_count": 9,
   "id": "281c5fed-8d80-4e92-a27b-71e3e129973f",
   "metadata": {},
   "outputs": [
    {
     "data": {
      "text/plain": [
       "1"
      ]
     },
     "execution_count": 9,
     "metadata": {},
     "output_type": "execute_result"
    }
   ],
   "source": [
    "first"
   ]
  },
  {
   "cell_type": "code",
   "execution_count": 10,
   "id": "889a10a9-f078-4cc8-b7fa-0114ebe76145",
   "metadata": {},
   "outputs": [
    {
     "data": {
      "text/plain": [
       "0"
      ]
     },
     "execution_count": 10,
     "metadata": {},
     "output_type": "execute_result"
    }
   ],
   "source": [
    "last"
   ]
  },
  {
   "cell_type": "code",
   "execution_count": 11,
   "id": "54d0e8bf-6eb9-4d2a-808a-daa550de2da2",
   "metadata": {},
   "outputs": [
    {
     "data": {
      "text/plain": [
       "[['cosmoDC2', 'DC2.masked'], ['amico', 'DC2.fzb.magy', 'v0']]"
      ]
     },
     "execution_count": 11,
     "metadata": {},
     "output_type": "execute_result"
    }
   ],
   "source": [
    "cats"
   ]
  },
  {
   "cell_type": "code",
   "execution_count": 12,
   "id": "c3030f50-27fa-435d-a6f5-6142d411ce59",
   "metadata": {},
   "outputs": [
    {
     "name": "stdout",
     "output_type": "stream",
     "text": [
      "/sps/lsst/groups/clusters/cluster_comparison_project/after_matching/amico.DC2.fzb.magy_cosmoDC2/v0_DC2.masked/proximity_matching_deltaz_0.05_matchradius_1mpc/cosmoDC2.DC2.masked.fits\n",
      "/sps/lsst/groups/clusters/cluster_comparison_project/after_matching/amico.DC2.fzb.magy_cosmoDC2/v0_DC2.masked/proximity_matching_deltaz_0.05_matchradius_1mpc/amico.DC2.fzb.magy.v0.fits\n"
     ]
    }
   ],
   "source": [
    "for c in cats :\n",
    "\tprint(inpath + '.'.join(c) + '.fits')"
   ]
  },
  {
   "cell_type": "code",
   "execution_count": 13,
   "id": "f91a62eb-fa27-4c61-b88d-f52e21477b76",
   "metadata": {},
   "outputs": [],
   "source": [
    "cl = []\n",
    "for c in cats :\n",
    "\tcl.append(Table(fits.open(inpath + '.'.join(c) + '.fits')[1].data))"
   ]
  },
  {
   "cell_type": "code",
   "execution_count": 14,
   "id": "3d7fee3d-3b7f-4748-b577-fb26c25b4ded",
   "metadata": {},
   "outputs": [],
   "source": [
    "cl[0].sort('mt_cross')\n",
    "cl[1].sort('id_cl')"
   ]
  },
  {
   "cell_type": "code",
   "execution_count": 16,
   "id": "cf90a24a-09e2-44d1-8c96-3bd1a03073e8",
   "metadata": {},
   "outputs": [
    {
     "data": {
      "text/html": [
       "<div><i>Table length=314603</i>\n",
       "<table id=\"table140484335084848\" class=\"table-striped table-bordered table-condensed\">\n",
       "<thead><tr><th>id_cl</th><th>ra_cl</th><th>dec_cl</th><th>z_cl</th><th>mass</th><th>log10_mass</th><th>mt_self</th><th>mt_other</th><th>mt_multi_self</th><th>mt_multi_other</th><th>mt_cross</th></tr></thead>\n",
       "<thead><tr><th>str21</th><th>float64</th><th>float64</th><th>float64</th><th>float64</th><th>float64</th><th>str5</th><th>str5</th><th>str59</th><th>str59</th><th>str5</th></tr></thead>\n",
       "<tr><td>47800022421</td><td>56.31640050745837</td><td>-27.123248927448433</td><td>0.15471410751342773</td><td>11746195611763.38</td><td>13.069897228960714</td><td></td><td></td><td></td><td></td><td></td></tr>\n",
       "<tr><td>1285800139141</td><td>54.71544861616969</td><td>-39.75726577886786</td><td>2.4541163444519043</td><td>12134004799459.156</td><td>13.084004162388004</td><td></td><td></td><td></td><td></td><td></td></tr>\n",
       "<tr><td>1306300139141</td><td>55.276601024626224</td><td>-39.64213769417928</td><td>2.4292712211608887</td><td>13974146391256.338</td><td>13.14532528855206</td><td></td><td></td><td></td><td></td><td></td></tr>\n",
       "<tr><td>1410300139141</td><td>54.166458871588574</td><td>-38.14830842235588</td><td>2.4412147998809814</td><td>12571265422061.973</td><td>13.099378995916526</td><td></td><td></td><td></td><td></td><td></td></tr>\n",
       "<tr><td>1577400139141</td><td>54.010673500138196</td><td>-38.15296869655581</td><td>2.451878309249878</td><td>19421695134647.887</td><td>13.288287132652075</td><td></td><td></td><td></td><td></td><td></td></tr>\n",
       "<tr><td>1781500139141</td><td>54.091791317723434</td><td>-38.107274567608066</td><td>2.4438881874084473</td><td>15457711591481.691</td><td>13.189145200012186</td><td></td><td></td><td></td><td></td><td></td></tr>\n",
       "<tr><td>1793000139141</td><td>54.75143915811279</td><td>-39.05790928192014</td><td>2.474409341812134</td><td>10983590655278.873</td><td>13.040744338916765</td><td></td><td></td><td></td><td></td><td></td></tr>\n",
       "<tr><td>1807400139141</td><td>54.76637761732215</td><td>-39.04772001953808</td><td>2.474390983581543</td><td>10632219483583.1</td><td>13.026623933277522</td><td></td><td></td><td></td><td></td><td></td></tr>\n",
       "<tr><td>1824300139141</td><td>55.20063455953354</td><td>-38.775201157743126</td><td>2.4417548179626465</td><td>15103738917498.592</td><td>13.17908446982544</td><td></td><td></td><td></td><td></td><td></td></tr>\n",
       "<tr><td>1942400139141</td><td>53.9866930568455</td><td>-38.488220588373615</td><td>2.4716999530792236</td><td>15215655944653.521</td><td>13.18229067946796</td><td></td><td></td><td></td><td></td><td></td></tr>\n",
       "<tr><td>...</td><td>...</td><td>...</td><td>...</td><td>...</td><td>...</td><td>...</td><td>...</td><td>...</td><td>...</td><td>...</td></tr>\n",
       "<tr><td>2637000167241</td><td>61.003008291988934</td><td>-42.736133194370424</td><td>1.0183944702148438</td><td>15408260156574.648</td><td>13.187753602569334</td><td>9984</td><td>9984</td><td>9700,9984</td><td>9700,9984</td><td>9984</td></tr>\n",
       "<tr><td>2403800179208</td><td>62.456231527382556</td><td>-42.40705378177429</td><td>1.3607778549194336</td><td>49803555589047.89</td><td>13.697260349136847</td><td>9985</td><td>9985</td><td>9985</td><td>9985</td><td>9985</td></tr>\n",
       "<tr><td>221300167373</td><td>61.14456649908841</td><td>-42.321105570234934</td><td>0.3147202730178833</td><td>23734446870354.93</td><td>13.375379114969409</td><td>9987</td><td>9987</td><td>9594,9987</td><td>9594,9987</td><td>9987</td></tr>\n",
       "<tr><td>193000179259</td><td>61.71943437186058</td><td>-42.145878390825445</td><td>0.8703768253326416</td><td>13953324034884.508</td><td>13.1446776798707</td><td>9989</td><td>9989</td><td>9989</td><td>9989</td><td>9989</td></tr>\n",
       "<tr><td>1236700179235</td><td>62.16993784923981</td><td>-42.60985718963725</td><td>1.077375888824463</td><td>18224431057847.887</td><td>13.260653979113796</td><td>9990</td><td>9990</td><td>9990</td><td>9990</td><td>9990</td></tr>\n",
       "<tr><td>2020600167235</td><td>61.14230723892351</td><td>-42.63754061209476</td><td>1.0933327674865723</td><td>17776758518625.35</td><td>13.249852572955099</td><td>9991</td><td>9991</td><td>9991</td><td>9991</td><td>9991</td></tr>\n",
       "<tr><td>2482200167208</td><td>61.65934692334802</td><td>-41.783770670193796</td><td>1.3580598831176758</td><td>15408260156574.648</td><td>13.187753602569334</td><td>9992</td><td>9992</td><td>9992,9805</td><td>9992,9805</td><td>9992</td></tr>\n",
       "<tr><td>263300167331</td><td>61.162078203642615</td><td>-43.047732170419415</td><td>0.48856401443481445</td><td>25988424487661.973</td><td>13.41477995179595</td><td>9993</td><td>9993</td><td>9993,9468</td><td>9993,9468</td><td>9993</td></tr>\n",
       "<tr><td>141700167323</td><td>60.8912148677035</td><td>-42.89338588766673</td><td>0.5069615840911865</td><td>16647167469250.705</td><td>13.221340348525576</td><td>9995</td><td>9995</td><td>9995</td><td>9995</td><td>9995</td></tr>\n",
       "<tr><td>11200167323</td><td>61.30452051774786</td><td>-42.444738143323676</td><td>0.5363544225692749</td><td>11376605062850.705</td><td>13.056012681879828</td><td>9998</td><td>9998</td><td>9998</td><td>9998</td><td>9998</td></tr>\n",
       "</table></div>"
      ],
      "text/plain": [
       "<Table length=314603>\n",
       "    id_cl           ra_cl               dec_cl       ... mt_multi_other mt_cross\n",
       "    str21          float64             float64       ...     str59        str5  \n",
       "------------- ------------------ ------------------- ... -------------- --------\n",
       "  47800022421  56.31640050745837 -27.123248927448433 ...                        \n",
       "1285800139141  54.71544861616969  -39.75726577886786 ...                        \n",
       "1306300139141 55.276601024626224  -39.64213769417928 ...                        \n",
       "1410300139141 54.166458871588574  -38.14830842235588 ...                        \n",
       "1577400139141 54.010673500138196  -38.15296869655581 ...                        \n",
       "1781500139141 54.091791317723434 -38.107274567608066 ...                        \n",
       "1793000139141  54.75143915811279  -39.05790928192014 ...                        \n",
       "1807400139141  54.76637761732215  -39.04772001953808 ...                        \n",
       "1824300139141  55.20063455953354 -38.775201157743126 ...                        \n",
       "1942400139141   53.9866930568455 -38.488220588373615 ...                        \n",
       "          ...                ...                 ... ...            ...      ...\n",
       "2637000167241 61.003008291988934 -42.736133194370424 ...      9700,9984     9984\n",
       "2403800179208 62.456231527382556  -42.40705378177429 ...           9985     9985\n",
       " 221300167373  61.14456649908841 -42.321105570234934 ...      9594,9987     9987\n",
       " 193000179259  61.71943437186058 -42.145878390825445 ...           9989     9989\n",
       "1236700179235  62.16993784923981  -42.60985718963725 ...           9990     9990\n",
       "2020600167235  61.14230723892351  -42.63754061209476 ...           9991     9991\n",
       "2482200167208  61.65934692334802 -41.783770670193796 ...      9992,9805     9992\n",
       " 263300167331 61.162078203642615 -43.047732170419415 ...      9993,9468     9993\n",
       " 141700167323   60.8912148677035  -42.89338588766673 ...           9995     9995\n",
       "  11200167323  61.30452051774786 -42.444738143323676 ...           9998     9998"
      ]
     },
     "execution_count": 16,
     "metadata": {},
     "output_type": "execute_result"
    }
   ],
   "source": [
    "cl[0]"
   ]
  },
  {
   "cell_type": "code",
   "execution_count": 17,
   "id": "6beee236-885d-419f-9cc1-a1d52e4a8ade",
   "metadata": {},
   "outputs": [
    {
     "data": {
      "text/html": [
       "<div><i>Table length=74502</i>\n",
       "<table id=\"table140484333700816\" class=\"table-striped table-bordered table-condensed\">\n",
       "<thead><tr><th>id_cl</th><th>ra_cl</th><th>dec_cl</th><th>z_cl</th><th>mass</th><th>mt_self</th><th>mt_other</th><th>mt_multi_self</th><th>mt_multi_other</th><th>mt_cross</th></tr></thead>\n",
       "<thead><tr><th>str11</th><th>float64</th><th>float64</th><th>float32</th><th>float64</th><th>str13</th><th>str13</th><th>str164</th><th>str164</th><th>str13</th></tr></thead>\n",
       "<tr><td>1</td><td>49.683452</td><td>-43.655292</td><td>0.26</td><td>22.472449</td><td></td><td></td><td></td><td></td><td></td></tr>\n",
       "<tr><td>10</td><td>49.767749</td><td>-44.425245</td><td>0.99</td><td>28.543561</td><td>2089000185253</td><td>2089000185253</td><td>2089000185253</td><td>2089000185253</td><td>2089000185253</td></tr>\n",
       "<tr><td>100</td><td>50.030211</td><td>-43.832663</td><td>0.86</td><td>36.586468</td><td>1889000175266</td><td>1889000175266</td><td>1889000175266,1076000175253,1677300175266</td><td>1677300175266,1889000175266,1076000175253</td><td>1889000175266</td></tr>\n",
       "<tr><td>1000</td><td>52.39449</td><td>-43.269544</td><td>0.31</td><td>11.026659</td><td>240000176373</td><td>240000176373</td><td>216100164365,10900176365,240000176373</td><td>216100164365,10900176365,240000176373</td><td>240000176373</td></tr>\n",
       "<tr><td>10000</td><td>61.642579</td><td>-42.027993</td><td>0.71</td><td>15.99306</td><td>223300167300</td><td>223300167300</td><td>1403400167272,223300167300,1271700167279</td><td>223300167300,1403400167272,1271700167279</td><td>223300167300</td></tr>\n",
       "<tr><td>10001</td><td>61.461572</td><td>-41.792826</td><td>0.36</td><td>8.441934</td><td></td><td></td><td></td><td></td><td></td></tr>\n",
       "<tr><td>10002</td><td>60.895037</td><td>-42.060455</td><td>0.98</td><td>23.710229</td><td>3488900167230</td><td>3488900167230</td><td>1893000167235,3488900167230</td><td>1893000167235,3488900167230</td><td>3488900167230</td></tr>\n",
       "<tr><td>10003</td><td>60.72507</td><td>-42.624231</td><td>1.36</td><td>21.793156</td><td>3368400167208</td><td>3368400167208</td><td>3368400167208</td><td>3368400167208</td><td>3368400167208</td></tr>\n",
       "<tr><td>10004</td><td>62.003014</td><td>-42.702478</td><td>1.3</td><td>17.829675</td><td>377200179213</td><td>377200179213</td><td>377200179213</td><td>377200179213</td><td>377200179213</td></tr>\n",
       "<tr><td>10005</td><td>61.360865</td><td>-41.817609</td><td>0.19</td><td>4.6124506</td><td></td><td></td><td></td><td></td><td></td></tr>\n",
       "<tr><td>...</td><td>...</td><td>...</td><td>...</td><td>...</td><td>...</td><td>...</td><td>...</td><td>...</td><td>...</td></tr>\n",
       "<tr><td>9990</td><td>62.17232</td><td>-42.606846</td><td>1.07</td><td>20.540295</td><td>1236700179235</td><td>1236700179235</td><td>3679400179213,1297000179253,1236700179235</td><td>3679400179213,1297000179253,1236700179235</td><td>1236700179235</td></tr>\n",
       "<tr><td>9991</td><td>61.139693</td><td>-42.611833</td><td>1.11</td><td>24.197653</td><td>2020600167235</td><td>2020600167235</td><td>2020600167235,3766400167235</td><td>2020600167235,3766400167235</td><td>2020600167235</td></tr>\n",
       "<tr><td>9992</td><td>61.649338</td><td>-41.807994</td><td>1.6</td><td>7.8087469</td><td>2482200167208</td><td>2482200167208</td><td>2482200167208</td><td>2482200167208</td><td>2482200167208</td></tr>\n",
       "<tr><td>9993</td><td>61.163432</td><td>-43.046945</td><td>0.5</td><td>10.754537</td><td>263300167331</td><td>263300167331</td><td>263300167331,1043200167300,90700167300</td><td>263300167331,1043200167300,90700167300</td><td>263300167331</td></tr>\n",
       "<tr><td>9994</td><td>60.759145</td><td>-42.144474</td><td>1.06</td><td>25.374186</td><td></td><td></td><td></td><td></td><td></td></tr>\n",
       "<tr><td>9995</td><td>60.932699</td><td>-42.88573</td><td>0.6</td><td>15.91734</td><td>141700167323</td><td>141700167323</td><td>418100167307,141700167323,739100167331</td><td>418100167307,141700167323,739100167331</td><td>141700167323</td></tr>\n",
       "<tr><td>9996</td><td>61.05186</td><td>-42.561405</td><td>0.46</td><td>8.6416317</td><td></td><td></td><td></td><td></td><td></td></tr>\n",
       "<tr><td>9997</td><td>62.3287</td><td>-41.986024</td><td>0.4</td><td>7.68743</td><td></td><td></td><td></td><td></td><td></td></tr>\n",
       "<tr><td>9998</td><td>61.323872</td><td>-42.472511</td><td>0.54</td><td>11.131662</td><td>11200167323</td><td>11200167323</td><td>11200167323</td><td>11200167323</td><td>11200167323</td></tr>\n",
       "<tr><td>9999</td><td>61.379961</td><td>-42.052658</td><td>1.11</td><td>19.297534</td><td></td><td></td><td></td><td></td><td></td></tr>\n",
       "</table></div>"
      ],
      "text/plain": [
       "<Table length=74502>\n",
       "id_cl   ra_cl   ...               mt_multi_other                 mt_cross  \n",
       "str11  float64  ...                   str164                      str13    \n",
       "----- --------- ... ----------------------------------------- -------------\n",
       "    1 49.683452 ...                                                        \n",
       "   10 49.767749 ...                             2089000185253 2089000185253\n",
       "  100 50.030211 ... 1677300175266,1889000175266,1076000175253 1889000175266\n",
       " 1000  52.39449 ...     216100164365,10900176365,240000176373  240000176373\n",
       "10000 61.642579 ...  223300167300,1403400167272,1271700167279  223300167300\n",
       "10001 61.461572 ...                                                        \n",
       "10002 60.895037 ...               1893000167235,3488900167230 3488900167230\n",
       "10003  60.72507 ...                             3368400167208 3368400167208\n",
       "10004 62.003014 ...                              377200179213  377200179213\n",
       "10005 61.360865 ...                                                        \n",
       "  ...       ... ...                                       ...           ...\n",
       " 9990  62.17232 ... 3679400179213,1297000179253,1236700179235 1236700179235\n",
       " 9991 61.139693 ...               2020600167235,3766400167235 2020600167235\n",
       " 9992 61.649338 ...                             2482200167208 2482200167208\n",
       " 9993 61.163432 ...    263300167331,1043200167300,90700167300  263300167331\n",
       " 9994 60.759145 ...                                                        \n",
       " 9995 60.932699 ...    418100167307,141700167323,739100167331  141700167323\n",
       " 9996  61.05186 ...                                                        \n",
       " 9997   62.3287 ...                                                        \n",
       " 9998 61.323872 ...                               11200167323   11200167323\n",
       " 9999 61.379961 ...                                                        "
      ]
     },
     "execution_count": 17,
     "metadata": {},
     "output_type": "execute_result"
    }
   ],
   "source": [
    "cl[1]"
   ]
  },
  {
   "cell_type": "code",
   "execution_count": 18,
   "id": "d9029b00-db01-447c-a1dd-c53171651d9b",
   "metadata": {},
   "outputs": [],
   "source": [
    "matches = [cl[0]['mt_cross'] != '', cl[1]['mt_cross'] != '']"
   ]
  },
  {
   "cell_type": "code",
   "execution_count": 19,
   "id": "6d00aead-0955-4bf1-a6b6-6b86a6da6811",
   "metadata": {},
   "outputs": [
    {
     "data": {
      "text/plain": [
       "array([False, False, False, ...,  True,  True,  True])"
      ]
     },
     "execution_count": 19,
     "metadata": {},
     "output_type": "execute_result"
    }
   ],
   "source": [
    "matches[0]"
   ]
  },
  {
   "cell_type": "code",
   "execution_count": 20,
   "id": "b7144c1d-ea5d-4294-b255-bc88712e39f5",
   "metadata": {},
   "outputs": [],
   "source": [
    "c1 = cl[0][matches[0]]"
   ]
  },
  {
   "cell_type": "code",
   "execution_count": 22,
   "id": "30dedc34-4946-4ab2-8b98-63ecfaa2b1e2",
   "metadata": {
    "collapsed": true,
    "jupyter": {
     "outputs_hidden": true
    },
    "tags": []
   },
   "outputs": [
    {
     "data": {
      "text/html": [
       "<div><i>Table length=314603</i>\n",
       "<table id=\"table140484335084848\" class=\"table-striped table-bordered table-condensed\">\n",
       "<thead><tr><th>id_cl</th><th>ra_cl</th><th>dec_cl</th><th>z_cl</th><th>mass</th><th>log10_mass</th><th>mt_self</th><th>mt_other</th><th>mt_multi_self</th><th>mt_multi_other</th><th>mt_cross</th></tr></thead>\n",
       "<thead><tr><th>str21</th><th>float64</th><th>float64</th><th>float64</th><th>float64</th><th>float64</th><th>str5</th><th>str5</th><th>str59</th><th>str59</th><th>str5</th></tr></thead>\n",
       "<tr><td>47800022421</td><td>56.31640050745837</td><td>-27.123248927448433</td><td>0.15471410751342773</td><td>11746195611763.38</td><td>13.069897228960714</td><td></td><td></td><td></td><td></td><td></td></tr>\n",
       "<tr><td>1285800139141</td><td>54.71544861616969</td><td>-39.75726577886786</td><td>2.4541163444519043</td><td>12134004799459.156</td><td>13.084004162388004</td><td></td><td></td><td></td><td></td><td></td></tr>\n",
       "<tr><td>1306300139141</td><td>55.276601024626224</td><td>-39.64213769417928</td><td>2.4292712211608887</td><td>13974146391256.338</td><td>13.14532528855206</td><td></td><td></td><td></td><td></td><td></td></tr>\n",
       "<tr><td>1410300139141</td><td>54.166458871588574</td><td>-38.14830842235588</td><td>2.4412147998809814</td><td>12571265422061.973</td><td>13.099378995916526</td><td></td><td></td><td></td><td></td><td></td></tr>\n",
       "<tr><td>1577400139141</td><td>54.010673500138196</td><td>-38.15296869655581</td><td>2.451878309249878</td><td>19421695134647.887</td><td>13.288287132652075</td><td></td><td></td><td></td><td></td><td></td></tr>\n",
       "<tr><td>1781500139141</td><td>54.091791317723434</td><td>-38.107274567608066</td><td>2.4438881874084473</td><td>15457711591481.691</td><td>13.189145200012186</td><td></td><td></td><td></td><td></td><td></td></tr>\n",
       "<tr><td>1793000139141</td><td>54.75143915811279</td><td>-39.05790928192014</td><td>2.474409341812134</td><td>10983590655278.873</td><td>13.040744338916765</td><td></td><td></td><td></td><td></td><td></td></tr>\n",
       "<tr><td>1807400139141</td><td>54.76637761732215</td><td>-39.04772001953808</td><td>2.474390983581543</td><td>10632219483583.1</td><td>13.026623933277522</td><td></td><td></td><td></td><td></td><td></td></tr>\n",
       "<tr><td>1824300139141</td><td>55.20063455953354</td><td>-38.775201157743126</td><td>2.4417548179626465</td><td>15103738917498.592</td><td>13.17908446982544</td><td></td><td></td><td></td><td></td><td></td></tr>\n",
       "<tr><td>1942400139141</td><td>53.9866930568455</td><td>-38.488220588373615</td><td>2.4716999530792236</td><td>15215655944653.521</td><td>13.18229067946796</td><td></td><td></td><td></td><td></td><td></td></tr>\n",
       "<tr><td>...</td><td>...</td><td>...</td><td>...</td><td>...</td><td>...</td><td>...</td><td>...</td><td>...</td><td>...</td><td>...</td></tr>\n",
       "<tr><td>2637000167241</td><td>61.003008291988934</td><td>-42.736133194370424</td><td>1.0183944702148438</td><td>15408260156574.648</td><td>13.187753602569334</td><td>9984</td><td>9984</td><td>9700,9984</td><td>9700,9984</td><td>9984</td></tr>\n",
       "<tr><td>2403800179208</td><td>62.456231527382556</td><td>-42.40705378177429</td><td>1.3607778549194336</td><td>49803555589047.89</td><td>13.697260349136847</td><td>9985</td><td>9985</td><td>9985</td><td>9985</td><td>9985</td></tr>\n",
       "<tr><td>221300167373</td><td>61.14456649908841</td><td>-42.321105570234934</td><td>0.3147202730178833</td><td>23734446870354.93</td><td>13.375379114969409</td><td>9987</td><td>9987</td><td>9594,9987</td><td>9594,9987</td><td>9987</td></tr>\n",
       "<tr><td>193000179259</td><td>61.71943437186058</td><td>-42.145878390825445</td><td>0.8703768253326416</td><td>13953324034884.508</td><td>13.1446776798707</td><td>9989</td><td>9989</td><td>9989</td><td>9989</td><td>9989</td></tr>\n",
       "<tr><td>1236700179235</td><td>62.16993784923981</td><td>-42.60985718963725</td><td>1.077375888824463</td><td>18224431057847.887</td><td>13.260653979113796</td><td>9990</td><td>9990</td><td>9990</td><td>9990</td><td>9990</td></tr>\n",
       "<tr><td>2020600167235</td><td>61.14230723892351</td><td>-42.63754061209476</td><td>1.0933327674865723</td><td>17776758518625.35</td><td>13.249852572955099</td><td>9991</td><td>9991</td><td>9991</td><td>9991</td><td>9991</td></tr>\n",
       "<tr><td>2482200167208</td><td>61.65934692334802</td><td>-41.783770670193796</td><td>1.3580598831176758</td><td>15408260156574.648</td><td>13.187753602569334</td><td>9992</td><td>9992</td><td>9992,9805</td><td>9992,9805</td><td>9992</td></tr>\n",
       "<tr><td>263300167331</td><td>61.162078203642615</td><td>-43.047732170419415</td><td>0.48856401443481445</td><td>25988424487661.973</td><td>13.41477995179595</td><td>9993</td><td>9993</td><td>9993,9468</td><td>9993,9468</td><td>9993</td></tr>\n",
       "<tr><td>141700167323</td><td>60.8912148677035</td><td>-42.89338588766673</td><td>0.5069615840911865</td><td>16647167469250.705</td><td>13.221340348525576</td><td>9995</td><td>9995</td><td>9995</td><td>9995</td><td>9995</td></tr>\n",
       "<tr><td>11200167323</td><td>61.30452051774786</td><td>-42.444738143323676</td><td>0.5363544225692749</td><td>11376605062850.705</td><td>13.056012681879828</td><td>9998</td><td>9998</td><td>9998</td><td>9998</td><td>9998</td></tr>\n",
       "</table></div>"
      ],
      "text/plain": [
       "<Table length=314603>\n",
       "    id_cl           ra_cl               dec_cl       ... mt_multi_other mt_cross\n",
       "    str21          float64             float64       ...     str59        str5  \n",
       "------------- ------------------ ------------------- ... -------------- --------\n",
       "  47800022421  56.31640050745837 -27.123248927448433 ...                        \n",
       "1285800139141  54.71544861616969  -39.75726577886786 ...                        \n",
       "1306300139141 55.276601024626224  -39.64213769417928 ...                        \n",
       "1410300139141 54.166458871588574  -38.14830842235588 ...                        \n",
       "1577400139141 54.010673500138196  -38.15296869655581 ...                        \n",
       "1781500139141 54.091791317723434 -38.107274567608066 ...                        \n",
       "1793000139141  54.75143915811279  -39.05790928192014 ...                        \n",
       "1807400139141  54.76637761732215  -39.04772001953808 ...                        \n",
       "1824300139141  55.20063455953354 -38.775201157743126 ...                        \n",
       "1942400139141   53.9866930568455 -38.488220588373615 ...                        \n",
       "          ...                ...                 ... ...            ...      ...\n",
       "2637000167241 61.003008291988934 -42.736133194370424 ...      9700,9984     9984\n",
       "2403800179208 62.456231527382556  -42.40705378177429 ...           9985     9985\n",
       " 221300167373  61.14456649908841 -42.321105570234934 ...      9594,9987     9987\n",
       " 193000179259  61.71943437186058 -42.145878390825445 ...           9989     9989\n",
       "1236700179235  62.16993784923981  -42.60985718963725 ...           9990     9990\n",
       "2020600167235  61.14230723892351  -42.63754061209476 ...           9991     9991\n",
       "2482200167208  61.65934692334802 -41.783770670193796 ...      9992,9805     9992\n",
       " 263300167331 61.162078203642615 -43.047732170419415 ...      9993,9468     9993\n",
       " 141700167323   60.8912148677035  -42.89338588766673 ...           9995     9995\n",
       "  11200167323  61.30452051774786 -42.444738143323676 ...           9998     9998"
      ]
     },
     "execution_count": 22,
     "metadata": {},
     "output_type": "execute_result"
    }
   ],
   "source": [
    "cl[0]"
   ]
  },
  {
   "cell_type": "code",
   "execution_count": 21,
   "id": "de972ad0-aa59-48c1-9dc6-500d61eb4902",
   "metadata": {},
   "outputs": [
    {
     "data": {
      "text/html": [
       "<div><i>Table length=62001</i>\n",
       "<table id=\"table140484333712768\" class=\"table-striped table-bordered table-condensed\">\n",
       "<thead><tr><th>id_cl</th><th>ra_cl</th><th>dec_cl</th><th>z_cl</th><th>mass</th><th>log10_mass</th><th>mt_self</th><th>mt_other</th><th>mt_multi_self</th><th>mt_multi_other</th><th>mt_cross</th></tr></thead>\n",
       "<thead><tr><th>str21</th><th>float64</th><th>float64</th><th>float64</th><th>float64</th><th>float64</th><th>str5</th><th>str5</th><th>str59</th><th>str59</th><th>str5</th></tr></thead>\n",
       "<tr><td>2089000185253</td><td>49.76440603107914</td><td>-44.424266852495805</td><td>0.945884108543396</td><td>49238760064360.56</td><td>13.692307107947615</td><td>10</td><td>10</td><td>10</td><td>10</td><td>10</td></tr>\n",
       "<tr><td>1889000175266</td><td>50.031310941910384</td><td>-43.829971423227256</td><td>0.8381165266036987</td><td>11925784927909.86</td><td>13.07648697292317</td><td>100</td><td>100</td><td>502,100</td><td>502,100</td><td>100</td></tr>\n",
       "<tr><td>240000176373</td><td>52.39459769217336</td><td>-43.26814426800341</td><td>0.31591784954071045</td><td>16165658416315.494</td><td>13.20859339782783</td><td>1000</td><td>1000</td><td>672,1000</td><td>1000,672</td><td>1000</td></tr>\n",
       "<tr><td>223300167300</td><td>61.66054969919253</td><td>-42.0169449573146</td><td>0.6283746957778931</td><td>11285508915200.0</td><td>13.05252114817937</td><td>10000</td><td>10000</td><td>9498,10000</td><td>9498,10000</td><td>10000</td></tr>\n",
       "<tr><td>3488900167230</td><td>60.85855055575951</td><td>-42.06145648552789</td><td>1.1317176818847656</td><td>13344281556732.395</td><td>13.125295196756284</td><td>10002</td><td>10002</td><td>10002</td><td>10002</td><td>10002</td></tr>\n",
       "<tr><td>3368400167208</td><td>60.743608235406235</td><td>-42.62677895293894</td><td>1.3367745876312256</td><td>10650438860800.0</td><td>13.02736750363362</td><td>10003</td><td>10003</td><td>10003</td><td>10003</td><td>10003</td></tr>\n",
       "<tr><td>377200179213</td><td>61.96885716050183</td><td>-42.71469731500609</td><td>1.3097193241119385</td><td>10379753397002.818</td><td>13.016187035632564</td><td>10004</td><td>10004</td><td>10004</td><td>10004</td><td>10004</td></tr>\n",
       "<tr><td>2934300167203</td><td>60.95438721416399</td><td>-42.204675091022764</td><td>1.4010915756225586</td><td>23445542029340.848</td><td>13.370060277494176</td><td>10006</td><td>10006</td><td>10006</td><td>10006</td><td>10006</td></tr>\n",
       "<tr><td>1767100179224</td><td>61.734141279301554</td><td>-42.423414237879115</td><td>1.1584014892578125</td><td>12938253730253.521</td><td>13.111875663775292</td><td>10007</td><td>10007</td><td>10007</td><td>10007</td><td>10007</td></tr>\n",
       "<tr><td>111700167347</td><td>60.894425417790195</td><td>-42.67794470337305</td><td>0.40558159351348877</td><td>13695651989994.367</td><td>13.136582711939875</td><td>10008</td><td>10008</td><td>10008,9540</td><td>10008,9540</td><td>10008</td></tr>\n",
       "<tr><td>...</td><td>...</td><td>...</td><td>...</td><td>...</td><td>...</td><td>...</td><td>...</td><td>...</td><td>...</td><td>...</td></tr>\n",
       "<tr><td>2637000167241</td><td>61.003008291988934</td><td>-42.736133194370424</td><td>1.0183944702148438</td><td>15408260156574.648</td><td>13.187753602569334</td><td>9984</td><td>9984</td><td>9700,9984</td><td>9700,9984</td><td>9984</td></tr>\n",
       "<tr><td>2403800179208</td><td>62.456231527382556</td><td>-42.40705378177429</td><td>1.3607778549194336</td><td>49803555589047.89</td><td>13.697260349136847</td><td>9985</td><td>9985</td><td>9985</td><td>9985</td><td>9985</td></tr>\n",
       "<tr><td>221300167373</td><td>61.14456649908841</td><td>-42.321105570234934</td><td>0.3147202730178833</td><td>23734446870354.93</td><td>13.375379114969409</td><td>9987</td><td>9987</td><td>9594,9987</td><td>9594,9987</td><td>9987</td></tr>\n",
       "<tr><td>193000179259</td><td>61.71943437186058</td><td>-42.145878390825445</td><td>0.8703768253326416</td><td>13953324034884.508</td><td>13.1446776798707</td><td>9989</td><td>9989</td><td>9989</td><td>9989</td><td>9989</td></tr>\n",
       "<tr><td>1236700179235</td><td>62.16993784923981</td><td>-42.60985718963725</td><td>1.077375888824463</td><td>18224431057847.887</td><td>13.260653979113796</td><td>9990</td><td>9990</td><td>9990</td><td>9990</td><td>9990</td></tr>\n",
       "<tr><td>2020600167235</td><td>61.14230723892351</td><td>-42.63754061209476</td><td>1.0933327674865723</td><td>17776758518625.35</td><td>13.249852572955099</td><td>9991</td><td>9991</td><td>9991</td><td>9991</td><td>9991</td></tr>\n",
       "<tr><td>2482200167208</td><td>61.65934692334802</td><td>-41.783770670193796</td><td>1.3580598831176758</td><td>15408260156574.648</td><td>13.187753602569334</td><td>9992</td><td>9992</td><td>9992,9805</td><td>9992,9805</td><td>9992</td></tr>\n",
       "<tr><td>263300167331</td><td>61.162078203642615</td><td>-43.047732170419415</td><td>0.48856401443481445</td><td>25988424487661.973</td><td>13.41477995179595</td><td>9993</td><td>9993</td><td>9993,9468</td><td>9993,9468</td><td>9993</td></tr>\n",
       "<tr><td>141700167323</td><td>60.8912148677035</td><td>-42.89338588766673</td><td>0.5069615840911865</td><td>16647167469250.705</td><td>13.221340348525576</td><td>9995</td><td>9995</td><td>9995</td><td>9995</td><td>9995</td></tr>\n",
       "<tr><td>11200167323</td><td>61.30452051774786</td><td>-42.444738143323676</td><td>0.5363544225692749</td><td>11376605062850.705</td><td>13.056012681879828</td><td>9998</td><td>9998</td><td>9998</td><td>9998</td><td>9998</td></tr>\n",
       "</table></div>"
      ],
      "text/plain": [
       "<Table length=62001>\n",
       "    id_cl           ra_cl               dec_cl       ... mt_multi_other mt_cross\n",
       "    str21          float64             float64       ...     str59        str5  \n",
       "------------- ------------------ ------------------- ... -------------- --------\n",
       "2089000185253  49.76440603107914 -44.424266852495805 ...             10       10\n",
       "1889000175266 50.031310941910384 -43.829971423227256 ...        502,100      100\n",
       " 240000176373  52.39459769217336  -43.26814426800341 ...       1000,672     1000\n",
       " 223300167300  61.66054969919253   -42.0169449573146 ...     9498,10000    10000\n",
       "3488900167230  60.85855055575951  -42.06145648552789 ...          10002    10002\n",
       "3368400167208 60.743608235406235  -42.62677895293894 ...          10003    10003\n",
       " 377200179213  61.96885716050183  -42.71469731500609 ...          10004    10004\n",
       "2934300167203  60.95438721416399 -42.204675091022764 ...          10006    10006\n",
       "1767100179224 61.734141279301554 -42.423414237879115 ...          10007    10007\n",
       " 111700167347 60.894425417790195  -42.67794470337305 ...     10008,9540    10008\n",
       "          ...                ...                 ... ...            ...      ...\n",
       "2637000167241 61.003008291988934 -42.736133194370424 ...      9700,9984     9984\n",
       "2403800179208 62.456231527382556  -42.40705378177429 ...           9985     9985\n",
       " 221300167373  61.14456649908841 -42.321105570234934 ...      9594,9987     9987\n",
       " 193000179259  61.71943437186058 -42.145878390825445 ...           9989     9989\n",
       "1236700179235  62.16993784923981  -42.60985718963725 ...           9990     9990\n",
       "2020600167235  61.14230723892351  -42.63754061209476 ...           9991     9991\n",
       "2482200167208  61.65934692334802 -41.783770670193796 ...      9992,9805     9992\n",
       " 263300167331 61.162078203642615 -43.047732170419415 ...      9993,9468     9993\n",
       " 141700167323   60.8912148677035  -42.89338588766673 ...           9995     9995\n",
       "  11200167323  61.30452051774786 -42.444738143323676 ...           9998     9998"
      ]
     },
     "execution_count": 21,
     "metadata": {},
     "output_type": "execute_result"
    }
   ],
   "source": [
    "c1"
   ]
  },
  {
   "cell_type": "code",
   "execution_count": null,
   "id": "662a10e1-8f76-4743-bc5f-b286b20c5195",
   "metadata": {},
   "outputs": [],
   "source": []
  },
  {
   "cell_type": "code",
   "execution_count": 54,
   "id": "dc873d05-e8f1-4b8a-aaa8-8e22585dd619",
   "metadata": {},
   "outputs": [
    {
     "name": "stdout",
     "output_type": "stream",
     "text": [
      "    * ClEvar used in matching: 0.13.5\n",
      "    * ClEvar used in matching: 0.13.5\n"
     ]
    }
   ],
   "source": [
    "for c in cats :\n",
    "    cl.append(ClCatalog.read_full(inpath + '.'.join(c) + '.fits'))"
   ]
  },
  {
   "cell_type": "code",
   "execution_count": 53,
   "id": "0a1c2174-fca1-4730-8e40-30b875aa38e2",
   "metadata": {},
   "outputs": [],
   "source": [
    "cl = []"
   ]
  },
  {
   "cell_type": "code",
   "execution_count": 55,
   "id": "86dd4f7a-9326-4106-8b36-1b6bd00e05ce",
   "metadata": {
    "collapsed": true,
    "jupyter": {
     "outputs_hidden": true
    },
    "tags": []
   },
   "outputs": [
    {
     "data": {
      "text/html": [
       "<b>amico.DC2.fzb.magy.v0</b><br></b><b>tags:</b> id_cl(id), ra_cl(ra), dec_cl(dec), z_cl(z), mass(mass)<br><b>Radius unit:</b> None<br><div><i>ClData length=74502</i>\n",
       "<table id=\"table140483593882592\" class=\"table-striped table-bordered table-condensed\">\n",
       "<thead><tr><th>id_cl (id)</th><th>ra_cl (ra)</th><th>dec_cl (dec)</th><th>z_cl (z)</th><th>mass</th><th>snr_cl</th><th>mt_self</th><th>mt_other</th><th>mt_multi_self</th><th>mt_multi_other</th><th>mt_cross</th></tr></thead>\n",
       "<thead><tr><th>str11</th><th>float64</th><th>float64</th><th>float32</th><th>float64</th><th>float64</th><th>object</th><th>object</th><th>object</th><th>object</th><th>object</th></tr></thead>\n",
       "<tr><td>1</td><td>49.683452</td><td>-43.655292</td><td>0.26</td><td>22.472449</td><td>5.1690214</td><td>None</td><td>None</td><td>[]</td><td>[]</td><td>None</td></tr>\n",
       "<tr><td>2</td><td>49.641694</td><td>-44.540292</td><td>1.65</td><td>99.356595</td><td>4.5488049</td><td>None</td><td>None</td><td>[]</td><td>[]</td><td>None</td></tr>\n",
       "<tr><td>3</td><td>49.816505</td><td>-44.33019</td><td>0.9</td><td>47.409805</td><td>4.2867624</td><td>390100185259</td><td>390100185259</td><td>[&apos;390100185259&apos;]</td><td>[&apos;390100185259&apos;]</td><td>390100185259</td></tr>\n",
       "<tr><td>4</td><td>49.697499</td><td>-44.030288</td><td>0.33</td><td>23.374818</td><td>4.1128689</td><td>162800185373</td><td>162800185373</td><td>[&apos;409300185347&apos;, &apos;258600185392&apos;, &apos;162800185373&apos;]</td><td>[&apos;409300185347&apos;, &apos;258600185392&apos;, &apos;162800185373&apos;]</td><td>162800185373</td></tr>\n",
       "<tr><td>5</td><td>49.739429</td><td>-44.185267</td><td>0.35</td><td>15.409</td><td>3.999463</td><td>48100185392</td><td>48100185392</td><td>[&apos;513900185365&apos;, &apos;42000185382&apos;, &apos;48100185392&apos;]</td><td>[&apos;513900185365&apos;, &apos;42000185382&apos;, &apos;48100185392&apos;]</td><td>48100185392</td></tr>\n",
       "<tr><td>6</td><td>49.787948</td><td>-44.050224</td><td>0.15</td><td>23.09391</td><td>3.9704237</td><td>67800185421</td><td>67800185421</td><td>[&apos;76000185392&apos;, &apos;258600185392&apos;, &apos;42000185382&apos;, &apos;67800185421&apos;]</td><td>[&apos;258600185392&apos;, &apos;42000185382&apos;, &apos;76000185392&apos;, &apos;67800185421&apos;]</td><td>67800185421</td></tr>\n",
       "<tr><td>7</td><td>49.606663</td><td>-44.495281</td><td>1.98</td><td>50.165067</td><td>3.9153011</td><td>2881500185171</td><td>2881500185171</td><td>[&apos;2881500185171&apos;]</td><td>[&apos;2881500185171&apos;]</td><td>2881500185171</td></tr>\n",
       "<tr><td>8</td><td>49.613987</td><td>-44.105284</td><td>0.27</td><td>23.122551</td><td>3.8580094</td><td>13600185373</td><td>13600185373</td><td>[&apos;197800185411&apos;, &apos;13600185373&apos;, &apos;122800185392&apos;]</td><td>[&apos;197800185411&apos;, &apos;13600185373&apos;, &apos;122800185392&apos;]</td><td>13600185373</td></tr>\n",
       "<tr><td>9</td><td>49.683589</td><td>-44.025292</td><td>1.64</td><td>18.8175</td><td>3.6981405</td><td>None</td><td>None</td><td>[]</td><td>[]</td><td>None</td></tr>\n",
       "<tr><td>10</td><td>49.767749</td><td>-44.425245</td><td>0.99</td><td>28.543561</td><td>3.6185385</td><td>2089000185253</td><td>2089000185253</td><td>[&apos;2089000185253&apos;]</td><td>[&apos;2089000185253&apos;]</td><td>2089000185253</td></tr>\n",
       "<tr><td>...</td><td>...</td><td>...</td><td>...</td><td>...</td><td>...</td><td>...</td><td>...</td><td>...</td><td>...</td><td>...</td></tr>\n",
       "<tr><td>74493</td><td>71.198378</td><td>-28.136959</td><td>0.5</td><td>8.652656</td><td>3.0151341</td><td>761400037338</td><td>761400037338</td><td>[&apos;761400037338&apos;]</td><td>[&apos;761400037338&apos;]</td><td>761400037338</td></tr>\n",
       "<tr><td>74494</td><td>70.9566</td><td>-27.22175</td><td>0.11</td><td>6.1963769</td><td>3.0130109</td><td>105400037411</td><td>105400037411</td><td>[&apos;105400037411&apos;, &apos;34800037442&apos;, &apos;101100037421&apos;]</td><td>[&apos;34800037442&apos;, &apos;101100037421&apos;, &apos;105400037411&apos;]</td><td>105400037411</td></tr>\n",
       "<tr><td>74495</td><td>71.412904</td><td>-27.666794</td><td>1.36</td><td>16.832181</td><td>3.0121762</td><td>None</td><td>None</td><td>[]</td><td>[]</td><td>None</td></tr>\n",
       "<tr><td>74496</td><td>71.599534</td><td>-27.756382</td><td>0.91</td><td>22.915251</td><td>3.011763</td><td>2821600037241</td><td>2821600037241</td><td>[&apos;2821600037241&apos;]</td><td>[&apos;2821600037241&apos;]</td><td>2821600037241</td></tr>\n",
       "<tr><td>74497</td><td>71.254885</td><td>-27.771948</td><td>0.31</td><td>7.0550753</td><td>3.0087412</td><td>218000037373</td><td>218000037373</td><td>[&apos;365700037347&apos;, &apos;218000037373&apos;, &apos;428400037347&apos;]</td><td>[&apos;365700037347&apos;, &apos;218000037373&apos;, &apos;428400037347&apos;]</td><td>218000037373</td></tr>\n",
       "<tr><td>74498</td><td>71.050854</td><td>-28.216882</td><td>1.22</td><td>22.172314</td><td>3.0084952</td><td>2314000047213</td><td>2314000047213</td><td>[&apos;435000047219&apos;, &apos;2314000047213&apos;]</td><td>[&apos;435000047219&apos;, &apos;2314000047213&apos;]</td><td>2314000047213</td></tr>\n",
       "<tr><td>74499</td><td>71.192731</td><td>-27.651959</td><td>2.09</td><td>4.9534575</td><td>3.0040342</td><td>None</td><td>None</td><td>[]</td><td>[]</td><td>None</td></tr>\n",
       "<tr><td>74500</td><td>70.775563</td><td>-27.51132</td><td>1.02</td><td>19.876112</td><td>3.0017439</td><td>3419000037224</td><td>3419000037224</td><td>[&apos;3419000037224&apos;, &apos;3652600037224&apos;]</td><td>[&apos;3419000037224&apos;, &apos;3652600037224&apos;]</td><td>3419000037224</td></tr>\n",
       "<tr><td>74501</td><td>70.588166</td><td>-27.755629</td><td>0.69</td><td>12.851159</td><td>3.0017316</td><td>1653000047293</td><td>1653000047293</td><td>[&apos;1096800047266&apos;, &apos;1653000047293&apos;]</td><td>[&apos;1096800047266&apos;, &apos;1653000047293&apos;]</td><td>1653000047293</td></tr>\n",
       "<tr><td>74502</td><td>71.266325</td><td>-27.991943</td><td>0.55</td><td>10.040775</td><td>3.0000117</td><td>1159400037307</td><td>1159400037307</td><td>[&apos;773200037338&apos;, &apos;1159400037307&apos;]</td><td>[&apos;773200037338&apos;, &apos;1159400037307&apos;]</td><td>1159400037307</td></tr>\n",
       "</table></div>"
      ],
      "text/plain": [
       "<clevar.catalog.ClCatalog at 0x7fc50f09dae0>"
      ]
     },
     "execution_count": 55,
     "metadata": {},
     "output_type": "execute_result"
    }
   ],
   "source": [
    "cl[1]"
   ]
  },
  {
   "cell_type": "code",
   "execution_count": 56,
   "id": "b27b7e9c-77bb-41dc-95a3-f2a0eefb0908",
   "metadata": {},
   "outputs": [],
   "source": [
    "output_matched_catalog(inpath + '.'.join(cats[0]) + '.fits', inpath + '.'.join(cats[1]) + '.fits', inpath + 'output_catalog_12.fits', cl[0], cl[1], matching_type='cross', overwrite=True)"
   ]
  },
  {
   "cell_type": "code",
   "execution_count": 57,
   "id": "89d8dcd4-c21d-465f-8cb8-6ba0605ebd16",
   "metadata": {},
   "outputs": [],
   "source": [
    "c_merged_12 = ClCatalog.read(inpath+'output_catalog_12.fits', name='NameOfCatalog', full=True)"
   ]
  },
  {
   "cell_type": "code",
   "execution_count": 58,
   "id": "2d43000f-1233-4007-b4c5-6e8266ec9488",
   "metadata": {},
   "outputs": [
    {
     "data": {
      "text/html": [
       "<b>NameOfCatalog</b><br></b><b>tags:</b> id(id)<br><b>Radius unit:</b> None<br><div><i>ClData length=62001</i>\n",
       "<table id=\"table140484333637968\" class=\"table-striped table-bordered table-condensed\">\n",
       "<thead><tr><th>id</th><th>cat1_id_cl</th><th>cat1_ra_cl</th><th>cat1_dec_cl</th><th>cat1_z_cl</th><th>cat1_mass</th><th>cat1_log10_mass</th><th>cat1_mt_self</th><th>cat1_mt_other</th><th>cat1_mt_multi_self</th><th>cat1_mt_multi_other</th><th>cat1_mt_cross</th><th>cat2_id_cl</th><th>cat2_ra_cl</th><th>cat2_dec_cl</th><th>cat2_z_cl</th><th>cat2_mass</th><th>cat2_mt_self</th><th>cat2_mt_other</th><th>cat2_mt_multi_self</th><th>cat2_mt_multi_other</th><th>cat2_mt_cross</th><th>cat2_snr_cl</th><th>mt_self</th><th>mt_other</th><th>mt_multi_self</th><th>mt_multi_other</th></tr></thead>\n",
       "<thead><tr><th>str5</th><th>bytes21</th><th>float64</th><th>float64</th><th>float64</th><th>float64</th><th>float64</th><th>bytes5</th><th>bytes5</th><th>bytes59</th><th>bytes59</th><th>bytes5</th><th>bytes11</th><th>float64</th><th>float64</th><th>float32</th><th>float64</th><th>bytes13</th><th>bytes13</th><th>bytes164</th><th>bytes164</th><th>bytes13</th><th>float64</th><th>object</th><th>object</th><th>object</th><th>object</th></tr></thead>\n",
       "<tr><td>0</td><td>129600022373</td><td>56.25214648991651</td><td>-27.26463039851732</td><td>0.31463730335235596</td><td>17144291443380.283</td><td>13.234119540860185</td><td>70569</td><td>70569</td><td>70569</td><td>70569</td><td>70569</td><td>70569</td><td>56.245478</td><td>-27.266863</td><td>0.3</td><td>10.649898</td><td>129600022373</td><td>129600022373</td><td>129600022373,129300042392</td><td>129600022373,129300042392</td><td>129600022373</td><td>3.1464103</td><td>None</td><td>None</td><td>[]</td><td>[]</td></tr>\n",
       "<tr><td>1</td><td>1473400022293</td><td>56.23945612702375</td><td>-27.08076580919556</td><td>0.6921319961547852</td><td>13896064400946.48</td><td>13.142891818170106</td><td>70416</td><td>70416</td><td>70416</td><td>70416</td><td>70416</td><td>70416</td><td>56.234493</td><td>-27.09685</td><td>0.73</td><td>27.840204</td><td>1473400022293</td><td>1473400022293</td><td>1473400022293,1676600022293</td><td>1473400022293,1676600022293</td><td>1473400022293</td><td>3.4494675</td><td>None</td><td>None</td><td>[]</td><td>[]</td></tr>\n",
       "<tr><td>2</td><td>939700022266</td><td>56.292911663520805</td><td>-27.16860705304576</td><td>0.8448320627212524</td><td>27784319125994.367</td><td>13.443799758564383</td><td>70462</td><td>70462</td><td>70462</td><td>70462</td><td>70462</td><td>70462</td><td>56.290577</td><td>-27.171907</td><td>0.83</td><td>22.496482</td><td>939700022266</td><td>939700022266</td><td>1698100022253,939700022266</td><td>1698100022253,939700022266</td><td>939700022266</td><td>3.3474864</td><td>None</td><td>None</td><td>[]</td><td>[]</td></tr>\n",
       "<tr><td>3</td><td>2059900022253</td><td>56.10936823457989</td><td>-27.123529680066575</td><td>0.9284646511077881</td><td>31391727754456.34</td><td>13.496815219286436</td><td>70354</td><td>70354</td><td>70354</td><td>70354</td><td>70354</td><td>70354</td><td>56.110882</td><td>-27.116642</td><td>0.9</td><td>32.511506</td><td>2059900022253</td><td>2059900022253</td><td>2059900022253,512700022253</td><td>2059900022253,512700022253</td><td>2059900022253</td><td>3.6075265</td><td>None</td><td>None</td><td>[]</td><td>[]</td></tr>\n",
       "<tr><td>4</td><td>1264800022241</td><td>56.21164200690782</td><td>-27.159346665456678</td><td>1.0367698669433594</td><td>158460415226952.12</td><td>14.199920789609864</td><td>70350</td><td>70350</td><td>70350</td><td>70350</td><td>70350</td><td>70350</td><td>56.211913</td><td>-27.16182</td><td>1.03</td><td>41.265279</td><td>1264800022241</td><td>1264800022241</td><td>1264800022241,2626800022266</td><td>2626800022266,1264800022241</td><td>1264800022241</td><td>3.6118393</td><td>None</td><td>None</td><td>[]</td><td>[]</td></tr>\n",
       "<tr><td>5</td><td>2734000022171</td><td>56.24829936256259</td><td>-27.001997187639137</td><td>1.857975959777832</td><td>13724282545397.184</td><td>13.13748965041035</td><td>70601</td><td>70601</td><td>70601</td><td>70601</td><td>70601</td><td>70601</td><td>56.223442</td><td>-26.986835</td><td>2.06</td><td>12.113816</td><td>2734000022171</td><td>2734000022171</td><td>2734000022171</td><td>2734000022171</td><td>2734000022171</td><td>3.0830996</td><td>None</td><td>None</td><td>[]</td><td>[]</td></tr>\n",
       "<tr><td>6</td><td>523000023338</td><td>59.06495439922399</td><td>-27.129641500617506</td><td>0.46029555797576904</td><td>76913764403921.12</td><td>13.886004067626489</td><td>71164</td><td>71164</td><td>71164</td><td>71164</td><td>71164</td><td>71164</td><td>59.046821</td><td>-27.125313</td><td>0.46</td><td>37.518871</td><td>523000023338</td><td>523000023338</td><td>422800023307,523000023338</td><td>422800023307,523000023338</td><td>523000023338</td><td>5.3269586</td><td>None</td><td>None</td><td>[]</td><td>[]</td></tr>\n",
       "<tr><td>7</td><td>757600023338</td><td>59.057801410090214</td><td>-27.022217341731103</td><td>0.468464732170105</td><td>155175755337554.94</td><td>14.19082386804573</td><td>71315</td><td>71315</td><td>71315</td><td>71315</td><td>71315</td><td>71315</td><td>59.05869</td><td>-27.020369</td><td>0.46</td><td>29.500668</td><td>757600023338</td><td>757600023338</td><td>879600023338,757600023338</td><td>879600023338,757600023338</td><td>757600023338</td><td>3.6113967</td><td>None</td><td>None</td><td>[]</td><td>[]</td></tr>\n",
       "<tr><td>8</td><td>1623600023272</td><td>59.15955946005446</td><td>-27.043640152226704</td><td>0.7913658618927002</td><td>72481288918895.78</td><td>13.860225907701137</td><td>71437</td><td>71437</td><td>71437</td><td>71437</td><td>71437</td><td>71437</td><td>59.15961</td><td>-27.040816</td><td>0.84</td><td>27.735435</td><td>1623600023272</td><td>1623600023272</td><td>1623600023272,1260600023279</td><td>1623600023272,1260600023279</td><td>1623600023272</td><td>3.1982906</td><td>None</td><td>None</td><td>[]</td><td>[]</td></tr>\n",
       "<tr><td>9</td><td>4778200023213</td><td>59.08020671406334</td><td>-27.21438973855821</td><td>1.3153705596923828</td><td>18739775147628.17</td><td>13.27276437562699</td><td>71385</td><td>71385</td><td>71385</td><td>71385</td><td>71385</td><td>71385</td><td>59.080001</td><td>-27.215472</td><td>1.32</td><td>14.651886</td><td>4778200023213</td><td>4778200023213</td><td>4778200023213</td><td>4778200023213</td><td>4778200023213</td><td>3.3314046</td><td>None</td><td>None</td><td>[]</td><td>[]</td></tr>\n",
       "<tr><td>...</td><td>...</td><td>...</td><td>...</td><td>...</td><td>...</td><td>...</td><td>...</td><td>...</td><td>...</td><td>...</td><td>...</td><td>...</td><td>...</td><td>...</td><td>...</td><td>...</td><td>...</td><td>...</td><td>...</td><td>...</td><td>...</td><td>...</td><td>...</td><td>...</td><td>...</td><td>...</td></tr>\n",
       "<tr><td>61991</td><td>1914100193208</td><td>72.54028849563188</td><td>-43.776597324619274</td><td>1.3334896564483643</td><td>21241014370073.242</td><td>13.327175252748711</td><td>6364</td><td>6364</td><td>6364</td><td>6364</td><td>6364</td><td>6364</td><td>72.542311</td><td>-43.778627</td><td>1.34</td><td>32.209313</td><td>1914100193208</td><td>1914100193208</td><td>2574800193208,4302100193198,1914100193208,683800193230</td><td>2574800193208,4302100193198,1914100193208,683800193230</td><td>1914100193208</td><td>3.2075849</td><td>None</td><td>None</td><td>[]</td><td>[]</td></tr>\n",
       "<tr><td>61992</td><td>2820900193203</td><td>73.66533423263265</td><td>-44.30881417326438</td><td>1.4271113872528076</td><td>25902532821453.523</td><td>13.413342232675811</td><td>6439</td><td>6439</td><td>6439</td><td>6439</td><td>6439</td><td>6439</td><td>73.668246</td><td>-44.309671</td><td>1.42</td><td>25.475163</td><td>2820900193203</td><td>2820900193203</td><td>2820900193203,2279200193184</td><td>2820900193203,2279200193184</td><td>2820900193203</td><td>3.0464996</td><td>None</td><td>None</td><td>[]</td><td>[]</td></tr>\n",
       "<tr><td>61993</td><td>4699900193203</td><td>72.90049471757558</td><td>-44.29013175617277</td><td>1.3934950828552246</td><td>22693348251042.254</td><td>13.355898577844966</td><td>6218</td><td>6218</td><td>6218</td><td>6218</td><td>6218</td><td>6218</td><td>72.899754</td><td>-44.290159</td><td>1.36</td><td>27.852399</td><td>4699900193203</td><td>4699900193203</td><td>4699900193203,2287400193203,1034900193208</td><td>4699900193203,2287400193203,1034900193208</td><td>4699900193203</td><td>3.563022</td><td>None</td><td>None</td><td>[]</td><td>[]</td></tr>\n",
       "<tr><td>61994</td><td>1886000193198</td><td>72.95168126007383</td><td>-43.950397395390176</td><td>1.4458582401275635</td><td>10437013769374.648</td><td>13.018576256424948</td><td>6429</td><td>6429</td><td>6429</td><td>6429</td><td>6429</td><td>6429</td><td>72.964118</td><td>-43.930313</td><td>1.37</td><td>21.846535</td><td>1886000193198</td><td>1886000193198</td><td>1886000193198</td><td>1886000193198</td><td>1886000193198</td><td>3.063679</td><td>None</td><td>None</td><td>[]</td><td>[]</td></tr>\n",
       "<tr><td>61995</td><td>4216500193198</td><td>72.85750476570709</td><td>-44.434256249684914</td><td>1.4357457160949707</td><td>158447406977081.7</td><td>14.199885136270026</td><td>6195</td><td>6195</td><td>6195</td><td>6195</td><td>6195</td><td>6195</td><td>72.86401</td><td>-44.430059</td><td>1.4</td><td>36.301148</td><td>4216500193198</td><td>4216500193198</td><td>4216500193198,563100193219,2792100193219</td><td>4216500193198,563100193219,2792100193219</td><td>4216500193198</td><td>3.6307907</td><td>None</td><td>None</td><td>[]</td><td>[]</td></tr>\n",
       "<tr><td>61996</td><td>4222100193198</td><td>72.56365923627136</td><td>-44.40668231310546</td><td>1.446977138519287</td><td>19140598492664.79</td><td>13.281955513273536</td><td>6319</td><td>6319</td><td>6319</td><td>6319</td><td>6319</td><td>6319</td><td>72.556343</td><td>-44.393727</td><td>1.22</td><td>18.859025</td><td>4222100193198</td><td>4222100193198</td><td>4222100193198</td><td>4222100193198</td><td>4222100193198</td><td>3.3128988</td><td>None</td><td>None</td><td>[]</td><td>[]</td></tr>\n",
       "<tr><td>61997</td><td>1543800193176</td><td>72.90004105703633</td><td>-44.522473808365156</td><td>1.7894325256347656</td><td>11360988664788.732</td><td>13.055416126531611</td><td>6266</td><td>6266</td><td>6266</td><td>6266</td><td>6266</td><td>6266</td><td>72.856408</td><td>-44.530037</td><td>1.57</td><td>14.900086</td><td>1543800193176</td><td>1543800193176</td><td>2630800193203,1543800193176</td><td>2630800193203,1543800193176</td><td>1543800193176</td><td>3.4557027</td><td>None</td><td>None</td><td>[]</td><td>[]</td></tr>\n",
       "<tr><td>61998</td><td>1386500193171</td><td>73.85277423356936</td><td>-44.56269155697546</td><td>1.8547861576080322</td><td>12487977473442.254</td><td>13.096492106648808</td><td>6277</td><td>6277</td><td>6404,6277</td><td>6404,6277</td><td>6277</td><td>6277</td><td>73.817693</td><td>-44.57399</td><td>1.98</td><td>18.534129</td><td>1386500193171</td><td>1386500193171</td><td>1386500193171</td><td>1386500193171</td><td>1386500193171</td><td>3.4246274</td><td>None</td><td>None</td><td>[]</td><td>[]</td></tr>\n",
       "<tr><td>61999</td><td>1816100193171</td><td>73.00815900414919</td><td>-44.60451333054555</td><td>1.8064486980438232</td><td>18263473529870.42</td><td>13.26158337951768</td><td>6297</td><td>6297</td><td>6297</td><td>6297</td><td>6297</td><td>6297</td><td>73.010446</td><td>-44.605405</td><td>1.65</td><td>37.378423</td><td>1816100193171</td><td>1816100193171</td><td>2654300193171,1816100193171</td><td>2654300193171,1816100193171</td><td>1816100193171</td><td>3.3721211</td><td>None</td><td>None</td><td>[]</td><td>[]</td></tr>\n",
       "<tr><td>62000</td><td>760300193163</td><td>72.55885689940416</td><td>-44.579513761886695</td><td>1.9590728282928467</td><td>12196470391707.043</td><td>13.086234165823154</td><td>6313</td><td>6313</td><td>6313</td><td>6313</td><td>6313</td><td>6313</td><td>72.547043</td><td>-44.598681</td><td>2.11</td><td>29.68841</td><td>760300193163</td><td>760300193163</td><td>760300193163</td><td>760300193163</td><td>760300193163</td><td>3.3214976</td><td>None</td><td>None</td><td>[]</td><td>[]</td></tr>\n",
       "</table></div>"
      ],
      "text/plain": [
       "<clevar.catalog.ClCatalog at 0x7fc50f09d900>"
      ]
     },
     "execution_count": 58,
     "metadata": {},
     "output_type": "execute_result"
    }
   ],
   "source": [
    "c_merged_12"
   ]
  },
  {
   "cell_type": "code",
   "execution_count": 43,
   "id": "3750c884-0f61-4926-b868-ed2bdeb7bade",
   "metadata": {},
   "outputs": [],
   "source": [
    "cam = Table.read('/sps/lsst/groups/clusters/cluster_comparison_project/before_matching/amico/DC2.fzb.magy/v0/Catalog.fits')\n"
   ]
  },
  {
   "cell_type": "code",
   "execution_count": 44,
   "id": "406fcf74-0c38-4ed8-ac88-6da289ef8707",
   "metadata": {
    "collapsed": true,
    "jupyter": {
     "outputs_hidden": true
    },
    "tags": []
   },
   "outputs": [
    {
     "data": {
      "text/html": [
       "<div><i>Table length=74502</i>\n",
       "<table id=\"table140484336470096\" class=\"table-striped table-bordered table-condensed\">\n",
       "<thead><tr><th>id_cl</th><th>ra_cl</th><th>dec_cl</th><th>z_cl</th><th>mass</th><th>sn</th></tr></thead>\n",
       "<thead><tr><th>int32</th><th>float64</th><th>float64</th><th>float32</th><th>float64</th><th>float64</th></tr></thead>\n",
       "<tr><td>1</td><td>49.683452</td><td>-43.655292</td><td>0.26</td><td>22.472449</td><td>5.1690214</td></tr>\n",
       "<tr><td>2</td><td>49.641694</td><td>-44.540292</td><td>1.65</td><td>99.356595</td><td>4.5488049</td></tr>\n",
       "<tr><td>3</td><td>49.816505</td><td>-44.33019</td><td>0.9</td><td>47.409805</td><td>4.2867624</td></tr>\n",
       "<tr><td>4</td><td>49.697499</td><td>-44.030288</td><td>0.33</td><td>23.374818</td><td>4.1128689</td></tr>\n",
       "<tr><td>5</td><td>49.739429</td><td>-44.185267</td><td>0.35</td><td>15.409</td><td>3.999463</td></tr>\n",
       "<tr><td>6</td><td>49.787948</td><td>-44.050224</td><td>0.15</td><td>23.09391</td><td>3.9704237</td></tr>\n",
       "<tr><td>7</td><td>49.606663</td><td>-44.495281</td><td>1.98</td><td>50.165067</td><td>3.9153011</td></tr>\n",
       "<tr><td>8</td><td>49.613987</td><td>-44.105284</td><td>0.27</td><td>23.122551</td><td>3.8580094</td></tr>\n",
       "<tr><td>9</td><td>49.683589</td><td>-44.025292</td><td>1.64</td><td>18.8175</td><td>3.6981405</td></tr>\n",
       "<tr><td>10</td><td>49.767749</td><td>-44.425245</td><td>0.99</td><td>28.543561</td><td>3.6185385</td></tr>\n",
       "<tr><td>...</td><td>...</td><td>...</td><td>...</td><td>...</td><td>...</td></tr>\n",
       "<tr><td>74493</td><td>71.198378</td><td>-28.136959</td><td>0.5</td><td>8.652656</td><td>3.0151341</td></tr>\n",
       "<tr><td>74494</td><td>70.9566</td><td>-27.22175</td><td>0.11</td><td>6.1963769</td><td>3.0130109</td></tr>\n",
       "<tr><td>74495</td><td>71.412904</td><td>-27.666794</td><td>1.36</td><td>16.832181</td><td>3.0121762</td></tr>\n",
       "<tr><td>74496</td><td>71.599534</td><td>-27.756382</td><td>0.91</td><td>22.915251</td><td>3.011763</td></tr>\n",
       "<tr><td>74497</td><td>71.254885</td><td>-27.771948</td><td>0.31</td><td>7.0550753</td><td>3.0087412</td></tr>\n",
       "<tr><td>74498</td><td>71.050854</td><td>-28.216882</td><td>1.22</td><td>22.172314</td><td>3.0084952</td></tr>\n",
       "<tr><td>74499</td><td>71.192731</td><td>-27.651959</td><td>2.09</td><td>4.9534575</td><td>3.0040342</td></tr>\n",
       "<tr><td>74500</td><td>70.775563</td><td>-27.51132</td><td>1.02</td><td>19.876112</td><td>3.0017439</td></tr>\n",
       "<tr><td>74501</td><td>70.588166</td><td>-27.755629</td><td>0.69</td><td>12.851159</td><td>3.0017316</td></tr>\n",
       "<tr><td>74502</td><td>71.266325</td><td>-27.991943</td><td>0.55</td><td>10.040775</td><td>3.0000117</td></tr>\n",
       "</table></div>"
      ],
      "text/plain": [
       "<Table length=74502>\n",
       "id_cl   ra_cl     dec_cl     z_cl     mass       sn   \n",
       "int32  float64   float64   float32  float64   float64 \n",
       "----- --------- ---------- ------- --------- ---------\n",
       "    1 49.683452 -43.655292    0.26 22.472449 5.1690214\n",
       "    2 49.641694 -44.540292    1.65 99.356595 4.5488049\n",
       "    3 49.816505  -44.33019     0.9 47.409805 4.2867624\n",
       "    4 49.697499 -44.030288    0.33 23.374818 4.1128689\n",
       "    5 49.739429 -44.185267    0.35    15.409  3.999463\n",
       "    6 49.787948 -44.050224    0.15  23.09391 3.9704237\n",
       "    7 49.606663 -44.495281    1.98 50.165067 3.9153011\n",
       "    8 49.613987 -44.105284    0.27 23.122551 3.8580094\n",
       "    9 49.683589 -44.025292    1.64   18.8175 3.6981405\n",
       "   10 49.767749 -44.425245    0.99 28.543561 3.6185385\n",
       "  ...       ...        ...     ...       ...       ...\n",
       "74493 71.198378 -28.136959     0.5  8.652656 3.0151341\n",
       "74494   70.9566  -27.22175    0.11 6.1963769 3.0130109\n",
       "74495 71.412904 -27.666794    1.36 16.832181 3.0121762\n",
       "74496 71.599534 -27.756382    0.91 22.915251  3.011763\n",
       "74497 71.254885 -27.771948    0.31 7.0550753 3.0087412\n",
       "74498 71.050854 -28.216882    1.22 22.172314 3.0084952\n",
       "74499 71.192731 -27.651959    2.09 4.9534575 3.0040342\n",
       "74500 70.775563  -27.51132    1.02 19.876112 3.0017439\n",
       "74501 70.588166 -27.755629    0.69 12.851159 3.0017316\n",
       "74502 71.266325 -27.991943    0.55 10.040775 3.0000117"
      ]
     },
     "execution_count": 44,
     "metadata": {},
     "output_type": "execute_result"
    }
   ],
   "source": [
    "cam"
   ]
  },
  {
   "cell_type": "code",
   "execution_count": 45,
   "id": "a126e618-40f3-4235-accd-898cb89d0ca4",
   "metadata": {},
   "outputs": [],
   "source": [
    "cam2 = Table.read(\"/sps/lsst/groups/clusters/cluster_comparison_project/after_matching/amico.DC2.fzb.magy_cosmoDC2/v0_DC2.masked/proximity_matching_deltaz_0.05_matchradius_1mpc/amico.DC2.fzb.magy.v0.fits\")"
   ]
  },
  {
   "cell_type": "code",
   "execution_count": 46,
   "id": "c78eb809-3291-4bdd-a58b-fe0cb3d24cbc",
   "metadata": {
    "collapsed": true,
    "jupyter": {
     "outputs_hidden": true
    },
    "tags": []
   },
   "outputs": [
    {
     "data": {
      "text/html": [
       "<div><i>Table length=74502</i>\n",
       "<table id=\"table140484336368464\" class=\"table-striped table-bordered table-condensed\">\n",
       "<thead><tr><th>id_cl</th><th>ra_cl</th><th>dec_cl</th><th>z_cl</th><th>mass</th><th>mt_self</th><th>mt_other</th><th>mt_multi_self</th><th>mt_multi_other</th><th>mt_cross</th></tr></thead>\n",
       "<thead><tr><th>bytes11</th><th>float64</th><th>float64</th><th>float32</th><th>float64</th><th>bytes13</th><th>bytes13</th><th>bytes164</th><th>bytes164</th><th>bytes13</th></tr></thead>\n",
       "<tr><td>1</td><td>49.683452</td><td>-43.655292</td><td>0.26</td><td>22.472449</td><td>--</td><td>--</td><td>--</td><td>--</td><td>--</td></tr>\n",
       "<tr><td>2</td><td>49.641694</td><td>-44.540292</td><td>1.65</td><td>99.356595</td><td>--</td><td>--</td><td>--</td><td>--</td><td>--</td></tr>\n",
       "<tr><td>3</td><td>49.816505</td><td>-44.33019</td><td>0.9</td><td>47.409805</td><td>390100185259</td><td>390100185259</td><td>390100185259</td><td>390100185259</td><td>390100185259</td></tr>\n",
       "<tr><td>4</td><td>49.697499</td><td>-44.030288</td><td>0.33</td><td>23.374818</td><td>162800185373</td><td>162800185373</td><td>409300185347,258600185392,162800185373</td><td>409300185347,258600185392,162800185373</td><td>162800185373</td></tr>\n",
       "<tr><td>5</td><td>49.739429</td><td>-44.185267</td><td>0.35</td><td>15.409</td><td>48100185392</td><td>48100185392</td><td>513900185365,42000185382,48100185392</td><td>513900185365,42000185382,48100185392</td><td>48100185392</td></tr>\n",
       "<tr><td>6</td><td>49.787948</td><td>-44.050224</td><td>0.15</td><td>23.09391</td><td>67800185421</td><td>67800185421</td><td>76000185392,258600185392,42000185382,67800185421</td><td>258600185392,42000185382,76000185392,67800185421</td><td>67800185421</td></tr>\n",
       "<tr><td>7</td><td>49.606663</td><td>-44.495281</td><td>1.98</td><td>50.165067</td><td>2881500185171</td><td>2881500185171</td><td>2881500185171</td><td>2881500185171</td><td>2881500185171</td></tr>\n",
       "<tr><td>8</td><td>49.613987</td><td>-44.105284</td><td>0.27</td><td>23.122551</td><td>13600185373</td><td>13600185373</td><td>197800185411,13600185373,122800185392</td><td>197800185411,13600185373,122800185392</td><td>13600185373</td></tr>\n",
       "<tr><td>9</td><td>49.683589</td><td>-44.025292</td><td>1.64</td><td>18.8175</td><td>--</td><td>--</td><td>--</td><td>--</td><td>--</td></tr>\n",
       "<tr><td>10</td><td>49.767749</td><td>-44.425245</td><td>0.99</td><td>28.543561</td><td>2089000185253</td><td>2089000185253</td><td>2089000185253</td><td>2089000185253</td><td>2089000185253</td></tr>\n",
       "<tr><td>...</td><td>...</td><td>...</td><td>...</td><td>...</td><td>...</td><td>...</td><td>...</td><td>...</td><td>...</td></tr>\n",
       "<tr><td>74493</td><td>71.198378</td><td>-28.136959</td><td>0.5</td><td>8.652656</td><td>761400037338</td><td>761400037338</td><td>761400037338</td><td>761400037338</td><td>761400037338</td></tr>\n",
       "<tr><td>74494</td><td>70.9566</td><td>-27.22175</td><td>0.11</td><td>6.1963769</td><td>105400037411</td><td>105400037411</td><td>105400037411,34800037442,101100037421</td><td>34800037442,101100037421,105400037411</td><td>105400037411</td></tr>\n",
       "<tr><td>74495</td><td>71.412904</td><td>-27.666794</td><td>1.36</td><td>16.832181</td><td>--</td><td>--</td><td>--</td><td>--</td><td>--</td></tr>\n",
       "<tr><td>74496</td><td>71.599534</td><td>-27.756382</td><td>0.91</td><td>22.915251</td><td>2821600037241</td><td>2821600037241</td><td>2821600037241</td><td>2821600037241</td><td>2821600037241</td></tr>\n",
       "<tr><td>74497</td><td>71.254885</td><td>-27.771948</td><td>0.31</td><td>7.0550753</td><td>218000037373</td><td>218000037373</td><td>365700037347,218000037373,428400037347</td><td>365700037347,218000037373,428400037347</td><td>218000037373</td></tr>\n",
       "<tr><td>74498</td><td>71.050854</td><td>-28.216882</td><td>1.22</td><td>22.172314</td><td>2314000047213</td><td>2314000047213</td><td>435000047219,2314000047213</td><td>435000047219,2314000047213</td><td>2314000047213</td></tr>\n",
       "<tr><td>74499</td><td>71.192731</td><td>-27.651959</td><td>2.09</td><td>4.9534575</td><td>--</td><td>--</td><td>--</td><td>--</td><td>--</td></tr>\n",
       "<tr><td>74500</td><td>70.775563</td><td>-27.51132</td><td>1.02</td><td>19.876112</td><td>3419000037224</td><td>3419000037224</td><td>3419000037224,3652600037224</td><td>3419000037224,3652600037224</td><td>3419000037224</td></tr>\n",
       "<tr><td>74501</td><td>70.588166</td><td>-27.755629</td><td>0.69</td><td>12.851159</td><td>1653000047293</td><td>1653000047293</td><td>1096800047266,1653000047293</td><td>1096800047266,1653000047293</td><td>1653000047293</td></tr>\n",
       "<tr><td>74502</td><td>71.266325</td><td>-27.991943</td><td>0.55</td><td>10.040775</td><td>1159400037307</td><td>1159400037307</td><td>773200037338,1159400037307</td><td>773200037338,1159400037307</td><td>1159400037307</td></tr>\n",
       "</table></div>"
      ],
      "text/plain": [
       "<Table length=74502>\n",
       " id_cl    ra_cl   ...    mt_cross  \n",
       "bytes11  float64  ...    bytes13   \n",
       "------- --------- ... -------------\n",
       "      1 49.683452 ...            --\n",
       "      2 49.641694 ...            --\n",
       "      3 49.816505 ...  390100185259\n",
       "      4 49.697499 ...  162800185373\n",
       "      5 49.739429 ...   48100185392\n",
       "      6 49.787948 ...   67800185421\n",
       "      7 49.606663 ... 2881500185171\n",
       "      8 49.613987 ...   13600185373\n",
       "      9 49.683589 ...            --\n",
       "     10 49.767749 ... 2089000185253\n",
       "    ...       ... ...           ...\n",
       "  74493 71.198378 ...  761400037338\n",
       "  74494   70.9566 ...  105400037411\n",
       "  74495 71.412904 ...            --\n",
       "  74496 71.599534 ... 2821600037241\n",
       "  74497 71.254885 ...  218000037373\n",
       "  74498 71.050854 ... 2314000047213\n",
       "  74499 71.192731 ...            --\n",
       "  74500 70.775563 ... 3419000037224\n",
       "  74501 70.588166 ... 1653000047293\n",
       "  74502 71.266325 ... 1159400037307"
      ]
     },
     "execution_count": 46,
     "metadata": {},
     "output_type": "execute_result"
    }
   ],
   "source": [
    "cam2"
   ]
  },
  {
   "cell_type": "code",
   "execution_count": 47,
   "id": "9ee5b68f-7fe3-4701-8741-ce897172b22e",
   "metadata": {},
   "outputs": [],
   "source": [
    "cam2['snr_cl'] = cam['sn']"
   ]
  },
  {
   "cell_type": "code",
   "execution_count": 48,
   "id": "29008264-d771-41a9-84bc-b70c3b76ba49",
   "metadata": {},
   "outputs": [
    {
     "data": {
      "text/html": [
       "<div><i>Table length=74502</i>\n",
       "<table id=\"table140484336368464\" class=\"table-striped table-bordered table-condensed\">\n",
       "<thead><tr><th>id_cl</th><th>ra_cl</th><th>dec_cl</th><th>z_cl</th><th>mass</th><th>mt_self</th><th>mt_other</th><th>mt_multi_self</th><th>mt_multi_other</th><th>mt_cross</th><th>snr_cl</th></tr></thead>\n",
       "<thead><tr><th>bytes11</th><th>float64</th><th>float64</th><th>float32</th><th>float64</th><th>bytes13</th><th>bytes13</th><th>bytes164</th><th>bytes164</th><th>bytes13</th><th>float64</th></tr></thead>\n",
       "<tr><td>1</td><td>49.683452</td><td>-43.655292</td><td>0.26</td><td>22.472449</td><td>--</td><td>--</td><td>--</td><td>--</td><td>--</td><td>5.1690214</td></tr>\n",
       "<tr><td>2</td><td>49.641694</td><td>-44.540292</td><td>1.65</td><td>99.356595</td><td>--</td><td>--</td><td>--</td><td>--</td><td>--</td><td>4.5488049</td></tr>\n",
       "<tr><td>3</td><td>49.816505</td><td>-44.33019</td><td>0.9</td><td>47.409805</td><td>390100185259</td><td>390100185259</td><td>390100185259</td><td>390100185259</td><td>390100185259</td><td>4.2867624</td></tr>\n",
       "<tr><td>4</td><td>49.697499</td><td>-44.030288</td><td>0.33</td><td>23.374818</td><td>162800185373</td><td>162800185373</td><td>409300185347,258600185392,162800185373</td><td>409300185347,258600185392,162800185373</td><td>162800185373</td><td>4.1128689</td></tr>\n",
       "<tr><td>5</td><td>49.739429</td><td>-44.185267</td><td>0.35</td><td>15.409</td><td>48100185392</td><td>48100185392</td><td>513900185365,42000185382,48100185392</td><td>513900185365,42000185382,48100185392</td><td>48100185392</td><td>3.999463</td></tr>\n",
       "<tr><td>6</td><td>49.787948</td><td>-44.050224</td><td>0.15</td><td>23.09391</td><td>67800185421</td><td>67800185421</td><td>76000185392,258600185392,42000185382,67800185421</td><td>258600185392,42000185382,76000185392,67800185421</td><td>67800185421</td><td>3.9704237</td></tr>\n",
       "<tr><td>7</td><td>49.606663</td><td>-44.495281</td><td>1.98</td><td>50.165067</td><td>2881500185171</td><td>2881500185171</td><td>2881500185171</td><td>2881500185171</td><td>2881500185171</td><td>3.9153011</td></tr>\n",
       "<tr><td>8</td><td>49.613987</td><td>-44.105284</td><td>0.27</td><td>23.122551</td><td>13600185373</td><td>13600185373</td><td>197800185411,13600185373,122800185392</td><td>197800185411,13600185373,122800185392</td><td>13600185373</td><td>3.8580094</td></tr>\n",
       "<tr><td>9</td><td>49.683589</td><td>-44.025292</td><td>1.64</td><td>18.8175</td><td>--</td><td>--</td><td>--</td><td>--</td><td>--</td><td>3.6981405</td></tr>\n",
       "<tr><td>10</td><td>49.767749</td><td>-44.425245</td><td>0.99</td><td>28.543561</td><td>2089000185253</td><td>2089000185253</td><td>2089000185253</td><td>2089000185253</td><td>2089000185253</td><td>3.6185385</td></tr>\n",
       "<tr><td>...</td><td>...</td><td>...</td><td>...</td><td>...</td><td>...</td><td>...</td><td>...</td><td>...</td><td>...</td><td>...</td></tr>\n",
       "<tr><td>74493</td><td>71.198378</td><td>-28.136959</td><td>0.5</td><td>8.652656</td><td>761400037338</td><td>761400037338</td><td>761400037338</td><td>761400037338</td><td>761400037338</td><td>3.0151341</td></tr>\n",
       "<tr><td>74494</td><td>70.9566</td><td>-27.22175</td><td>0.11</td><td>6.1963769</td><td>105400037411</td><td>105400037411</td><td>105400037411,34800037442,101100037421</td><td>34800037442,101100037421,105400037411</td><td>105400037411</td><td>3.0130109</td></tr>\n",
       "<tr><td>74495</td><td>71.412904</td><td>-27.666794</td><td>1.36</td><td>16.832181</td><td>--</td><td>--</td><td>--</td><td>--</td><td>--</td><td>3.0121762</td></tr>\n",
       "<tr><td>74496</td><td>71.599534</td><td>-27.756382</td><td>0.91</td><td>22.915251</td><td>2821600037241</td><td>2821600037241</td><td>2821600037241</td><td>2821600037241</td><td>2821600037241</td><td>3.011763</td></tr>\n",
       "<tr><td>74497</td><td>71.254885</td><td>-27.771948</td><td>0.31</td><td>7.0550753</td><td>218000037373</td><td>218000037373</td><td>365700037347,218000037373,428400037347</td><td>365700037347,218000037373,428400037347</td><td>218000037373</td><td>3.0087412</td></tr>\n",
       "<tr><td>74498</td><td>71.050854</td><td>-28.216882</td><td>1.22</td><td>22.172314</td><td>2314000047213</td><td>2314000047213</td><td>435000047219,2314000047213</td><td>435000047219,2314000047213</td><td>2314000047213</td><td>3.0084952</td></tr>\n",
       "<tr><td>74499</td><td>71.192731</td><td>-27.651959</td><td>2.09</td><td>4.9534575</td><td>--</td><td>--</td><td>--</td><td>--</td><td>--</td><td>3.0040342</td></tr>\n",
       "<tr><td>74500</td><td>70.775563</td><td>-27.51132</td><td>1.02</td><td>19.876112</td><td>3419000037224</td><td>3419000037224</td><td>3419000037224,3652600037224</td><td>3419000037224,3652600037224</td><td>3419000037224</td><td>3.0017439</td></tr>\n",
       "<tr><td>74501</td><td>70.588166</td><td>-27.755629</td><td>0.69</td><td>12.851159</td><td>1653000047293</td><td>1653000047293</td><td>1096800047266,1653000047293</td><td>1096800047266,1653000047293</td><td>1653000047293</td><td>3.0017316</td></tr>\n",
       "<tr><td>74502</td><td>71.266325</td><td>-27.991943</td><td>0.55</td><td>10.040775</td><td>1159400037307</td><td>1159400037307</td><td>773200037338,1159400037307</td><td>773200037338,1159400037307</td><td>1159400037307</td><td>3.0000117</td></tr>\n",
       "</table></div>"
      ],
      "text/plain": [
       "<Table length=74502>\n",
       " id_cl    ra_cl     dec_cl   ...    mt_cross     snr_cl \n",
       "bytes11  float64   float64   ...    bytes13     float64 \n",
       "------- --------- ---------- ... ------------- ---------\n",
       "      1 49.683452 -43.655292 ...            -- 5.1690214\n",
       "      2 49.641694 -44.540292 ...            -- 4.5488049\n",
       "      3 49.816505  -44.33019 ...  390100185259 4.2867624\n",
       "      4 49.697499 -44.030288 ...  162800185373 4.1128689\n",
       "      5 49.739429 -44.185267 ...   48100185392  3.999463\n",
       "      6 49.787948 -44.050224 ...   67800185421 3.9704237\n",
       "      7 49.606663 -44.495281 ... 2881500185171 3.9153011\n",
       "      8 49.613987 -44.105284 ...   13600185373 3.8580094\n",
       "      9 49.683589 -44.025292 ...            -- 3.6981405\n",
       "     10 49.767749 -44.425245 ... 2089000185253 3.6185385\n",
       "    ...       ...        ... ...           ...       ...\n",
       "  74493 71.198378 -28.136959 ...  761400037338 3.0151341\n",
       "  74494   70.9566  -27.22175 ...  105400037411 3.0130109\n",
       "  74495 71.412904 -27.666794 ...            -- 3.0121762\n",
       "  74496 71.599534 -27.756382 ... 2821600037241  3.011763\n",
       "  74497 71.254885 -27.771948 ...  218000037373 3.0087412\n",
       "  74498 71.050854 -28.216882 ... 2314000047213 3.0084952\n",
       "  74499 71.192731 -27.651959 ...            -- 3.0040342\n",
       "  74500 70.775563  -27.51132 ... 3419000037224 3.0017439\n",
       "  74501 70.588166 -27.755629 ... 1653000047293 3.0017316\n",
       "  74502 71.266325 -27.991943 ... 1159400037307 3.0000117"
      ]
     },
     "execution_count": 48,
     "metadata": {},
     "output_type": "execute_result"
    }
   ],
   "source": [
    "cam2"
   ]
  },
  {
   "cell_type": "code",
   "execution_count": 50,
   "id": "cdfa0721-bf58-4bd8-9ceb-f5cc9a76dd2c",
   "metadata": {},
   "outputs": [],
   "source": [
    "cam2.write(\"/sps/lsst/groups/clusters/cluster_comparison_project/after_matching/amico.DC2.fzb.magy_cosmoDC2/v0_DC2.masked/proximity_matching_deltaz_0.05_matchradius_1mpc/amico.DC2.fzb.magy.v0.fits\", overwrite = True)"
   ]
  },
  {
   "cell_type": "code",
   "execution_count": 51,
   "id": "bbb9faca-7557-431e-b19d-606e5385f9f9",
   "metadata": {},
   "outputs": [],
   "source": [
    "ccc = Table.read(\"/sps/lsst/groups/clusters/cluster_comparison_project/after_matching/amico.DC2.fzb.magy_cosmoDC2/v0_DC2.masked/proximity_matching_deltaz_0.05_matchradius_1mpc/amico.DC2.fzb.magy.v0.fits\")"
   ]
  },
  {
   "cell_type": "code",
   "execution_count": 52,
   "id": "b85fa3ac-79d9-4fb2-81c4-3094085cb85a",
   "metadata": {},
   "outputs": [
    {
     "data": {
      "text/html": [
       "<div><i>Table length=74502</i>\n",
       "<table id=\"table140483593882496\" class=\"table-striped table-bordered table-condensed\">\n",
       "<thead><tr><th>id_cl</th><th>ra_cl</th><th>dec_cl</th><th>z_cl</th><th>mass</th><th>mt_self</th><th>mt_other</th><th>mt_multi_self</th><th>mt_multi_other</th><th>mt_cross</th><th>snr_cl</th></tr></thead>\n",
       "<thead><tr><th>bytes11</th><th>float64</th><th>float64</th><th>float32</th><th>float64</th><th>bytes13</th><th>bytes13</th><th>bytes164</th><th>bytes164</th><th>bytes13</th><th>float64</th></tr></thead>\n",
       "<tr><td>1</td><td>49.683452</td><td>-43.655292</td><td>0.26</td><td>22.472449</td><td>--</td><td>--</td><td>--</td><td>--</td><td>--</td><td>5.1690214</td></tr>\n",
       "<tr><td>2</td><td>49.641694</td><td>-44.540292</td><td>1.65</td><td>99.356595</td><td>--</td><td>--</td><td>--</td><td>--</td><td>--</td><td>4.5488049</td></tr>\n",
       "<tr><td>3</td><td>49.816505</td><td>-44.33019</td><td>0.9</td><td>47.409805</td><td>390100185259</td><td>390100185259</td><td>390100185259</td><td>390100185259</td><td>390100185259</td><td>4.2867624</td></tr>\n",
       "<tr><td>4</td><td>49.697499</td><td>-44.030288</td><td>0.33</td><td>23.374818</td><td>162800185373</td><td>162800185373</td><td>409300185347,258600185392,162800185373</td><td>409300185347,258600185392,162800185373</td><td>162800185373</td><td>4.1128689</td></tr>\n",
       "<tr><td>5</td><td>49.739429</td><td>-44.185267</td><td>0.35</td><td>15.409</td><td>48100185392</td><td>48100185392</td><td>513900185365,42000185382,48100185392</td><td>513900185365,42000185382,48100185392</td><td>48100185392</td><td>3.999463</td></tr>\n",
       "<tr><td>6</td><td>49.787948</td><td>-44.050224</td><td>0.15</td><td>23.09391</td><td>67800185421</td><td>67800185421</td><td>76000185392,258600185392,42000185382,67800185421</td><td>258600185392,42000185382,76000185392,67800185421</td><td>67800185421</td><td>3.9704237</td></tr>\n",
       "<tr><td>7</td><td>49.606663</td><td>-44.495281</td><td>1.98</td><td>50.165067</td><td>2881500185171</td><td>2881500185171</td><td>2881500185171</td><td>2881500185171</td><td>2881500185171</td><td>3.9153011</td></tr>\n",
       "<tr><td>8</td><td>49.613987</td><td>-44.105284</td><td>0.27</td><td>23.122551</td><td>13600185373</td><td>13600185373</td><td>197800185411,13600185373,122800185392</td><td>197800185411,13600185373,122800185392</td><td>13600185373</td><td>3.8580094</td></tr>\n",
       "<tr><td>9</td><td>49.683589</td><td>-44.025292</td><td>1.64</td><td>18.8175</td><td>--</td><td>--</td><td>--</td><td>--</td><td>--</td><td>3.6981405</td></tr>\n",
       "<tr><td>10</td><td>49.767749</td><td>-44.425245</td><td>0.99</td><td>28.543561</td><td>2089000185253</td><td>2089000185253</td><td>2089000185253</td><td>2089000185253</td><td>2089000185253</td><td>3.6185385</td></tr>\n",
       "<tr><td>...</td><td>...</td><td>...</td><td>...</td><td>...</td><td>...</td><td>...</td><td>...</td><td>...</td><td>...</td><td>...</td></tr>\n",
       "<tr><td>74493</td><td>71.198378</td><td>-28.136959</td><td>0.5</td><td>8.652656</td><td>761400037338</td><td>761400037338</td><td>761400037338</td><td>761400037338</td><td>761400037338</td><td>3.0151341</td></tr>\n",
       "<tr><td>74494</td><td>70.9566</td><td>-27.22175</td><td>0.11</td><td>6.1963769</td><td>105400037411</td><td>105400037411</td><td>105400037411,34800037442,101100037421</td><td>34800037442,101100037421,105400037411</td><td>105400037411</td><td>3.0130109</td></tr>\n",
       "<tr><td>74495</td><td>71.412904</td><td>-27.666794</td><td>1.36</td><td>16.832181</td><td>--</td><td>--</td><td>--</td><td>--</td><td>--</td><td>3.0121762</td></tr>\n",
       "<tr><td>74496</td><td>71.599534</td><td>-27.756382</td><td>0.91</td><td>22.915251</td><td>2821600037241</td><td>2821600037241</td><td>2821600037241</td><td>2821600037241</td><td>2821600037241</td><td>3.011763</td></tr>\n",
       "<tr><td>74497</td><td>71.254885</td><td>-27.771948</td><td>0.31</td><td>7.0550753</td><td>218000037373</td><td>218000037373</td><td>365700037347,218000037373,428400037347</td><td>365700037347,218000037373,428400037347</td><td>218000037373</td><td>3.0087412</td></tr>\n",
       "<tr><td>74498</td><td>71.050854</td><td>-28.216882</td><td>1.22</td><td>22.172314</td><td>2314000047213</td><td>2314000047213</td><td>435000047219,2314000047213</td><td>435000047219,2314000047213</td><td>2314000047213</td><td>3.0084952</td></tr>\n",
       "<tr><td>74499</td><td>71.192731</td><td>-27.651959</td><td>2.09</td><td>4.9534575</td><td>--</td><td>--</td><td>--</td><td>--</td><td>--</td><td>3.0040342</td></tr>\n",
       "<tr><td>74500</td><td>70.775563</td><td>-27.51132</td><td>1.02</td><td>19.876112</td><td>3419000037224</td><td>3419000037224</td><td>3419000037224,3652600037224</td><td>3419000037224,3652600037224</td><td>3419000037224</td><td>3.0017439</td></tr>\n",
       "<tr><td>74501</td><td>70.588166</td><td>-27.755629</td><td>0.69</td><td>12.851159</td><td>1653000047293</td><td>1653000047293</td><td>1096800047266,1653000047293</td><td>1096800047266,1653000047293</td><td>1653000047293</td><td>3.0017316</td></tr>\n",
       "<tr><td>74502</td><td>71.266325</td><td>-27.991943</td><td>0.55</td><td>10.040775</td><td>1159400037307</td><td>1159400037307</td><td>773200037338,1159400037307</td><td>773200037338,1159400037307</td><td>1159400037307</td><td>3.0000117</td></tr>\n",
       "</table></div>"
      ],
      "text/plain": [
       "<Table length=74502>\n",
       " id_cl    ra_cl     dec_cl   ...    mt_cross     snr_cl \n",
       "bytes11  float64   float64   ...    bytes13     float64 \n",
       "------- --------- ---------- ... ------------- ---------\n",
       "      1 49.683452 -43.655292 ...            -- 5.1690214\n",
       "      2 49.641694 -44.540292 ...            -- 4.5488049\n",
       "      3 49.816505  -44.33019 ...  390100185259 4.2867624\n",
       "      4 49.697499 -44.030288 ...  162800185373 4.1128689\n",
       "      5 49.739429 -44.185267 ...   48100185392  3.999463\n",
       "      6 49.787948 -44.050224 ...   67800185421 3.9704237\n",
       "      7 49.606663 -44.495281 ... 2881500185171 3.9153011\n",
       "      8 49.613987 -44.105284 ...   13600185373 3.8580094\n",
       "      9 49.683589 -44.025292 ...            -- 3.6981405\n",
       "     10 49.767749 -44.425245 ... 2089000185253 3.6185385\n",
       "    ...       ...        ... ...           ...       ...\n",
       "  74493 71.198378 -28.136959 ...  761400037338 3.0151341\n",
       "  74494   70.9566  -27.22175 ...  105400037411 3.0130109\n",
       "  74495 71.412904 -27.666794 ...            -- 3.0121762\n",
       "  74496 71.599534 -27.756382 ... 2821600037241  3.011763\n",
       "  74497 71.254885 -27.771948 ...  218000037373 3.0087412\n",
       "  74498 71.050854 -28.216882 ... 2314000047213 3.0084952\n",
       "  74499 71.192731 -27.651959 ...            -- 3.0040342\n",
       "  74500 70.775563  -27.51132 ... 3419000037224 3.0017439\n",
       "  74501 70.588166 -27.755629 ... 1653000047293 3.0017316\n",
       "  74502 71.266325 -27.991943 ... 1159400037307 3.0000117"
      ]
     },
     "execution_count": 52,
     "metadata": {},
     "output_type": "execute_result"
    }
   ],
   "source": [
    "ccc"
   ]
  },
  {
   "cell_type": "code",
   "execution_count": null,
   "id": "1ae536ff-75f2-40c6-9143-cf6f778241f3",
   "metadata": {},
   "outputs": [],
   "source": []
  }
 ],
 "metadata": {
  "kernelspec": {
   "display_name": "desc",
   "language": "python",
   "name": "desc"
  },
  "language_info": {
   "codemirror_mode": {
    "name": "ipython",
    "version": 3
   },
   "file_extension": ".py",
   "mimetype": "text/x-python",
   "name": "python",
   "nbconvert_exporter": "python",
   "pygments_lexer": "ipython3",
   "version": "3.10.8"
  }
 },
 "nbformat": 4,
 "nbformat_minor": 5
}
